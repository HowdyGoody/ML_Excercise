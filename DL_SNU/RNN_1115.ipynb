{
 "cells": [
  {
   "cell_type": "code",
   "execution_count": 3,
   "id": "2b61980d",
   "metadata": {},
   "outputs": [],
   "source": [
    "import numpy as np\n",
    "\n",
    "import tensorflow as tf\n",
    "from tensorflow.keras.layers import Layer\n",
    "from tensorflow.keras import Model\n",
    "## Dense layer 만 써서 RNN 구현\n",
    "from tensorflow.keras.layers import Dense\n",
    "## activation fuction\n",
    "from tensorflow.keras.activations import tanh\n",
    "\n",
    "import time"
   ]
  },
  {
   "cell_type": "code",
   "execution_count": null,
   "id": "a333fe46",
   "metadata": {},
   "outputs": [],
   "source": [
    "!python -m pip show tensorflow\n"
   ]
  },
  {
   "cell_type": "raw",
   "id": "14f3c807",
   "metadata": {},
   "source": [
    "import numpy as np\n",
    "\n",
    "import tensorflow as tf\n",
    "from tensorflow.keras import Layer, Model\n",
    "from tensorflow.keras.layers import Dense\n",
    "from tensorflow.keras.activations import tanh\n",
    "\n",
    "import time"
   ]
  },
  {
   "cell_type": "code",
   "execution_count": 2,
   "id": "ed42b154",
   "metadata": {},
   "outputs": [],
   "source": [
    "def data_generator(n, seq_length=6):\n",
    "    \"\"\"\n",
    "    Args:\n",
    "        seq_length: Length of the adding problem data\n",
    "        n: # of data in the set\n",
    "    \"\"\"\n",
    "    x_num = np.random.uniform(0, 1, (n, 1, seq_length))\n",
    "    x_mask = np.zeros([n, 1, seq_length])\n",
    "    y = np.zeros([n, 1], dtype=np.float32)\n",
    "    for i in range(n):\n",
    "        positions = np.random.choice(seq_length, size=2, replace=False)\n",
    "        x_mask[i, 0, positions[0]] = 1\n",
    "        x_mask[i, 0, positions[1]] = 1\n",
    "        y[i, 0] = x_num[i, 0, positions[0]] + x_num[i, 0, positions[1]]\n",
    "    x = np.concatenate((x_num, x_mask), axis=1)\n",
    "    x = np.transpose(x, (0, 2, 1))\n",
    "    # x.shape = (n,seq_len,2), y.shape=(n,1)\n",
    "    return x, y"
   ]
  },
  {
   "cell_type": "code",
   "execution_count": null,
   "id": "004acf79",
   "metadata": {},
   "outputs": [],
   "source": []
  }
 ],
 "metadata": {
  "kernelspec": {
   "display_name": "Python 3 (ipykernel)",
   "language": "python",
   "name": "python3"
  },
  "language_info": {
   "codemirror_mode": {
    "name": "ipython",
    "version": 3
   },
   "file_extension": ".py",
   "mimetype": "text/x-python",
   "name": "python",
   "nbconvert_exporter": "python",
   "pygments_lexer": "ipython3",
   "version": "3.9.12"
  }
 },
 "nbformat": 4,
 "nbformat_minor": 5
}
