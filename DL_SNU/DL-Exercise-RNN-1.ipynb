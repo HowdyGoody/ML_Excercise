{
 "cells": [
  {
   "cell_type": "code",
   "execution_count": 4,
   "id": "2b61980d",
   "metadata": {},
   "outputs": [],
   "source": [
    "import numpy as np\n",
    "\n",
    "import tensorflow as tf\n",
    "from tensorflow.keras.layers import Layer\n",
    "from tensorflow.keras import Model\n",
    "## Dense layer 만 써서 RNN 구현\n",
    "from tensorflow.keras.layers import Dense\n",
    "## activation fuction\n",
    "from tensorflow.keras.activations import tanh\n",
    "\n",
    "import time"
   ]
  },
  {
   "cell_type": "code",
   "execution_count": 5,
   "id": "a333fe46",
   "metadata": {},
   "outputs": [
    {
     "name": "stdout",
     "output_type": "stream",
     "text": [
      "Name: tensorflow\n",
      "Version: 2.10.0\n",
      "Summary: TensorFlow is an open source machine learning framework for everyone.\n",
      "Home-page: https://www.tensorflow.org/\n",
      "Author: Google Inc.\n",
      "Author-email: packages@tensorflow.org\n",
      "License: Apache 2.0\n",
      "Location: c:\\users\\snuai\\anaconda3\\lib\\site-packages\n",
      "Requires: numpy, protobuf, tensorflow-io-gcs-filesystem, flatbuffers, wrapt, absl-py, astunparse, termcolor, tensorflow-estimator, grpcio, gast, opt-einsum, packaging, libclang, google-pasta, six, h5py, typing-extensions, tensorboard, keras-preprocessing, setuptools, keras\n",
      "Required-by: \n"
     ]
    }
   ],
   "source": [
    "!python -m pip show tensorflow\n"
   ]
  },
  {
   "cell_type": "raw",
   "id": "6e1a5072",
   "metadata": {},
   "source": []
  },
  {
   "cell_type": "code",
   "execution_count": 7,
   "id": "ed42b154",
   "metadata": {},
   "outputs": [],
   "source": [
    "def data_generator(n, seq_length=6):\n",
    "    \"\"\"\n",
    "    Args:\n",
    "        seq_length: Length of the adding problem data\n",
    "        n: # of data in the set\n",
    "    \"\"\"\n",
    "    x_num = np.random.uniform(0, 1, (n, 1, seq_length))\n",
    "    x_mask = np.zeros([n, 1, seq_length])\n",
    "    y = np.zeros([n, 1], dtype=np.float32)\n",
    "    for i in range(n):\n",
    "        positions = np.random.choice(seq_length, size=2, replace=False)\n",
    "        x_mask[i, 0, positions[0]] = 1\n",
    "        x_mask[i, 0, positions[1]] = 1\n",
    "        y[i, 0] = x_num[i, 0, positions[0]] + x_num[i, 0, positions[1]]\n",
    "    x = np.concatenate((x_num, x_mask), axis=1)\n",
    "    x = np.transpose(x, (0, 2, 1))\n",
    "    # x.shape = (n,seq_len,2), y.shape=(n,1)\n",
    "    return x, y"
   ]
  },
  {
   "cell_type": "code",
   "execution_count": 8,
   "id": "004acf79",
   "metadata": {},
   "outputs": [
    {
     "name": "stdout",
     "output_type": "stream",
     "text": [
      "(array([[[0.18503954, 0.        ],\n",
      "        [0.0458993 , 1.        ],\n",
      "        [0.64567083, 0.        ],\n",
      "        [0.50024285, 0.        ],\n",
      "        [0.41081737, 0.        ],\n",
      "        [0.07546722, 1.        ]]]), array([[0.12136652]], dtype=float32))\n"
     ]
    }
   ],
   "source": [
    "## col 0 : 더할 값 \n",
    "## col 1 : 더할건지 말건지 결정\n",
    "\n",
    "print(data_generator(1))\n"
   ]
  },
  {
   "cell_type": "code",
   "execution_count": 9,
   "id": "36513b1e",
   "metadata": {},
   "outputs": [
    {
     "name": "stdout",
     "output_type": "stream",
     "text": [
      "Producing data...\n",
      "train_data.shape: (100000, 6, 2) , train_labels.shape: (100000, 1)\n"
     ]
    }
   ],
   "source": [
    "seq_length = 6 \n",
    "\n",
    "print(\"Producing data...\")\n",
    "train_data, train_labels = data_generator(100000, seq_length)\n",
    "print(\"train_data.shape:\", train_data.shape, \", train_labels.shape:\", train_labels.shape)\n",
    "\n",
    "## numpy 를 tensorflow 에서 사용하는 객체로 변환\n",
    "train_dataset = tf.data.Dataset.from_tensor_slices((train_data, train_labels))\n",
    "\n",
    "test_data, test_labels = data_generator(1000, seq_length)\n",
    "test_data, test_labels = tf.convert_to_tensor(test_data), tf.convert_to_tensor(test_labels)"
   ]
  },
  {
   "cell_type": "code",
   "execution_count": null,
   "id": "5e97151e",
   "metadata": {},
   "outputs": [],
   "source": []
  }
 ],
 "metadata": {
  "kernelspec": {
   "display_name": "Python 3 (ipykernel)",
   "language": "python",
   "name": "python3"
  },
  "language_info": {
   "codemirror_mode": {
    "name": "ipython",
    "version": 3
   },
   "file_extension": ".py",
   "mimetype": "text/x-python",
   "name": "python",
   "nbconvert_exporter": "python",
   "pygments_lexer": "ipython3",
   "version": "3.9.12"
  }
 },
 "nbformat": 4,
 "nbformat_minor": 5
}
