{
 "cells": [
  {
   "cell_type": "code",
   "execution_count": 1,
   "id": "1ab18712",
   "metadata": {},
   "outputs": [],
   "source": [
    "import numpy as np\n",
    "\n",
    "## dataset objection 로 별도로 변환해 줄 필요 없음\n",
    "import tensorflow_datasets as tfds\n",
    "import tensorflow as tf\n",
    "\n",
    "tfds.disable_progress_bar()"
   ]
  },
  {
   "cell_type": "code",
   "execution_count": 2,
   "id": "603798cd",
   "metadata": {},
   "outputs": [],
   "source": [
    "import matplotlib.pyplot as plt\n",
    "\n",
    "def plot_graphs(history, metric):\n",
    "  plt.plot(history.history[metric])\n",
    "  plt.plot(history.history['val_'+metric], '')\n",
    "  plt.xlabel(\"Epochs\")\n",
    "  plt.ylabel(metric)\n",
    "  plt.legend([metric, 'val_'+metric])"
   ]
  },
  {
   "cell_type": "code",
   "execution_count": 3,
   "id": "60e2bb8e",
   "metadata": {},
   "outputs": [
    {
     "name": "stdout",
     "output_type": "stream",
     "text": [
      "Downloading and preparing dataset Unknown size (download: Unknown size, generated: Unknown size, total: Unknown size) to C:\\Users\\SNUAI\\tensorflow_datasets\\imdb_reviews\\plain_text\\1.0.0...\n",
      "Dataset imdb_reviews downloaded and prepared to C:\\Users\\SNUAI\\tensorflow_datasets\\imdb_reviews\\plain_text\\1.0.0. Subsequent calls will reuse this data.\n"
     ]
    },
    {
     "data": {
      "text/plain": [
       "(TensorSpec(shape=(), dtype=tf.string, name=None),\n",
       " TensorSpec(shape=(), dtype=tf.int64, name=None))"
      ]
     },
     "execution_count": 3,
     "metadata": {},
     "output_type": "execute_result"
    }
   ],
   "source": [
    "dataset, info = tfds.load('imdb_reviews', with_info=True,\n",
    "                          as_supervised=True)\n",
    "train_dataset, test_dataset = dataset['train'], dataset['test']\n",
    "\n",
    "train_dataset.element_spec"
   ]
  },
  {
   "cell_type": "code",
   "execution_count": 4,
   "id": "102bbbad",
   "metadata": {},
   "outputs": [
    {
     "name": "stdout",
     "output_type": "stream",
     "text": [
      "text:  b\"This was an absolutely terrible movie. Don't be lured in by Christopher Walken or Michael Ironside. Both are great actors, but this must simply be their worst role in history. Even their great acting could not redeem this movie's ridiculous storyline. This movie is an early nineties US propaganda piece. The most pathetic scenes were those when the Columbian rebels were making their cases for revolutions. Maria Conchita Alonso appeared phony, and her pseudo-love affair with Walken was nothing but a pathetic emotional plug in a movie that was devoid of any real meaning. I am disappointed that there are movies like this, ruining actor's like Christopher Walken's good name. I could barely sit through it.\"\n",
      "label:  0\n"
     ]
    }
   ],
   "source": [
    "for example, label in train_dataset.take(1):\n",
    "  print('text: ', example.numpy())\n",
    "  print('label: ', label.numpy())"
   ]
  },
  {
   "cell_type": "code",
   "execution_count": 10,
   "id": "f9903a97",
   "metadata": {},
   "outputs": [],
   "source": [
    "BUFFER_SIZE = 10000\n",
    "BATCH_SIZE = 64\n",
    "\n",
    "train_dataset = train_dataset.shuffle(BUFFER_SIZE).batch(BATCH_SIZE).prefetch(tf.data.experimental.AUTOTUNE)\n",
    "test_dataset = test_dataset.batch(BATCH_SIZE).prefetch(tf.data.experimental.AUTOTUNE)"
   ]
  },
  {
   "cell_type": "code",
   "execution_count": 11,
   "id": "c60a97a9",
   "metadata": {},
   "outputs": [
    {
     "name": "stdout",
     "output_type": "stream",
     "text": [
      "texts:  [b\"There is a bit of trivia which should be pointed out about a scene early in the movie where Homer watches the attempt of December 6, 1957 (at least that was the video used on the TV he was watching) which showed the Vangard launch attempt, which failed.<br /><br />He is next shown reading or dictating a letter to Dr. Von Braun offering condolences about the failure.<br /><br />Von Braun was at Marshall space flight center in Huntsville working for the Army. The Vanguard project was by the early Nasa team which was at what soon became Goddard Space flight center.<br /><br />The army rushed the Jupiter-C, which was essentially a US made V2 technology, but worked to launch a satellite in response to Russia's success with Sputnik.<br /><br />This error may have actually been made by Homer, because of the notoriety of Von Braun, but his team didn't have their attempt fail. In fact the underlying Redstone was flying from 52 and was the first US man rated booster, used for Shepard's sub orbital flight, as well as Grissom's.<br /><br />This is why this sort of movie is so good, as it hopefully will inspire people to read up and spot these bits of trivia, and in the process see what has been done, and be inspired to do more.\"\n",
      " b'There is this private campground in Plymouth, Massachusetts, that\\'s been around since 1959. My grandparents were among its founders, my parents had a site starting in 1965, and my two brothers have sites there now.<br /><br />(This doesn\\'t have anything directly to do with the movie; bear with me.) <br /><br />I spent summers at Blueberry Hill from when I was five years old to when I was eighteen, and it is to people like me to whom this film speaks: the ones for whom a group camp in the woods was, as my fianc\\xc3\\xa9e tells of me, \"the good and happy place.\" If you\\'ve never experienced the lifestyle, Indian Summer will probably be lost on you; don\\'t bother. It\\'s not quick-paced, it doesn\\'t have rapid cuts, the plots aren\\'t in the least bit convoluted, it has no explosions, such dramatic tension as exists is mild, there aren\\'t any A-list actors, there are no rapid-fire quips just to show off how clever the scriptwriters are (other than, perhaps, Kimberley Williams\\' killer line about how her fianc\\xc3\\xa9 shouldn\\'t \"overwind his toys.\" That is not the least degree what this movie is about, any more than The Godfather is a slasher flick just because it has a lot of on screen gore.<br /><br />But Indian Summer is Godfather\\'s polar opposite. If you have experienced the lifestyle, see this movie. Don\\'t read any more, just do it.<br /><br />For me, this is a 9/10 film.'\n",
      " b'Bravo! Morgan Freeman is an actor, who researches a character he is selected to play, before he makes a commitment. Freeman is a \\'good fit\\' for this film (like he was for \"Driving Miss Daisy\"), and he is not only believable, but he gets a chance to change his image of playing a character with reserved dignity and propriety. Although there are no guarantees in life, for anyone, this gives an actor a great opportunity to play different or unique characters that stand out, in order to avoid getting stereotyping. And it must be said that stereotyping has hampered, or completely ruined, a significant number of acting careers.<br /><br />This is a low-budget film that, amazingly, was made in a time span of only two weeks. It is a film that is well directed and written by Brad Silberling. The location manager chose Carson, CA for the film\\'s setting, and the location helps set the tone and timing for the film. The editing is fair to good, but a little rough.<br /><br />Silberling was the \\'subcontractor\\', in getting Freeman to do this film, while the actor was in-between film projects.<br /><br />There is a good chemistry between Freeman and Paz Vega, a Spanish actress, and this opens an effective dialog between each of the cast members, who are diverse and come from different cultures. The film also encourages an understanding between people, who not only speak two languages (English and Spanish), but come from two different worlds of ethnicity, race, gender, norms, mores, beliefs, folkways, principles, and values. The film strives for some honesty, and arrives at some truth, to maintain the film\\'s integrity.<br /><br />Part of the comedy is that Freeman plays an unemployed actor that has been out of work for four years. In truth, Freeman is so-in-demand as an actor that he is constantly working.<br /><br />The film offers an adventure of bonding, caring, sharing, changing, and exchanging. And, the film\\'s outtakes give the viewer a preview of some of things an actor must go through in preparing for a role.<br /><br />If necessary, tell your boss that you\\'re taking a \\'mental health day\\', and go see this film. If you\\'re able, take your significant other or your family with you. I rank the film a 10 out of 10. It\\'s enjoyable, interesting, informative, poignant, and worthwhile.']\n",
      "\n",
      "labels:  [1 1 1]\n"
     ]
    }
   ],
   "source": [
    "## 배치를 가져와서 첫 세 개 확인\n",
    "for example, label in train_dataset.take(1):\n",
    "  print('texts: ', example.numpy()[:3])\n",
    "  print()\n",
    "  print('labels: ', label.numpy()[:3])"
   ]
  },
  {
   "cell_type": "code",
   "execution_count": 13,
   "id": "9dfffbaf",
   "metadata": {},
   "outputs": [],
   "source": [
    "## IMDB 에 많은 vocab 이 있음 --> 모두 pos/neg 분류에 사용되지는 않음 (ex 영화 제목, 감독 이름 등)\n",
    "## 자주 등장하는 일부 vocab 만 분류에 사용한다. \n",
    "VOCAB_SIZE=1000\n",
    "## 자주 안 나오는 vocab 은 none 처리\n",
    "encoder = tf.keras.layers.experimental.preprocessing.TextVectorization(\n",
    "    max_tokens=VOCAB_SIZE)\n",
    "## encoding 가능하도록 내용 파악\n",
    "## The vocabulary for the layer must be either supplied on construction or learned via adapt(). When this layer is adapted, it will analyze the\n",
    "## dataset, determine the frequency of individual string values, and create a\n",
    "## vocabulary from them.  --  https://www.tensorflow.org/api_docs/python/tf/keras/layers/TextVectorization\n",
    "\n",
    "encoder.adapt(train_dataset.map(lambda text, label: text))\n",
    "## 단어들로 이루어진 dictionary 생성"
   ]
  },
  {
   "cell_type": "code",
   "execution_count": 22,
   "id": "1bc727db",
   "metadata": {
    "scrolled": true
   },
   "outputs": [
    {
     "name": "stdout",
     "output_type": "stream",
     "text": [
      "['' '[UNK]' 'the' 'and' 'a' 'of' 'to' 'is' 'in' 'it' 'i' 'this' 'that'\n",
      " 'br' 'was' 'as' 'for' 'with' 'movie' 'but']\n",
      "['manages' 'ideas' 'expecting' 'jane' 'fails' 'deserves' 'present'\n",
      " 'political' 'missing' 'attempts' 'twist' 'secret' 'fire' 'dumb' 'unlike'\n",
      " 'fighting' 'fantasy' 'pay' 'air']\n"
     ]
    }
   ],
   "source": [
    "vocab = np.array(encoder.get_vocabulary())\n",
    "\n",
    "## Frequency 가 높은 순서대로 나옴\n",
    "print(vocab[:20])\n",
    "print(vocab[-20:-1])"
   ]
  },
  {
   "cell_type": "code",
   "execution_count": 23,
   "id": "804cb242",
   "metadata": {},
   "outputs": [
    {
     "data": {
      "text/plain": [
       "array([[48,  7,  4, ...,  0,  0,  0],\n",
       "       [48,  7, 11, ...,  0,  0,  0],\n",
       "       [ 1,  1,  1, ...,  0,  0,  0]], dtype=int64)"
      ]
     },
     "execution_count": 23,
     "metadata": {},
     "output_type": "execute_result"
    }
   ],
   "source": [
    "## integer 로 만듬\n",
    "## 아래 보면 문장이 0 0 0 으로 끝나고 있음\n",
    "## 자연어의 sequence 길이는 각기 다르기 때문에 한 배치로 묶어 사용하려면, \n",
    "## 배치 내 가장 긴 문장 기준으로 길이를 맞추어 zero padding\n",
    "encoded_example = encoder(example)[:3].numpy()\n",
    "encoded_example"
   ]
  },
  {
   "cell_type": "code",
   "execution_count": 24,
   "id": "8858b907",
   "metadata": {},
   "outputs": [
    {
     "name": "stdout",
     "output_type": "stream",
     "text": [
      "Original:  b\"There is a bit of trivia which should be pointed out about a scene early in the movie where Homer watches the attempt of December 6, 1957 (at least that was the video used on the TV he was watching) which showed the Vangard launch attempt, which failed.<br /><br />He is next shown reading or dictating a letter to Dr. Von Braun offering condolences about the failure.<br /><br />Von Braun was at Marshall space flight center in Huntsville working for the Army. The Vanguard project was by the early Nasa team which was at what soon became Goddard Space flight center.<br /><br />The army rushed the Jupiter-C, which was essentially a US made V2 technology, but worked to launch a satellite in response to Russia's success with Sputnik.<br /><br />This error may have actually been made by Homer, because of the notoriety of Von Braun, but his team didn't have their attempt fail. In fact the underlying Redstone was flying from 52 and was the first US man rated booster, used for Shepard's sub orbital flight, as well as Grissom's.<br /><br />This is why this sort of movie is so good, as it hopefully will inspire people to read up and spot these bits of trivia, and in the process see what has been done, and be inspired to do more.\"\n",
      "Round-trip:  there is a bit of [UNK] which should be [UNK] out about a scene early in the movie where [UNK] [UNK] the attempt of [UNK] [UNK] [UNK] at least that was the video used on the tv he was watching which [UNK] the [UNK] [UNK] attempt which [UNK] br he is next shown reading or [UNK] a [UNK] to dr [UNK] [UNK] [UNK] [UNK] about the [UNK] br [UNK] [UNK] was at [UNK] space [UNK] [UNK] in [UNK] working for the [UNK] the [UNK] [UNK] was by the early [UNK] team which was at what soon became [UNK] space [UNK] [UNK] br the [UNK] [UNK] the [UNK] which was [UNK] a us made [UNK] [UNK] but worked to [UNK] a [UNK] in [UNK] to [UNK] [UNK] with [UNK] br this [UNK] may have actually been made by [UNK] because of the [UNK] of [UNK] [UNK] but his team didnt have their attempt [UNK] in fact the [UNK] [UNK] was [UNK] from [UNK] and was the first us man [UNK] [UNK] used for [UNK] [UNK] [UNK] [UNK] as well as [UNK] br this is why this sort of movie is so good as it [UNK] will [UNK] people to read up and [UNK] these [UNK] of [UNK] and in the [UNK] see what has been done and be [UNK] to do more                                                                                                                                                                                                                                                                                                                                                                                                                                                                                                                                                                                                                                                                                                                                                                                                    \n",
      "\n",
      "Original:  b'There is this private campground in Plymouth, Massachusetts, that\\'s been around since 1959. My grandparents were among its founders, my parents had a site starting in 1965, and my two brothers have sites there now.<br /><br />(This doesn\\'t have anything directly to do with the movie; bear with me.) <br /><br />I spent summers at Blueberry Hill from when I was five years old to when I was eighteen, and it is to people like me to whom this film speaks: the ones for whom a group camp in the woods was, as my fianc\\xc3\\xa9e tells of me, \"the good and happy place.\" If you\\'ve never experienced the lifestyle, Indian Summer will probably be lost on you; don\\'t bother. It\\'s not quick-paced, it doesn\\'t have rapid cuts, the plots aren\\'t in the least bit convoluted, it has no explosions, such dramatic tension as exists is mild, there aren\\'t any A-list actors, there are no rapid-fire quips just to show off how clever the scriptwriters are (other than, perhaps, Kimberley Williams\\' killer line about how her fianc\\xc3\\xa9 shouldn\\'t \"overwind his toys.\" That is not the least degree what this movie is about, any more than The Godfather is a slasher flick just because it has a lot of on screen gore.<br /><br />But Indian Summer is Godfather\\'s polar opposite. If you have experienced the lifestyle, see this movie. Don\\'t read any more, just do it.<br /><br />For me, this is a 9/10 film.'\n",
      "Round-trip:  there is this [UNK] [UNK] in [UNK] [UNK] thats been around since [UNK] my [UNK] were among its [UNK] my parents had a [UNK] [UNK] in [UNK] and my two brothers have [UNK] there [UNK] br this doesnt have anything [UNK] to do with the movie [UNK] with me br br i [UNK] [UNK] at [UNK] [UNK] from when i was five years old to when i was [UNK] and it is to people like me to whom this film [UNK] the ones for whom a group [UNK] in the [UNK] was as my [UNK] tells of me the good and happy place if youve never [UNK] the [UNK] [UNK] [UNK] will probably be lost on you dont [UNK] its not [UNK] it doesnt have [UNK] [UNK] the [UNK] arent in the least bit [UNK] it has no [UNK] such dramatic [UNK] as [UNK] is [UNK] there arent any [UNK] actors there are no [UNK] [UNK] just to show off how [UNK] the [UNK] are other than perhaps [UNK] [UNK] killer line about how her [UNK] [UNK] [UNK] his [UNK] that is not the least [UNK] what this movie is about any more than the [UNK] is a [UNK] flick just because it has a lot of on screen [UNK] br but [UNK] [UNK] is [UNK] [UNK] [UNK] if you have [UNK] the [UNK] see this movie dont read any more just do itbr br for me this is a [UNK] film                                                                                                                                                                                                                                                                                                                                                                                                                                                                                                                                                                                                                                                                                                                                                                               \n",
      "\n",
      "Original:  b'Bravo! Morgan Freeman is an actor, who researches a character he is selected to play, before he makes a commitment. Freeman is a \\'good fit\\' for this film (like he was for \"Driving Miss Daisy\"), and he is not only believable, but he gets a chance to change his image of playing a character with reserved dignity and propriety. Although there are no guarantees in life, for anyone, this gives an actor a great opportunity to play different or unique characters that stand out, in order to avoid getting stereotyping. And it must be said that stereotyping has hampered, or completely ruined, a significant number of acting careers.<br /><br />This is a low-budget film that, amazingly, was made in a time span of only two weeks. It is a film that is well directed and written by Brad Silberling. The location manager chose Carson, CA for the film\\'s setting, and the location helps set the tone and timing for the film. The editing is fair to good, but a little rough.<br /><br />Silberling was the \\'subcontractor\\', in getting Freeman to do this film, while the actor was in-between film projects.<br /><br />There is a good chemistry between Freeman and Paz Vega, a Spanish actress, and this opens an effective dialog between each of the cast members, who are diverse and come from different cultures. The film also encourages an understanding between people, who not only speak two languages (English and Spanish), but come from two different worlds of ethnicity, race, gender, norms, mores, beliefs, folkways, principles, and values. The film strives for some honesty, and arrives at some truth, to maintain the film\\'s integrity.<br /><br />Part of the comedy is that Freeman plays an unemployed actor that has been out of work for four years. In truth, Freeman is so-in-demand as an actor that he is constantly working.<br /><br />The film offers an adventure of bonding, caring, sharing, changing, and exchanging. And, the film\\'s outtakes give the viewer a preview of some of things an actor must go through in preparing for a role.<br /><br />If necessary, tell your boss that you\\'re taking a \\'mental health day\\', and go see this film. If you\\'re able, take your significant other or your family with you. I rank the film a 10 out of 10. It\\'s enjoyable, interesting, informative, poignant, and worthwhile.'\n",
      "Round-trip:  [UNK] [UNK] [UNK] is an actor who [UNK] a character he is [UNK] to play before he makes a [UNK] [UNK] is a good [UNK] for this film like he was for [UNK] miss [UNK] and he is not only believable but he gets a chance to change his [UNK] of playing a character with [UNK] [UNK] and [UNK] although there are no [UNK] in life for anyone this gives an actor a great [UNK] to play different or unique characters that stand out in order to avoid getting [UNK] and it must be said that [UNK] has [UNK] or completely [UNK] a [UNK] number of acting [UNK] br this is a [UNK] film that [UNK] was made in a time [UNK] of only two [UNK] it is a film that is well directed and written by [UNK] [UNK] the [UNK] [UNK] [UNK] [UNK] [UNK] for the films setting and the [UNK] [UNK] set the [UNK] and [UNK] for the film the editing is [UNK] to good but a little [UNK] br [UNK] was the [UNK] in getting [UNK] to do this film while the actor was [UNK] film [UNK] br there is a good [UNK] between [UNK] and [UNK] [UNK] a [UNK] actress and this [UNK] an [UNK] dialog between each of the cast [UNK] who are [UNK] and come from different [UNK] the film also [UNK] an [UNK] between people who not only [UNK] two [UNK] english and [UNK] but come from two different [UNK] of [UNK] [UNK] [UNK] [UNK] [UNK] [UNK] [UNK] [UNK] and [UNK] the film [UNK] for some [UNK] and [UNK] at some truth to [UNK] the films [UNK] br part of the comedy is that [UNK] plays an [UNK] actor that has been out of work for four years in truth [UNK] is [UNK] as an actor that he is [UNK] [UNK] br the film [UNK] an [UNK] of [UNK] [UNK] [UNK] [UNK] and [UNK] and the films [UNK] give the viewer a [UNK] of some of things an actor must go through in [UNK] for a [UNK] br if [UNK] tell your [UNK] that youre taking a [UNK] [UNK] day and go see this film if youre able take your [UNK] other or your family with you i [UNK] the film a 10 out of 10 its enjoyable interesting [UNK] [UNK] and [UNK]                                                                                                                                                                                                                                                                                                                                                                                                                                                                                                                                                                                                                           \n",
      "\n"
     ]
    }
   ],
   "source": [
    "## 비교해서 어떤 부분이 바뀌었는지 확인해 본다.\n",
    "for n in range(3):\n",
    "  print(\"Original: \", example[n].numpy())\n",
    "  print(\"Round-trip: \", \" \".join(vocab[encoded_example[n]]))\n",
    "  print()"
   ]
  },
  {
   "cell_type": "code",
   "execution_count": 29,
   "id": "ec243e8c",
   "metadata": {},
   "outputs": [
    {
     "name": "stdout",
     "output_type": "stream",
     "text": [
      "=====================================\n",
      "Original:  tf.Tensor(b\"There is a bit of trivia which should be pointed out about a scene early in the movie where Homer watches the attempt of December 6, 1957 (at least that was the video used on the TV he was watching) which showed the Vangard launch attempt, which failed.<br /><br />He is next shown reading or dictating a letter to Dr. Von Braun offering condolences about the failure.<br /><br />Von Braun was at Marshall space flight center in Huntsville working for the Army. The Vanguard project was by the early Nasa team which was at what soon became Goddard Space flight center.<br /><br />The army rushed the Jupiter-C, which was essentially a US made V2 technology, but worked to launch a satellite in response to Russia's success with Sputnik.<br /><br />This error may have actually been made by Homer, because of the notoriety of Von Braun, but his team didn't have their attempt fail. In fact the underlying Redstone was flying from 52 and was the first US man rated booster, used for Shepard's sub orbital flight, as well as Grissom's.<br /><br />This is why this sort of movie is so good, as it hopefully will inspire people to read up and spot these bits of trivia, and in the process see what has been done, and be inspired to do more.\", shape=(), dtype=string)\n",
      "Original:  b\"There is a bit of trivia which should be pointed out about a scene early in the movie where Homer watches the attempt of December 6, 1957 (at least that was the video used on the TV he was watching) which showed the Vangard launch attempt, which failed.<br /><br />He is next shown reading or dictating a letter to Dr. Von Braun offering condolences about the failure.<br /><br />Von Braun was at Marshall space flight center in Huntsville working for the Army. The Vanguard project was by the early Nasa team which was at what soon became Goddard Space flight center.<br /><br />The army rushed the Jupiter-C, which was essentially a US made V2 technology, but worked to launch a satellite in response to Russia's success with Sputnik.<br /><br />This error may have actually been made by Homer, because of the notoriety of Von Braun, but his team didn't have their attempt fail. In fact the underlying Redstone was flying from 52 and was the first US man rated booster, used for Shepard's sub orbital flight, as well as Grissom's.<br /><br />This is why this sort of movie is so good, as it hopefully will inspire people to read up and spot these bits of trivia, and in the process see what has been done, and be inspired to do more.\"\n",
      "=====================================\n",
      "Original:  tf.Tensor(b'There is this private campground in Plymouth, Massachusetts, that\\'s been around since 1959. My grandparents were among its founders, my parents had a site starting in 1965, and my two brothers have sites there now.<br /><br />(This doesn\\'t have anything directly to do with the movie; bear with me.) <br /><br />I spent summers at Blueberry Hill from when I was five years old to when I was eighteen, and it is to people like me to whom this film speaks: the ones for whom a group camp in the woods was, as my fianc\\xc3\\xa9e tells of me, \"the good and happy place.\" If you\\'ve never experienced the lifestyle, Indian Summer will probably be lost on you; don\\'t bother. It\\'s not quick-paced, it doesn\\'t have rapid cuts, the plots aren\\'t in the least bit convoluted, it has no explosions, such dramatic tension as exists is mild, there aren\\'t any A-list actors, there are no rapid-fire quips just to show off how clever the scriptwriters are (other than, perhaps, Kimberley Williams\\' killer line about how her fianc\\xc3\\xa9 shouldn\\'t \"overwind his toys.\" That is not the least degree what this movie is about, any more than The Godfather is a slasher flick just because it has a lot of on screen gore.<br /><br />But Indian Summer is Godfather\\'s polar opposite. If you have experienced the lifestyle, see this movie. Don\\'t read any more, just do it.<br /><br />For me, this is a 9/10 film.', shape=(), dtype=string)\n",
      "Original:  b'There is this private campground in Plymouth, Massachusetts, that\\'s been around since 1959. My grandparents were among its founders, my parents had a site starting in 1965, and my two brothers have sites there now.<br /><br />(This doesn\\'t have anything directly to do with the movie; bear with me.) <br /><br />I spent summers at Blueberry Hill from when I was five years old to when I was eighteen, and it is to people like me to whom this film speaks: the ones for whom a group camp in the woods was, as my fianc\\xc3\\xa9e tells of me, \"the good and happy place.\" If you\\'ve never experienced the lifestyle, Indian Summer will probably be lost on you; don\\'t bother. It\\'s not quick-paced, it doesn\\'t have rapid cuts, the plots aren\\'t in the least bit convoluted, it has no explosions, such dramatic tension as exists is mild, there aren\\'t any A-list actors, there are no rapid-fire quips just to show off how clever the scriptwriters are (other than, perhaps, Kimberley Williams\\' killer line about how her fianc\\xc3\\xa9 shouldn\\'t \"overwind his toys.\" That is not the least degree what this movie is about, any more than The Godfather is a slasher flick just because it has a lot of on screen gore.<br /><br />But Indian Summer is Godfather\\'s polar opposite. If you have experienced the lifestyle, see this movie. Don\\'t read any more, just do it.<br /><br />For me, this is a 9/10 film.'\n",
      "=====================================\n",
      "Original:  tf.Tensor(b'Bravo! Morgan Freeman is an actor, who researches a character he is selected to play, before he makes a commitment. Freeman is a \\'good fit\\' for this film (like he was for \"Driving Miss Daisy\"), and he is not only believable, but he gets a chance to change his image of playing a character with reserved dignity and propriety. Although there are no guarantees in life, for anyone, this gives an actor a great opportunity to play different or unique characters that stand out, in order to avoid getting stereotyping. And it must be said that stereotyping has hampered, or completely ruined, a significant number of acting careers.<br /><br />This is a low-budget film that, amazingly, was made in a time span of only two weeks. It is a film that is well directed and written by Brad Silberling. The location manager chose Carson, CA for the film\\'s setting, and the location helps set the tone and timing for the film. The editing is fair to good, but a little rough.<br /><br />Silberling was the \\'subcontractor\\', in getting Freeman to do this film, while the actor was in-between film projects.<br /><br />There is a good chemistry between Freeman and Paz Vega, a Spanish actress, and this opens an effective dialog between each of the cast members, who are diverse and come from different cultures. The film also encourages an understanding between people, who not only speak two languages (English and Spanish), but come from two different worlds of ethnicity, race, gender, norms, mores, beliefs, folkways, principles, and values. The film strives for some honesty, and arrives at some truth, to maintain the film\\'s integrity.<br /><br />Part of the comedy is that Freeman plays an unemployed actor that has been out of work for four years. In truth, Freeman is so-in-demand as an actor that he is constantly working.<br /><br />The film offers an adventure of bonding, caring, sharing, changing, and exchanging. And, the film\\'s outtakes give the viewer a preview of some of things an actor must go through in preparing for a role.<br /><br />If necessary, tell your boss that you\\'re taking a \\'mental health day\\', and go see this film. If you\\'re able, take your significant other or your family with you. I rank the film a 10 out of 10. It\\'s enjoyable, interesting, informative, poignant, and worthwhile.', shape=(), dtype=string)\n",
      "Original:  b'Bravo! Morgan Freeman is an actor, who researches a character he is selected to play, before he makes a commitment. Freeman is a \\'good fit\\' for this film (like he was for \"Driving Miss Daisy\"), and he is not only believable, but he gets a chance to change his image of playing a character with reserved dignity and propriety. Although there are no guarantees in life, for anyone, this gives an actor a great opportunity to play different or unique characters that stand out, in order to avoid getting stereotyping. And it must be said that stereotyping has hampered, or completely ruined, a significant number of acting careers.<br /><br />This is a low-budget film that, amazingly, was made in a time span of only two weeks. It is a film that is well directed and written by Brad Silberling. The location manager chose Carson, CA for the film\\'s setting, and the location helps set the tone and timing for the film. The editing is fair to good, but a little rough.<br /><br />Silberling was the \\'subcontractor\\', in getting Freeman to do this film, while the actor was in-between film projects.<br /><br />There is a good chemistry between Freeman and Paz Vega, a Spanish actress, and this opens an effective dialog between each of the cast members, who are diverse and come from different cultures. The film also encourages an understanding between people, who not only speak two languages (English and Spanish), but come from two different worlds of ethnicity, race, gender, norms, mores, beliefs, folkways, principles, and values. The film strives for some honesty, and arrives at some truth, to maintain the film\\'s integrity.<br /><br />Part of the comedy is that Freeman plays an unemployed actor that has been out of work for four years. In truth, Freeman is so-in-demand as an actor that he is constantly working.<br /><br />The film offers an adventure of bonding, caring, sharing, changing, and exchanging. And, the film\\'s outtakes give the viewer a preview of some of things an actor must go through in preparing for a role.<br /><br />If necessary, tell your boss that you\\'re taking a \\'mental health day\\', and go see this film. If you\\'re able, take your significant other or your family with you. I rank the film a 10 out of 10. It\\'s enjoyable, interesting, informative, poignant, and worthwhile.'\n"
     ]
    }
   ],
   "source": [
    "for n in range(3):\n",
    "  print(\"=====================================\")    \n",
    "  print(\"Original: \", example[n])\n",
    "  print(\"Original: \", example[n].numpy())\n"
   ]
  },
  {
   "cell_type": "code",
   "execution_count": 30,
   "id": "d4e5cf35",
   "metadata": {},
   "outputs": [],
   "source": [
    "model = tf.keras.Sequential([\n",
    "  # First layer is the encoder\n",
    "    encoder,\n",
    "  # Add embedding layer using tf.keras.layers.Embedding\n",
    "\n",
    "  ## input dim = vocab size / output dim = embedding dim = embedding vector size \n",
    "    tf.keras.layers.Embedding(\n",
    "        ## get_vocabulary : Vocab 이 list 로 나옴\n",
    "        input_dim=len(encoder.get_vocabulary()),\n",
    "        ## 뒤 쪽 hidden 과는 상관없음, 다만 vocab 보다는 작아야 함\n",
    "        output_dim=64,\n",
    "        # Use masking to handle the variable sequence lengths\n",
    "        ## zero padding 한 값들이 들어올 것이라고 알려줌 --- padding 된 부분은 무시한다.\n",
    "        mask_zero=True),\n",
    "\n",
    "  # Add Bidirectional LSTM with 64 hidden units\n",
    "  ## 자연어 처리이므로, bidirectional LSTM 으로 동작하게 해야 함\n",
    "  ## 문장 sequence 를 받아서 1개의 output 출력 --- many to one --- 이므로 return_sequences-False\n",
    "    tf.keras.layers.Bidirectional(tf.keras.layers.LSTM(64)),  # units, return_sequences=False\n",
    "\n",
    "  # Add two Dense layers for final processing; one hidden layer with 64 units and one output layer\n",
    "    ## hidden layer 이기 때문에 activation function 있어야 함\n",
    "    tf.keras.layers.Dense(64, activation='relu'),\n",
    "    ## 0/1 binary classification\n",
    "    tf.keras.layers.Dense(1)\n",
    "])"
   ]
  },
  {
   "cell_type": "code",
   "execution_count": 32,
   "id": "fac85adc",
   "metadata": {},
   "outputs": [
    {
     "name": "stdout",
     "output_type": "stream",
     "text": [
      "[False, True, True, True, True]\n"
     ]
    }
   ],
   "source": [
    "\n",
    "## zero masking 적용 --- embedding layer 부터는 적용되어 있는 것 확인 가능\n",
    "print([layer.supports_masking for layer in model.layers])"
   ]
  },
  {
   "cell_type": "code",
   "execution_count": 33,
   "id": "1eff6500",
   "metadata": {},
   "outputs": [
    {
     "ename": "UnknownError",
     "evalue": "Graph execution error:\n\nDetected at node 'cond/CudnnRNNV3' defined at (most recent call last):\n    File \"C:\\Users\\SNUAI\\anaconda3\\lib\\runpy.py\", line 197, in _run_module_as_main\n      return _run_code(code, main_globals, None,\n    File \"C:\\Users\\SNUAI\\anaconda3\\lib\\runpy.py\", line 87, in _run_code\n      exec(code, run_globals)\n    File \"C:\\Users\\SNUAI\\anaconda3\\lib\\site-packages\\ipykernel_launcher.py\", line 16, in <module>\n      app.launch_new_instance()\n    File \"C:\\Users\\SNUAI\\anaconda3\\lib\\site-packages\\traitlets\\config\\application.py\", line 846, in launch_instance\n      app.start()\n    File \"C:\\Users\\SNUAI\\anaconda3\\lib\\site-packages\\ipykernel\\kernelapp.py\", line 677, in start\n      self.io_loop.start()\n    File \"C:\\Users\\SNUAI\\anaconda3\\lib\\site-packages\\tornado\\platform\\asyncio.py\", line 199, in start\n      self.asyncio_loop.run_forever()\n    File \"C:\\Users\\SNUAI\\anaconda3\\lib\\asyncio\\base_events.py\", line 601, in run_forever\n      self._run_once()\n    File \"C:\\Users\\SNUAI\\anaconda3\\lib\\asyncio\\base_events.py\", line 1905, in _run_once\n      handle._run()\n    File \"C:\\Users\\SNUAI\\anaconda3\\lib\\asyncio\\events.py\", line 80, in _run\n      self._context.run(self._callback, *self._args)\n    File \"C:\\Users\\SNUAI\\anaconda3\\lib\\site-packages\\ipykernel\\kernelbase.py\", line 471, in dispatch_queue\n      await self.process_one()\n    File \"C:\\Users\\SNUAI\\anaconda3\\lib\\site-packages\\ipykernel\\kernelbase.py\", line 460, in process_one\n      await dispatch(*args)\n    File \"C:\\Users\\SNUAI\\anaconda3\\lib\\site-packages\\ipykernel\\kernelbase.py\", line 367, in dispatch_shell\n      await result\n    File \"C:\\Users\\SNUAI\\anaconda3\\lib\\site-packages\\ipykernel\\kernelbase.py\", line 662, in execute_request\n      reply_content = await reply_content\n    File \"C:\\Users\\SNUAI\\anaconda3\\lib\\site-packages\\ipykernel\\ipkernel.py\", line 360, in do_execute\n      res = shell.run_cell(code, store_history=store_history, silent=silent)\n    File \"C:\\Users\\SNUAI\\anaconda3\\lib\\site-packages\\ipykernel\\zmqshell.py\", line 532, in run_cell\n      return super().run_cell(*args, **kwargs)\n    File \"C:\\Users\\SNUAI\\anaconda3\\lib\\site-packages\\IPython\\core\\interactiveshell.py\", line 2863, in run_cell\n      result = self._run_cell(\n    File \"C:\\Users\\SNUAI\\anaconda3\\lib\\site-packages\\IPython\\core\\interactiveshell.py\", line 2909, in _run_cell\n      return runner(coro)\n    File \"C:\\Users\\SNUAI\\anaconda3\\lib\\site-packages\\IPython\\core\\async_helpers.py\", line 129, in _pseudo_sync_runner\n      coro.send(None)\n    File \"C:\\Users\\SNUAI\\anaconda3\\lib\\site-packages\\IPython\\core\\interactiveshell.py\", line 3106, in run_cell_async\n      has_raised = await self.run_ast_nodes(code_ast.body, cell_name,\n    File \"C:\\Users\\SNUAI\\anaconda3\\lib\\site-packages\\IPython\\core\\interactiveshell.py\", line 3309, in run_ast_nodes\n      if await self.run_code(code, result, async_=asy):\n    File \"C:\\Users\\SNUAI\\anaconda3\\lib\\site-packages\\IPython\\core\\interactiveshell.py\", line 3369, in run_code\n      exec(code_obj, self.user_global_ns, self.user_ns)\n    File \"C:\\Users\\SNUAI\\AppData\\Local\\Temp\\ipykernel_22788\\1305985433.py\", line 5, in <cell line: 5>\n      predictions = model.predict(np.array([sample_text]))\n    File \"C:\\Users\\SNUAI\\anaconda3\\lib\\site-packages\\keras\\utils\\traceback_utils.py\", line 65, in error_handler\n      return fn(*args, **kwargs)\n    File \"C:\\Users\\SNUAI\\anaconda3\\lib\\site-packages\\keras\\engine\\training.py\", line 2253, in predict\n      tmp_batch_outputs = self.predict_function(iterator)\n    File \"C:\\Users\\SNUAI\\anaconda3\\lib\\site-packages\\keras\\engine\\training.py\", line 2041, in predict_function\n      return step_function(self, iterator)\n    File \"C:\\Users\\SNUAI\\anaconda3\\lib\\site-packages\\keras\\engine\\training.py\", line 2027, in step_function\n      outputs = model.distribute_strategy.run(run_step, args=(data,))\n    File \"C:\\Users\\SNUAI\\anaconda3\\lib\\site-packages\\keras\\engine\\training.py\", line 2015, in run_step\n      outputs = model.predict_step(data)\n    File \"C:\\Users\\SNUAI\\anaconda3\\lib\\site-packages\\keras\\engine\\training.py\", line 1983, in predict_step\n      return self(x, training=False)\n    File \"C:\\Users\\SNUAI\\anaconda3\\lib\\site-packages\\keras\\utils\\traceback_utils.py\", line 65, in error_handler\n      return fn(*args, **kwargs)\n    File \"C:\\Users\\SNUAI\\anaconda3\\lib\\site-packages\\keras\\engine\\training.py\", line 557, in __call__\n      return super().__call__(*args, **kwargs)\n    File \"C:\\Users\\SNUAI\\anaconda3\\lib\\site-packages\\keras\\utils\\traceback_utils.py\", line 65, in error_handler\n      return fn(*args, **kwargs)\n    File \"C:\\Users\\SNUAI\\anaconda3\\lib\\site-packages\\keras\\engine\\base_layer.py\", line 1097, in __call__\n      outputs = call_fn(inputs, *args, **kwargs)\n    File \"C:\\Users\\SNUAI\\anaconda3\\lib\\site-packages\\keras\\utils\\traceback_utils.py\", line 96, in error_handler\n      return fn(*args, **kwargs)\n    File \"C:\\Users\\SNUAI\\anaconda3\\lib\\site-packages\\keras\\engine\\sequential.py\", line 410, in call\n      return super().call(inputs, training=training, mask=mask)\n    File \"C:\\Users\\SNUAI\\anaconda3\\lib\\site-packages\\keras\\engine\\functional.py\", line 510, in call\n      return self._run_internal_graph(inputs, training=training, mask=mask)\n    File \"C:\\Users\\SNUAI\\anaconda3\\lib\\site-packages\\keras\\engine\\functional.py\", line 667, in _run_internal_graph\n      outputs = node.layer(*args, **kwargs)\n    File \"C:\\Users\\SNUAI\\anaconda3\\lib\\site-packages\\keras\\layers\\rnn\\bidirectional.py\", line 277, in __call__\n      return super().__call__(inputs, **kwargs)\n    File \"C:\\Users\\SNUAI\\anaconda3\\lib\\site-packages\\keras\\utils\\traceback_utils.py\", line 65, in error_handler\n      return fn(*args, **kwargs)\n    File \"C:\\Users\\SNUAI\\anaconda3\\lib\\site-packages\\keras\\engine\\base_layer.py\", line 1097, in __call__\n      outputs = call_fn(inputs, *args, **kwargs)\n    File \"C:\\Users\\SNUAI\\anaconda3\\lib\\site-packages\\keras\\utils\\traceback_utils.py\", line 96, in error_handler\n      return fn(*args, **kwargs)\n    File \"C:\\Users\\SNUAI\\anaconda3\\lib\\site-packages\\keras\\layers\\rnn\\bidirectional.py\", line 404, in call\n      y = self.forward_layer(\n    File \"C:\\Users\\SNUAI\\anaconda3\\lib\\site-packages\\keras\\layers\\rnn\\base_rnn.py\", line 553, in __call__\n      return super().__call__(inputs, **kwargs)\n    File \"C:\\Users\\SNUAI\\anaconda3\\lib\\site-packages\\keras\\utils\\traceback_utils.py\", line 65, in error_handler\n      return fn(*args, **kwargs)\n    File \"C:\\Users\\SNUAI\\anaconda3\\lib\\site-packages\\keras\\engine\\base_layer.py\", line 1097, in __call__\n      outputs = call_fn(inputs, *args, **kwargs)\n    File \"C:\\Users\\SNUAI\\anaconda3\\lib\\site-packages\\keras\\utils\\traceback_utils.py\", line 96, in error_handler\n      return fn(*args, **kwargs)\n    File \"C:\\Users\\SNUAI\\anaconda3\\lib\\site-packages\\keras\\layers\\rnn\\lstm.py\", line 751, in call\n      ) = lstm_with_backend_selection(**normal_lstm_kwargs)\n    File \"C:\\Users\\SNUAI\\anaconda3\\lib\\site-packages\\keras\\layers\\rnn\\lstm.py\", line 1356, in lstm_with_backend_selection\n      gru_lstm_utils.function_register(defun_gpu_lstm, **params)\n    File \"C:\\Users\\SNUAI\\anaconda3\\lib\\site-packages\\keras\\layers\\rnn\\gru_lstm_utils.py\", line 257, in function_register\n      concrete_func = func.get_concrete_function(*args, **kwargs)\n    File \"C:\\Users\\SNUAI\\anaconda3\\lib\\site-packages\\keras\\layers\\rnn\\lstm.py\", line 1305, in gpu_lstm_with_fallback\n      return tf.cond(\n    File \"C:\\Users\\SNUAI\\anaconda3\\lib\\site-packages\\keras\\layers\\rnn\\lstm.py\", line 1275, in cudnn_lstm_fn\n      return gpu_lstm(\n    File \"C:\\Users\\SNUAI\\anaconda3\\lib\\site-packages\\keras\\layers\\rnn\\lstm.py\", line 1115, in gpu_lstm\n      outputs, h, c, _, _ = tf.raw_ops.CudnnRNNV3(\nNode: 'cond/CudnnRNNV3'\nFail to find the dnn implementation.\n\t [[{{node cond/CudnnRNNV3}}]]\n\t [[sequential/bidirectional/forward_lstm/PartitionedCall]] [Op:__inference_predict_function_8362]",
     "output_type": "error",
     "traceback": [
      "\u001b[1;31m---------------------------------------------------------------------------\u001b[0m",
      "\u001b[1;31mUnknownError\u001b[0m                              Traceback (most recent call last)",
      "Input \u001b[1;32mIn [33]\u001b[0m, in \u001b[0;36m<cell line: 5>\u001b[1;34m()\u001b[0m\n\u001b[0;32m      1\u001b[0m \u001b[38;5;66;03m# predict on a sample text without padding.\u001b[39;00m\n\u001b[0;32m      2\u001b[0m \u001b[38;5;66;03m## 학습 전이기 때문에 틀린 값이 나옴\u001b[39;00m\n\u001b[0;32m      3\u001b[0m sample_text \u001b[38;5;241m=\u001b[39m (\u001b[38;5;124m'\u001b[39m\u001b[38;5;124mThe movie was cool. The animation and the graphics \u001b[39m\u001b[38;5;124m'\u001b[39m\n\u001b[0;32m      4\u001b[0m                \u001b[38;5;124m'\u001b[39m\u001b[38;5;124mwere out of this world. I would recommend this movie.\u001b[39m\u001b[38;5;124m'\u001b[39m)\n\u001b[1;32m----> 5\u001b[0m predictions \u001b[38;5;241m=\u001b[39m \u001b[43mmodel\u001b[49m\u001b[38;5;241;43m.\u001b[39;49m\u001b[43mpredict\u001b[49m\u001b[43m(\u001b[49m\u001b[43mnp\u001b[49m\u001b[38;5;241;43m.\u001b[39;49m\u001b[43marray\u001b[49m\u001b[43m(\u001b[49m\u001b[43m[\u001b[49m\u001b[43msample_text\u001b[49m\u001b[43m]\u001b[49m\u001b[43m)\u001b[49m\u001b[43m)\u001b[49m\n\u001b[0;32m      6\u001b[0m \u001b[38;5;28mprint\u001b[39m(predictions[\u001b[38;5;241m0\u001b[39m])\n",
      "File \u001b[1;32m~\\anaconda3\\lib\\site-packages\\keras\\utils\\traceback_utils.py:70\u001b[0m, in \u001b[0;36mfilter_traceback.<locals>.error_handler\u001b[1;34m(*args, **kwargs)\u001b[0m\n\u001b[0;32m     67\u001b[0m     filtered_tb \u001b[38;5;241m=\u001b[39m _process_traceback_frames(e\u001b[38;5;241m.\u001b[39m__traceback__)\n\u001b[0;32m     68\u001b[0m     \u001b[38;5;66;03m# To get the full stack trace, call:\u001b[39;00m\n\u001b[0;32m     69\u001b[0m     \u001b[38;5;66;03m# `tf.debugging.disable_traceback_filtering()`\u001b[39;00m\n\u001b[1;32m---> 70\u001b[0m     \u001b[38;5;28;01mraise\u001b[39;00m e\u001b[38;5;241m.\u001b[39mwith_traceback(filtered_tb) \u001b[38;5;28;01mfrom\u001b[39;00m \u001b[38;5;28mNone\u001b[39m\n\u001b[0;32m     71\u001b[0m \u001b[38;5;28;01mfinally\u001b[39;00m:\n\u001b[0;32m     72\u001b[0m     \u001b[38;5;28;01mdel\u001b[39;00m filtered_tb\n",
      "File \u001b[1;32m~\\anaconda3\\lib\\site-packages\\tensorflow\\python\\eager\\execute.py:54\u001b[0m, in \u001b[0;36mquick_execute\u001b[1;34m(op_name, num_outputs, inputs, attrs, ctx, name)\u001b[0m\n\u001b[0;32m     52\u001b[0m \u001b[38;5;28;01mtry\u001b[39;00m:\n\u001b[0;32m     53\u001b[0m   ctx\u001b[38;5;241m.\u001b[39mensure_initialized()\n\u001b[1;32m---> 54\u001b[0m   tensors \u001b[38;5;241m=\u001b[39m pywrap_tfe\u001b[38;5;241m.\u001b[39mTFE_Py_Execute(ctx\u001b[38;5;241m.\u001b[39m_handle, device_name, op_name,\n\u001b[0;32m     55\u001b[0m                                       inputs, attrs, num_outputs)\n\u001b[0;32m     56\u001b[0m \u001b[38;5;28;01mexcept\u001b[39;00m core\u001b[38;5;241m.\u001b[39m_NotOkStatusException \u001b[38;5;28;01mas\u001b[39;00m e:\n\u001b[0;32m     57\u001b[0m   \u001b[38;5;28;01mif\u001b[39;00m name \u001b[38;5;129;01mis\u001b[39;00m \u001b[38;5;129;01mnot\u001b[39;00m \u001b[38;5;28;01mNone\u001b[39;00m:\n",
      "\u001b[1;31mUnknownError\u001b[0m: Graph execution error:\n\nDetected at node 'cond/CudnnRNNV3' defined at (most recent call last):\n    File \"C:\\Users\\SNUAI\\anaconda3\\lib\\runpy.py\", line 197, in _run_module_as_main\n      return _run_code(code, main_globals, None,\n    File \"C:\\Users\\SNUAI\\anaconda3\\lib\\runpy.py\", line 87, in _run_code\n      exec(code, run_globals)\n    File \"C:\\Users\\SNUAI\\anaconda3\\lib\\site-packages\\ipykernel_launcher.py\", line 16, in <module>\n      app.launch_new_instance()\n    File \"C:\\Users\\SNUAI\\anaconda3\\lib\\site-packages\\traitlets\\config\\application.py\", line 846, in launch_instance\n      app.start()\n    File \"C:\\Users\\SNUAI\\anaconda3\\lib\\site-packages\\ipykernel\\kernelapp.py\", line 677, in start\n      self.io_loop.start()\n    File \"C:\\Users\\SNUAI\\anaconda3\\lib\\site-packages\\tornado\\platform\\asyncio.py\", line 199, in start\n      self.asyncio_loop.run_forever()\n    File \"C:\\Users\\SNUAI\\anaconda3\\lib\\asyncio\\base_events.py\", line 601, in run_forever\n      self._run_once()\n    File \"C:\\Users\\SNUAI\\anaconda3\\lib\\asyncio\\base_events.py\", line 1905, in _run_once\n      handle._run()\n    File \"C:\\Users\\SNUAI\\anaconda3\\lib\\asyncio\\events.py\", line 80, in _run\n      self._context.run(self._callback, *self._args)\n    File \"C:\\Users\\SNUAI\\anaconda3\\lib\\site-packages\\ipykernel\\kernelbase.py\", line 471, in dispatch_queue\n      await self.process_one()\n    File \"C:\\Users\\SNUAI\\anaconda3\\lib\\site-packages\\ipykernel\\kernelbase.py\", line 460, in process_one\n      await dispatch(*args)\n    File \"C:\\Users\\SNUAI\\anaconda3\\lib\\site-packages\\ipykernel\\kernelbase.py\", line 367, in dispatch_shell\n      await result\n    File \"C:\\Users\\SNUAI\\anaconda3\\lib\\site-packages\\ipykernel\\kernelbase.py\", line 662, in execute_request\n      reply_content = await reply_content\n    File \"C:\\Users\\SNUAI\\anaconda3\\lib\\site-packages\\ipykernel\\ipkernel.py\", line 360, in do_execute\n      res = shell.run_cell(code, store_history=store_history, silent=silent)\n    File \"C:\\Users\\SNUAI\\anaconda3\\lib\\site-packages\\ipykernel\\zmqshell.py\", line 532, in run_cell\n      return super().run_cell(*args, **kwargs)\n    File \"C:\\Users\\SNUAI\\anaconda3\\lib\\site-packages\\IPython\\core\\interactiveshell.py\", line 2863, in run_cell\n      result = self._run_cell(\n    File \"C:\\Users\\SNUAI\\anaconda3\\lib\\site-packages\\IPython\\core\\interactiveshell.py\", line 2909, in _run_cell\n      return runner(coro)\n    File \"C:\\Users\\SNUAI\\anaconda3\\lib\\site-packages\\IPython\\core\\async_helpers.py\", line 129, in _pseudo_sync_runner\n      coro.send(None)\n    File \"C:\\Users\\SNUAI\\anaconda3\\lib\\site-packages\\IPython\\core\\interactiveshell.py\", line 3106, in run_cell_async\n      has_raised = await self.run_ast_nodes(code_ast.body, cell_name,\n    File \"C:\\Users\\SNUAI\\anaconda3\\lib\\site-packages\\IPython\\core\\interactiveshell.py\", line 3309, in run_ast_nodes\n      if await self.run_code(code, result, async_=asy):\n    File \"C:\\Users\\SNUAI\\anaconda3\\lib\\site-packages\\IPython\\core\\interactiveshell.py\", line 3369, in run_code\n      exec(code_obj, self.user_global_ns, self.user_ns)\n    File \"C:\\Users\\SNUAI\\AppData\\Local\\Temp\\ipykernel_22788\\1305985433.py\", line 5, in <cell line: 5>\n      predictions = model.predict(np.array([sample_text]))\n    File \"C:\\Users\\SNUAI\\anaconda3\\lib\\site-packages\\keras\\utils\\traceback_utils.py\", line 65, in error_handler\n      return fn(*args, **kwargs)\n    File \"C:\\Users\\SNUAI\\anaconda3\\lib\\site-packages\\keras\\engine\\training.py\", line 2253, in predict\n      tmp_batch_outputs = self.predict_function(iterator)\n    File \"C:\\Users\\SNUAI\\anaconda3\\lib\\site-packages\\keras\\engine\\training.py\", line 2041, in predict_function\n      return step_function(self, iterator)\n    File \"C:\\Users\\SNUAI\\anaconda3\\lib\\site-packages\\keras\\engine\\training.py\", line 2027, in step_function\n      outputs = model.distribute_strategy.run(run_step, args=(data,))\n    File \"C:\\Users\\SNUAI\\anaconda3\\lib\\site-packages\\keras\\engine\\training.py\", line 2015, in run_step\n      outputs = model.predict_step(data)\n    File \"C:\\Users\\SNUAI\\anaconda3\\lib\\site-packages\\keras\\engine\\training.py\", line 1983, in predict_step\n      return self(x, training=False)\n    File \"C:\\Users\\SNUAI\\anaconda3\\lib\\site-packages\\keras\\utils\\traceback_utils.py\", line 65, in error_handler\n      return fn(*args, **kwargs)\n    File \"C:\\Users\\SNUAI\\anaconda3\\lib\\site-packages\\keras\\engine\\training.py\", line 557, in __call__\n      return super().__call__(*args, **kwargs)\n    File \"C:\\Users\\SNUAI\\anaconda3\\lib\\site-packages\\keras\\utils\\traceback_utils.py\", line 65, in error_handler\n      return fn(*args, **kwargs)\n    File \"C:\\Users\\SNUAI\\anaconda3\\lib\\site-packages\\keras\\engine\\base_layer.py\", line 1097, in __call__\n      outputs = call_fn(inputs, *args, **kwargs)\n    File \"C:\\Users\\SNUAI\\anaconda3\\lib\\site-packages\\keras\\utils\\traceback_utils.py\", line 96, in error_handler\n      return fn(*args, **kwargs)\n    File \"C:\\Users\\SNUAI\\anaconda3\\lib\\site-packages\\keras\\engine\\sequential.py\", line 410, in call\n      return super().call(inputs, training=training, mask=mask)\n    File \"C:\\Users\\SNUAI\\anaconda3\\lib\\site-packages\\keras\\engine\\functional.py\", line 510, in call\n      return self._run_internal_graph(inputs, training=training, mask=mask)\n    File \"C:\\Users\\SNUAI\\anaconda3\\lib\\site-packages\\keras\\engine\\functional.py\", line 667, in _run_internal_graph\n      outputs = node.layer(*args, **kwargs)\n    File \"C:\\Users\\SNUAI\\anaconda3\\lib\\site-packages\\keras\\layers\\rnn\\bidirectional.py\", line 277, in __call__\n      return super().__call__(inputs, **kwargs)\n    File \"C:\\Users\\SNUAI\\anaconda3\\lib\\site-packages\\keras\\utils\\traceback_utils.py\", line 65, in error_handler\n      return fn(*args, **kwargs)\n    File \"C:\\Users\\SNUAI\\anaconda3\\lib\\site-packages\\keras\\engine\\base_layer.py\", line 1097, in __call__\n      outputs = call_fn(inputs, *args, **kwargs)\n    File \"C:\\Users\\SNUAI\\anaconda3\\lib\\site-packages\\keras\\utils\\traceback_utils.py\", line 96, in error_handler\n      return fn(*args, **kwargs)\n    File \"C:\\Users\\SNUAI\\anaconda3\\lib\\site-packages\\keras\\layers\\rnn\\bidirectional.py\", line 404, in call\n      y = self.forward_layer(\n    File \"C:\\Users\\SNUAI\\anaconda3\\lib\\site-packages\\keras\\layers\\rnn\\base_rnn.py\", line 553, in __call__\n      return super().__call__(inputs, **kwargs)\n    File \"C:\\Users\\SNUAI\\anaconda3\\lib\\site-packages\\keras\\utils\\traceback_utils.py\", line 65, in error_handler\n      return fn(*args, **kwargs)\n    File \"C:\\Users\\SNUAI\\anaconda3\\lib\\site-packages\\keras\\engine\\base_layer.py\", line 1097, in __call__\n      outputs = call_fn(inputs, *args, **kwargs)\n    File \"C:\\Users\\SNUAI\\anaconda3\\lib\\site-packages\\keras\\utils\\traceback_utils.py\", line 96, in error_handler\n      return fn(*args, **kwargs)\n    File \"C:\\Users\\SNUAI\\anaconda3\\lib\\site-packages\\keras\\layers\\rnn\\lstm.py\", line 751, in call\n      ) = lstm_with_backend_selection(**normal_lstm_kwargs)\n    File \"C:\\Users\\SNUAI\\anaconda3\\lib\\site-packages\\keras\\layers\\rnn\\lstm.py\", line 1356, in lstm_with_backend_selection\n      gru_lstm_utils.function_register(defun_gpu_lstm, **params)\n    File \"C:\\Users\\SNUAI\\anaconda3\\lib\\site-packages\\keras\\layers\\rnn\\gru_lstm_utils.py\", line 257, in function_register\n      concrete_func = func.get_concrete_function(*args, **kwargs)\n    File \"C:\\Users\\SNUAI\\anaconda3\\lib\\site-packages\\keras\\layers\\rnn\\lstm.py\", line 1305, in gpu_lstm_with_fallback\n      return tf.cond(\n    File \"C:\\Users\\SNUAI\\anaconda3\\lib\\site-packages\\keras\\layers\\rnn\\lstm.py\", line 1275, in cudnn_lstm_fn\n      return gpu_lstm(\n    File \"C:\\Users\\SNUAI\\anaconda3\\lib\\site-packages\\keras\\layers\\rnn\\lstm.py\", line 1115, in gpu_lstm\n      outputs, h, c, _, _ = tf.raw_ops.CudnnRNNV3(\nNode: 'cond/CudnnRNNV3'\nFail to find the dnn implementation.\n\t [[{{node cond/CudnnRNNV3}}]]\n\t [[sequential/bidirectional/forward_lstm/PartitionedCall]] [Op:__inference_predict_function_8362]"
     ]
    }
   ],
   "source": [
    "# predict on a sample text without padding.\n",
    "## 학습 전이기 때문에 틀린 값이 나옴\n",
    "sample_text = ('The movie was cool. The animation and the graphics '\n",
    "               'were out of this world. I would recommend this movie.')\n",
    "predictions = model.predict(np.array([sample_text]))\n",
    "print(predictions[0])\n",
    "\n",
    "nb"
   ]
  },
  {
   "cell_type": "code",
   "execution_count": null,
   "id": "02dee2c4",
   "metadata": {},
   "outputs": [],
   "source": []
  }
 ],
 "metadata": {
  "kernelspec": {
   "display_name": "Python 3 (ipykernel)",
   "language": "python",
   "name": "python3"
  },
  "language_info": {
   "codemirror_mode": {
    "name": "ipython",
    "version": 3
   },
   "file_extension": ".py",
   "mimetype": "text/x-python",
   "name": "python",
   "nbconvert_exporter": "python",
   "pygments_lexer": "ipython3",
   "version": "3.9.12"
  }
 },
 "nbformat": 4,
 "nbformat_minor": 5
}
