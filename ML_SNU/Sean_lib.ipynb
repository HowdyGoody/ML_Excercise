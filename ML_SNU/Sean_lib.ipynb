{
 "cells": [
  {
   "cell_type": "code",
   "execution_count": 1,
   "id": "daf5a116",
   "metadata": {},
   "outputs": [],
   "source": [
    "import numpy as np\n",
    "import pandas as pd\n",
    "\n",
    "# print np or df information\n",
    "def print_data_info(data, msg=\"\") :\n",
    "    if( type(data) == type ( np.empty([2, 2]) ) ) :\n",
    "\n",
    "        print(\"\\n============================\")\n",
    "        print(msg)\n",
    "        print(\"============================\")\n",
    "        print(\"Type : \",  type(data))\n",
    "        print(\"Shape : \", data.shape)\n",
    "        print(\"Unique : \", np.unique(data, return_counts=True))\n",
    "        print(\"Data : \", data)\n",
    "        print(\"============================\\n\")\n",
    "    elif ( type(data) == type(pd.DataFrame([1])) ) :\n",
    "        print(\"\\n============================\")\n",
    "        print(msg)\n",
    "        print(\"============================\")\n",
    "        print(type(data))\n",
    "        print(\"Unique : \", np.unique(np.array(data), return_counts=True))\n",
    "        print(data.info())\n",
    "        print(data.head())\n",
    "        print(\"============================\\n\")\n",
    "    else :\n",
    "        print(\"\\n============================\")\n",
    "        print(msg)\n",
    "        print(\"============================\")\n",
    "        print(type(data))\n",
    "        print(\"Data : \", data)\n",
    "        print(\"============================\\n\")\n",
    "    "
   ]
  },
  {
   "cell_type": "code",
   "execution_count": null,
   "id": "dc79c048",
   "metadata": {},
   "outputs": [],
   "source": []
  }
 ],
 "metadata": {
  "kernelspec": {
   "display_name": "Python 3 (ipykernel)",
   "language": "python",
   "name": "python3"
  },
  "language_info": {
   "codemirror_mode": {
    "name": "ipython",
    "version": 3
   },
   "file_extension": ".py",
   "mimetype": "text/x-python",
   "name": "python",
   "nbconvert_exporter": "python",
   "pygments_lexer": "ipython3",
   "version": "3.9.12"
  }
 },
 "nbformat": 4,
 "nbformat_minor": 5
}
