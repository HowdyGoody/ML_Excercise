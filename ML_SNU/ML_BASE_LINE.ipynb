{
 "cells": [
  {
   "cell_type": "markdown",
   "id": "ddf5cd88",
   "metadata": {
    "id": "ddf5cd88"
   },
   "source": [
    "##  Baseline\n",
    "- 제공한 데이터세트를 활용한 머신러닝 Pipeline(분석절차)이 올바르게 동작하는지를 확인\n",
    "- 제공한 데이터세트를 활용하여 분석 대상 기준 정의 및 제출 결과 파일 생성 방법 등에 참고\n",
    "\n",
    "※ 주어진 베이스라인 모델은 예시이며, 참가자들은 자유롭게 분석 방법 및 항목 변경 가능\n",
    "\n",
    "---------------\n",
    "\n",
    "## Baseline 목차 \n",
    "\n",
    "\n",
    "- [1. 분석환경 구축](#01)\n",
    "    - [1.1  Colab 구글드라이브 연동](#01-01)\n",
    "    - [1.2  라이브러리 임포트](#01-02)\n",
    "- [2. 데이터 읽기](#02)\n",
    "    - [2.1 데이터 통합](#02-01)\n",
    "    - [2.2 데이터 설명](#02-02)  \n",
    "- [3. 탐색적 데이터 분석](#03)\n",
    "\n",
    "    - [3.1 타깃 변수 분포 확인하기](#03-01)\n",
    "    - [3.2 센서 변수와 타깃 변수의 상관관계 파악](#03-02)\n",
    "    - [3.3 범주형 변수에 따른 타깃 변수의 변화](#03-03)\n",
    "    - [3.4 전체 공정 소요시간에 따른 타깃 변수의 변화](#03-04)\n",
    "    - [3.5 센서의 집약된 통계량에 따른 타깃 변수의 변화](#03-05)\n",
    "\n",
    "- [4. 데이터 전처리](#04)\n",
    "    - [4.1 내부 데이터를 통한 변수 생성](#04-01)\n",
    "    - [4.2 이상치 치환하기](#04-02)\n",
    "    - [4.3 분산이 적은 변수 제거](#04-03)\n",
    "    - [4.4 표준화](#04-04)\n",
    "    - [4.5 원-핫 인코딩](#04-05)\n",
    "    - [4.6 변수 선택](#04-06)\n",
    "\n",
    "- [5. 모델링](#05)\n",
    "    - [5.1 데이터 분할](#05-01)\n",
    "    - [5.2 릿지 회귀 모델](#05-02)\n",
    "    - [5.3 랜덤 포레스트 모델](#05-03)\n",
    "    - [5.4 최종 모델 구축](#05-04)\n",
    "    - [5.5 결과 해석](#05-05)\n",
    "    - [5.6 예측 결과 파일 제출](#05-06)\n",
    "\n",
    "\n",
    "\n",
    "\n"
   ]
  },
  {
   "cell_type": "markdown",
   "id": "7f70174a",
   "metadata": {
    "id": "7f70174a"
   },
   "source": [
    "<a name='01'></a>\n",
    "## 1. 분석환경 구축 "
   ]
  },
  {
   "cell_type": "markdown",
   "id": "54777026",
   "metadata": {
    "id": "54777026"
   },
   "source": [
    "<a name='01-01'></a>\n",
    "### 1.1 Colab 구글 드라이브 연동 "
   ]
  },
  {
   "cell_type": "code",
   "execution_count": null,
   "id": "0129b0eb",
   "metadata": {
    "id": "0129b0eb"
   },
   "outputs": [],
   "source": [
    "# 구글 Colaboratory 를 사용하기 위해 구글 계정으로 로그인합니다. \n",
    "from google.colab import drive\n",
    "drive.mount('/content/drive')\n"
   ]
  },
  {
   "cell_type": "markdown",
   "id": "d3016eeb",
   "metadata": {
    "id": "d3016eeb"
   },
   "source": [
    "<a name='01-02'></a>\n",
    "### 1.2 라이브러리 임포트"
   ]
  },
  {
   "cell_type": "code",
   "execution_count": null,
   "id": "ce2d12a0",
   "metadata": {
    "id": "ce2d12a0"
   },
   "outputs": [],
   "source": [
    "import warnings\n",
    "warnings.filterwarnings('ignore')\n",
    "\n",
    "# 데이터 읽기를 위한 라이브러리\n",
    "import numpy as np\n",
    "np.random.seed(0)\n",
    "import pandas as pd\n",
    "import gc, os, time\n",
    "import scipy as sp\n",
    "import statsmodels.api as sm\n",
    "from pandas import DataFrame, Series\n",
    "from datetime import datetime, date, timedelta\n",
    "from sklearn.preprocessing import StandardScaler, LabelEncoder\n",
    "\n",
    "# 탐색적 데이터 분석을 위한 라이브러리\n",
    "import seaborn as sns\n",
    "import matplotlib.pyplot as plt\n",
    "from scipy.stats import skew, norm, probplot, boxcox\n",
    "\n",
    "# 모델링을 위한 라이브러리\n",
    "from sklearn.linear_model import Ridge\n",
    "from sklearn.ensemble import RandomForestRegressor\n",
    "from sklearn.metrics import mean_squared_error\n",
    "from sklearn.model_selection import train_test_split, GridSearchCV\n",
    "from sklearn.feature_selection import SelectKBest, mutual_info_regression, VarianceThreshold"
   ]
  },
  {
   "cell_type": "markdown",
   "id": "32ab1be0",
   "metadata": {
    "id": "32ab1be0"
   },
   "source": [
    "<a name='02'></a>\n",
    "## 2. 데이터 읽기\n",
    "\n",
    "데이터 파일을 불러옵니다."
   ]
  },
  {
   "cell_type": "code",
   "execution_count": null,
   "id": "b752d71e",
   "metadata": {
    "id": "b752d71e"
   },
   "outputs": [],
   "source": [
    "# 구글 드라이브 내 데이터가 위치한 경로를 설정합니다.\n",
    "path = 'drive/MyDrive/suni/'\n",
    "\n",
    "# 학습용 데이터 \n",
    "train_sensor = pd.read_csv(f'{path}train_sensor.csv')\n",
    "train_quality = pd.read_csv(f'{path}train_quality.csv')\n",
    "\n",
    "# 평가용 데이터 \n",
    "predict_sensor = pd.read_csv(f'{path}predict_sensor.csv')"
   ]
  },
  {
   "cell_type": "code",
   "execution_count": null,
   "id": "9bb55898",
   "metadata": {
    "id": "9bb55898"
   },
   "outputs": [],
   "source": [
    "# 센서 변수 데이터프레임의 상위 3개 행을 출력합니다. \n",
    "train_sensor.head(5)"
   ]
  },
  {
   "cell_type": "code",
   "execution_count": null,
   "id": "2d272248",
   "metadata": {
    "colab": {
     "base_uri": "https://localhost:8080/",
     "height": 143
    },
    "id": "2d272248",
    "outputId": "bea1d78d-fa03-4194-c9e4-4546a3369f7f"
   },
   "outputs": [
    {
     "data": {
      "text/html": [
       "\n",
       "  <div id=\"df-a8510115-c0b2-46b2-890f-8dd916937679\">\n",
       "    <div class=\"colab-df-container\">\n",
       "      <div>\n",
       "<style scoped>\n",
       "    .dataframe tbody tr th:only-of-type {\n",
       "        vertical-align: middle;\n",
       "    }\n",
       "\n",
       "    .dataframe tbody tr th {\n",
       "        vertical-align: top;\n",
       "    }\n",
       "\n",
       "    .dataframe thead th {\n",
       "        text-align: right;\n",
       "    }\n",
       "</style>\n",
       "<table border=\"1\" class=\"dataframe\">\n",
       "  <thead>\n",
       "    <tr style=\"text-align: right;\">\n",
       "      <th></th>\n",
       "      <th>key_val</th>\n",
       "      <th>msure_val</th>\n",
       "      <th>end_dt_tm</th>\n",
       "    </tr>\n",
       "  </thead>\n",
       "  <tbody>\n",
       "    <tr>\n",
       "      <th>0</th>\n",
       "      <td>LOT1_21</td>\n",
       "      <td>1281.14148</td>\n",
       "      <td>2021-10-11 21:00:17</td>\n",
       "    </tr>\n",
       "    <tr>\n",
       "      <th>1</th>\n",
       "      <td>LOT2_04</td>\n",
       "      <td>1271.26772</td>\n",
       "      <td>2021-10-12 01:23:50</td>\n",
       "    </tr>\n",
       "    <tr>\n",
       "      <th>2</th>\n",
       "      <td>LOT3_18</td>\n",
       "      <td>1252.67080</td>\n",
       "      <td>2021-10-16 10:35:24</td>\n",
       "    </tr>\n",
       "  </tbody>\n",
       "</table>\n",
       "</div>\n",
       "      <button class=\"colab-df-convert\" onclick=\"convertToInteractive('df-a8510115-c0b2-46b2-890f-8dd916937679')\"\n",
       "              title=\"Convert this dataframe to an interactive table.\"\n",
       "              style=\"display:none;\">\n",
       "        \n",
       "  <svg xmlns=\"http://www.w3.org/2000/svg\" height=\"24px\"viewBox=\"0 0 24 24\"\n",
       "       width=\"24px\">\n",
       "    <path d=\"M0 0h24v24H0V0z\" fill=\"none\"/>\n",
       "    <path d=\"M18.56 5.44l.94 2.06.94-2.06 2.06-.94-2.06-.94-.94-2.06-.94 2.06-2.06.94zm-11 1L8.5 8.5l.94-2.06 2.06-.94-2.06-.94L8.5 2.5l-.94 2.06-2.06.94zm10 10l.94 2.06.94-2.06 2.06-.94-2.06-.94-.94-2.06-.94 2.06-2.06.94z\"/><path d=\"M17.41 7.96l-1.37-1.37c-.4-.4-.92-.59-1.43-.59-.52 0-1.04.2-1.43.59L10.3 9.45l-7.72 7.72c-.78.78-.78 2.05 0 2.83L4 21.41c.39.39.9.59 1.41.59.51 0 1.02-.2 1.41-.59l7.78-7.78 2.81-2.81c.8-.78.8-2.07 0-2.86zM5.41 20L4 18.59l7.72-7.72 1.47 1.35L5.41 20z\"/>\n",
       "  </svg>\n",
       "      </button>\n",
       "      \n",
       "  <style>\n",
       "    .colab-df-container {\n",
       "      display:flex;\n",
       "      flex-wrap:wrap;\n",
       "      gap: 12px;\n",
       "    }\n",
       "\n",
       "    .colab-df-convert {\n",
       "      background-color: #E8F0FE;\n",
       "      border: none;\n",
       "      border-radius: 50%;\n",
       "      cursor: pointer;\n",
       "      display: none;\n",
       "      fill: #1967D2;\n",
       "      height: 32px;\n",
       "      padding: 0 0 0 0;\n",
       "      width: 32px;\n",
       "    }\n",
       "\n",
       "    .colab-df-convert:hover {\n",
       "      background-color: #E2EBFA;\n",
       "      box-shadow: 0px 1px 2px rgba(60, 64, 67, 0.3), 0px 1px 3px 1px rgba(60, 64, 67, 0.15);\n",
       "      fill: #174EA6;\n",
       "    }\n",
       "\n",
       "    [theme=dark] .colab-df-convert {\n",
       "      background-color: #3B4455;\n",
       "      fill: #D2E3FC;\n",
       "    }\n",
       "\n",
       "    [theme=dark] .colab-df-convert:hover {\n",
       "      background-color: #434B5C;\n",
       "      box-shadow: 0px 1px 3px 1px rgba(0, 0, 0, 0.15);\n",
       "      filter: drop-shadow(0px 1px 2px rgba(0, 0, 0, 0.3));\n",
       "      fill: #FFFFFF;\n",
       "    }\n",
       "  </style>\n",
       "\n",
       "      <script>\n",
       "        const buttonEl =\n",
       "          document.querySelector('#df-a8510115-c0b2-46b2-890f-8dd916937679 button.colab-df-convert');\n",
       "        buttonEl.style.display =\n",
       "          google.colab.kernel.accessAllowed ? 'block' : 'none';\n",
       "\n",
       "        async function convertToInteractive(key) {\n",
       "          const element = document.querySelector('#df-a8510115-c0b2-46b2-890f-8dd916937679');\n",
       "          const dataTable =\n",
       "            await google.colab.kernel.invokeFunction('convertToInteractive',\n",
       "                                                     [key], {});\n",
       "          if (!dataTable) return;\n",
       "\n",
       "          const docLinkHtml = 'Like what you see? Visit the ' +\n",
       "            '<a target=\"_blank\" href=https://colab.research.google.com/notebooks/data_table.ipynb>data table notebook</a>'\n",
       "            + ' to learn more about interactive tables.';\n",
       "          element.innerHTML = '';\n",
       "          dataTable['output_type'] = 'display_data';\n",
       "          await google.colab.output.renderOutput(dataTable, element);\n",
       "          const docLink = document.createElement('div');\n",
       "          docLink.innerHTML = docLinkHtml;\n",
       "          element.appendChild(docLink);\n",
       "        }\n",
       "      </script>\n",
       "    </div>\n",
       "  </div>\n",
       "  "
      ],
      "text/plain": [
       "   key_val   msure_val            end_dt_tm\n",
       "0  LOT1_21  1281.14148  2021-10-11 21:00:17\n",
       "1  LOT2_04  1271.26772  2021-10-12 01:23:50\n",
       "2  LOT3_18  1252.67080  2021-10-16 10:35:24"
      ]
     },
     "execution_count": 5,
     "metadata": {},
     "output_type": "execute_result"
    }
   ],
   "source": [
    "# 타깃 변수 데이터프레임의 상위 3개 행을 출력합니다.\n",
    "train_quality.head(3)"
   ]
  },
  {
   "cell_type": "code",
   "execution_count": null,
   "id": "OUJnLynPJrwD",
   "metadata": {
    "id": "OUJnLynPJrwD"
   },
   "outputs": [],
   "source": []
  },
  {
   "cell_type": "markdown",
   "id": "oV7ZXTfgJ29u",
   "metadata": {
    "id": "oV7ZXTfgJ29u"
   },
   "source": [
    "<a name='02-01'></a>\n",
    "### ex. data load"
   ]
  },
  {
   "cell_type": "code",
   "execution_count": null,
   "id": "bxX6jokNKMhr",
   "metadata": {
    "id": "bxX6jokNKMhr"
   },
   "outputs": [],
   "source": [
    "# train / test split 사용\n",
    "from shap\n",
    "\n",
    "X_df, y = shap.datasets.adult()\n",
    "X = X_df.to_numpy()\n",
    "\n",
    "print(f'X.shape :'{X.shape})\n",
    "print(f'X.shape :'{X.shape})"
   ]
  },
  {
   "cell_type": "code",
   "execution_count": null,
   "id": "OH5Hx6n1K7Uu",
   "metadata": {
    "id": "OH5Hx6n1K7Uu"
   },
   "outputs": [],
   "source": [
    "X_train, X_test, y_train, y_test = train_test_split (X, y, test_size= 0.2, random_state = 42)\n",
    "print(f'X_train.shape: {X_train.shape}')\n",
    "print(f'X_test.shape: {X_test.shape}')\n",
    "print(f'y_train.shape: {y_train.shape}')\n",
    "print(f'y_test.shape: {y_test.shape}')"
   ]
  },
  {
   "cell_type": "markdown",
   "id": "1613901b",
   "metadata": {
    "id": "1613901b"
   },
   "source": [
    "<a name='02-01'></a>\n",
    "### 2.1 데이터 통합 \n",
    "\n",
    "학습 데이터의 특징과 타깃 변수가 다른 파일에 존재하므로, 이를 통합하기 위한 작업을 수행합니다. \n",
    "\n",
    "key_val 을 기준으로 train_sensor (X인자)와 train_quality (y인자)의 데이터프레임을 통합합니다.\n",
    "\n",
    "key_val 별 665개의 센서값 컬럼을 생성하기 위해 pandas의 pivot_table 함수를 사용합니다. \n",
    "\n",
    "pivot_table 의 주요 인자는 **index, agg_func, columns** 입니다.\n",
    "\n",
    "1. **index** : key_val 을 기준으로 그룹핑을 하고자 하므로, index 에 key_val 과 그의 상위 그룹인 module_name 을 입력합니다.  \n",
    "2. **agg_func** : values 에 mean_val 을 입력하고, 해당 값에 대한 산식을 sum으로 설정합니다. \n",
    "3. **columns** : step_param 을 columns 인자로 주어, key_val 별 665개의 스텝 단위의 센서 특징을 생성합니다. "
   ]
  },
  {
   "cell_type": "code",
   "execution_count": null,
   "id": "d7bc0916",
   "metadata": {
    "id": "d7bc0916"
   },
   "outputs": [],
   "source": [
    "def make_dataset(X, y=None):\n",
    "    \n",
    "    # -----------------------------------\n",
    "    # train_sensor (X 인자)\n",
    "    # -----------------------------------\n",
    "    df_X = X.copy()\n",
    "    df_X['step_id'] = df_X['step_id'].apply(lambda x: str(x).zfill(2))\n",
    "    # step_id 와 param_alias 를 결합한 임시 컬럼 step_param 을 생성합니다. ex. 17_EPD_para4\n",
    "    df_X['step_param'] = df_X[['step_id', 'param_alias']].apply(lambda x: '_'.join(x), axis=1)\n",
    "    df_X_tmp = df_X.pivot_table(index = ['module_name','key_val'], columns = 'step_param', values='mean_val', aggfunc='sum')\n",
    "    # 데이터 통합을 위해 인덱스를 key_val 로 재설정합니다. \n",
    "    df_X_tmp = df_X_tmp.reset_index(level=[0, 1])\n",
    "    df_X_tmp.set_index('key_val', inplace=True)\n",
    "\n",
    "    # -----------------------------------\n",
    "    # 시간 데이터 \n",
    "    # -----------------------------------\n",
    "    df_X['end_time_tmp'] = df_X.apply(lambda x: x['step_id'] + '_end_time', axis=1)\n",
    "    df_X['end_time'] = pd.to_datetime(df_X['end_time'])\n",
    "    # end_time 은 센서 데이터가 서버에 도달한 시간으로 스텝 내 오차가 발생할 수 있습니다. 동일 스텝 구간내 공정 완료 시간이 다른 경우, max 함수를 사용하여 가장 최근에 \n",
    "    # 수집된 시간을 가져옵니다. \n",
    "    df_time_tmp = df_X.pivot_table(index = ['key_val'], columns = 'end_time_tmp', values='end_time', aggfunc=lambda x : max(x.unique()))\n",
    "    df_time_tmp = df_time_tmp.reset_index()\n",
    "    df_time_tmp.set_index('key_val', inplace=True)\n",
    "\n",
    "    # -----------------------------------\n",
    "    # train_quality (y 인자)\n",
    "    # -----------------------------------\n",
    "\n",
    "    if y is None : # 평가용 데이터 \n",
    "      \n",
    "      col_target = []\n",
    "      col_idx = ['module_name', 'key_val']\n",
    "      df_complete = pd.concat([df_X_tmp, df_time_tmp], axis=1).reset_index()\n",
    "    \n",
    "    else : # 학습용 데이터 \n",
    "      df_y = y.copy()\n",
    "      df_y.set_index('key_val', inplace=True)\n",
    "      \n",
    "      col_target = ['y']\n",
    "      col_idx = ['module_name', 'key_val', 'end_dt_tm']\n",
    "      \n",
    "      # 센서 데이터, 시간데이터, 품질지표에 대하여 인덱스(key_val)기준으로 데이터프레임을 통합합니다.\n",
    "      df_complete = pd.concat([df_X_tmp, df_time_tmp, df_y], axis=1).reset_index()\n",
    "\n",
    "      # 컬럼 이름을 변경합니다.  \n",
    "      df_complete.rename(columns={'msure_val':'y'}, inplace=True)\n",
    "\n",
    "\n",
    "    # 컬럼 순서를 정렬합니다. \n",
    "    col_feats = df_X['step_param'].unique().tolist()\n",
    "    col_feats.sort()\n",
    "    col_time = [s for s in df_complete.columns.tolist() if \"_end_time\" in s]\n",
    "    col_all = col_idx + col_target + col_feats + col_time\n",
    "    df_complete = df_complete[col_all]\n",
    "    \n",
    "    # 컬럼을 소문자로 변경합니다. \n",
    "    df_complete.columns = df_complete.columns.str.lower()\n",
    "\n",
    "    return df_complete\n"
   ]
  },
  {
   "cell_type": "code",
   "execution_count": null,
   "id": "73fd4a6b",
   "metadata": {
    "id": "73fd4a6b"
   },
   "outputs": [],
   "source": [
    "# 학습용 데이터 \n",
    "train = make_dataset(train_sensor, train_quality)\n",
    "# 평가용 데이터 \n",
    "predict = make_dataset(predict_sensor)"
   ]
  },
  {
   "cell_type": "code",
   "execution_count": null,
   "id": "SIauyDrLJ5KX",
   "metadata": {
    "colab": {
     "base_uri": "https://localhost:8080/",
     "height": 341
    },
    "id": "SIauyDrLJ5KX",
    "outputId": "dc0749ba-85e8-40c0-86bd-5fd78c9bb147"
   },
   "outputs": [
    {
     "data": {
      "text/html": [
       "\n",
       "  <div id=\"df-6e95a009-c166-4120-9f0b-dafa079c2648\">\n",
       "    <div class=\"colab-df-container\">\n",
       "      <div>\n",
       "<style scoped>\n",
       "    .dataframe tbody tr th:only-of-type {\n",
       "        vertical-align: middle;\n",
       "    }\n",
       "\n",
       "    .dataframe tbody tr th {\n",
       "        vertical-align: top;\n",
       "    }\n",
       "\n",
       "    .dataframe thead th {\n",
       "        text-align: right;\n",
       "    }\n",
       "</style>\n",
       "<table border=\"1\" class=\"dataframe\">\n",
       "  <thead>\n",
       "    <tr style=\"text-align: right;\">\n",
       "      <th></th>\n",
       "      <th>module_name</th>\n",
       "      <th>key_val</th>\n",
       "      <th>end_dt_tm</th>\n",
       "      <th>y</th>\n",
       "      <th>04_efem_para2</th>\n",
       "      <th>04_efem_para25</th>\n",
       "      <th>04_efem_para78</th>\n",
       "      <th>04_epd_para4</th>\n",
       "      <th>04_epd_para40</th>\n",
       "      <th>04_epd_para63</th>\n",
       "      <th>...</th>\n",
       "      <th>20_time_para9</th>\n",
       "      <th>20_time_para90</th>\n",
       "      <th>20_tmp_para31</th>\n",
       "      <th>04_end_time</th>\n",
       "      <th>06_end_time</th>\n",
       "      <th>12_end_time</th>\n",
       "      <th>13_end_time</th>\n",
       "      <th>17_end_time</th>\n",
       "      <th>18_end_time</th>\n",
       "      <th>20_end_time</th>\n",
       "    </tr>\n",
       "  </thead>\n",
       "  <tbody>\n",
       "    <tr>\n",
       "      <th>0</th>\n",
       "      <td>EQ10_PM1</td>\n",
       "      <td>LOT124_21</td>\n",
       "      <td>2021-10-18 18:12:50</td>\n",
       "      <td>1257.84920</td>\n",
       "      <td>1627.636</td>\n",
       "      <td>1638.818</td>\n",
       "      <td>5.140073</td>\n",
       "      <td>0.0</td>\n",
       "      <td>0.0</td>\n",
       "      <td>0.0</td>\n",
       "      <td>...</td>\n",
       "      <td>458.3667</td>\n",
       "      <td>2786.450</td>\n",
       "      <td>3.432500</td>\n",
       "      <td>2021-10-18 11:00:06</td>\n",
       "      <td>2021-10-18 11:02:32</td>\n",
       "      <td>2021-10-18 11:16:38</td>\n",
       "      <td>2021-10-18 11:16:54</td>\n",
       "      <td>2021-10-18 11:24:51</td>\n",
       "      <td>2021-10-18 11:25:07</td>\n",
       "      <td>2021-10-18 11:31:58</td>\n",
       "    </tr>\n",
       "    <tr>\n",
       "      <th>1</th>\n",
       "      <td>EQ10_PM1</td>\n",
       "      <td>LOT126_21</td>\n",
       "      <td>2021-10-04 23:34:27</td>\n",
       "      <td>1253.30152</td>\n",
       "      <td>1627.971</td>\n",
       "      <td>1641.118</td>\n",
       "      <td>5.023404</td>\n",
       "      <td>0.0</td>\n",
       "      <td>0.0</td>\n",
       "      <td>0.0</td>\n",
       "      <td>...</td>\n",
       "      <td>166.2667</td>\n",
       "      <td>2494.350</td>\n",
       "      <td>3.411500</td>\n",
       "      <td>2021-10-04 11:09:20</td>\n",
       "      <td>2021-10-04 11:11:45</td>\n",
       "      <td>2021-10-04 11:25:52</td>\n",
       "      <td>2021-10-04 11:26:08</td>\n",
       "      <td>2021-10-04 11:34:05</td>\n",
       "      <td>2021-10-04 11:34:21</td>\n",
       "      <td>2021-10-04 11:41:12</td>\n",
       "    </tr>\n",
       "    <tr>\n",
       "      <th>2</th>\n",
       "      <td>EQ10_PM1</td>\n",
       "      <td>LOT191_17</td>\n",
       "      <td>2021-10-22 11:59:52</td>\n",
       "      <td>1265.93544</td>\n",
       "      <td>1627.182</td>\n",
       "      <td>1637.000</td>\n",
       "      <td>5.042702</td>\n",
       "      <td>0.0</td>\n",
       "      <td>0.0</td>\n",
       "      <td>0.0</td>\n",
       "      <td>...</td>\n",
       "      <td>515.9500</td>\n",
       "      <td>2844.033</td>\n",
       "      <td>3.436816</td>\n",
       "      <td>2021-10-21 08:25:57</td>\n",
       "      <td>2021-10-21 08:28:23</td>\n",
       "      <td>2021-10-21 08:42:29</td>\n",
       "      <td>2021-10-21 08:42:45</td>\n",
       "      <td>2021-10-21 08:50:41</td>\n",
       "      <td>2021-10-21 08:50:57</td>\n",
       "      <td>2021-10-21 08:57:48</td>\n",
       "    </tr>\n",
       "  </tbody>\n",
       "</table>\n",
       "<p>3 rows × 676 columns</p>\n",
       "</div>\n",
       "      <button class=\"colab-df-convert\" onclick=\"convertToInteractive('df-6e95a009-c166-4120-9f0b-dafa079c2648')\"\n",
       "              title=\"Convert this dataframe to an interactive table.\"\n",
       "              style=\"display:none;\">\n",
       "        \n",
       "  <svg xmlns=\"http://www.w3.org/2000/svg\" height=\"24px\"viewBox=\"0 0 24 24\"\n",
       "       width=\"24px\">\n",
       "    <path d=\"M0 0h24v24H0V0z\" fill=\"none\"/>\n",
       "    <path d=\"M18.56 5.44l.94 2.06.94-2.06 2.06-.94-2.06-.94-.94-2.06-.94 2.06-2.06.94zm-11 1L8.5 8.5l.94-2.06 2.06-.94-2.06-.94L8.5 2.5l-.94 2.06-2.06.94zm10 10l.94 2.06.94-2.06 2.06-.94-2.06-.94-.94-2.06-.94 2.06-2.06.94z\"/><path d=\"M17.41 7.96l-1.37-1.37c-.4-.4-.92-.59-1.43-.59-.52 0-1.04.2-1.43.59L10.3 9.45l-7.72 7.72c-.78.78-.78 2.05 0 2.83L4 21.41c.39.39.9.59 1.41.59.51 0 1.02-.2 1.41-.59l7.78-7.78 2.81-2.81c.8-.78.8-2.07 0-2.86zM5.41 20L4 18.59l7.72-7.72 1.47 1.35L5.41 20z\"/>\n",
       "  </svg>\n",
       "      </button>\n",
       "      \n",
       "  <style>\n",
       "    .colab-df-container {\n",
       "      display:flex;\n",
       "      flex-wrap:wrap;\n",
       "      gap: 12px;\n",
       "    }\n",
       "\n",
       "    .colab-df-convert {\n",
       "      background-color: #E8F0FE;\n",
       "      border: none;\n",
       "      border-radius: 50%;\n",
       "      cursor: pointer;\n",
       "      display: none;\n",
       "      fill: #1967D2;\n",
       "      height: 32px;\n",
       "      padding: 0 0 0 0;\n",
       "      width: 32px;\n",
       "    }\n",
       "\n",
       "    .colab-df-convert:hover {\n",
       "      background-color: #E2EBFA;\n",
       "      box-shadow: 0px 1px 2px rgba(60, 64, 67, 0.3), 0px 1px 3px 1px rgba(60, 64, 67, 0.15);\n",
       "      fill: #174EA6;\n",
       "    }\n",
       "\n",
       "    [theme=dark] .colab-df-convert {\n",
       "      background-color: #3B4455;\n",
       "      fill: #D2E3FC;\n",
       "    }\n",
       "\n",
       "    [theme=dark] .colab-df-convert:hover {\n",
       "      background-color: #434B5C;\n",
       "      box-shadow: 0px 1px 3px 1px rgba(0, 0, 0, 0.15);\n",
       "      filter: drop-shadow(0px 1px 2px rgba(0, 0, 0, 0.3));\n",
       "      fill: #FFFFFF;\n",
       "    }\n",
       "  </style>\n",
       "\n",
       "      <script>\n",
       "        const buttonEl =\n",
       "          document.querySelector('#df-6e95a009-c166-4120-9f0b-dafa079c2648 button.colab-df-convert');\n",
       "        buttonEl.style.display =\n",
       "          google.colab.kernel.accessAllowed ? 'block' : 'none';\n",
       "\n",
       "        async function convertToInteractive(key) {\n",
       "          const element = document.querySelector('#df-6e95a009-c166-4120-9f0b-dafa079c2648');\n",
       "          const dataTable =\n",
       "            await google.colab.kernel.invokeFunction('convertToInteractive',\n",
       "                                                     [key], {});\n",
       "          if (!dataTable) return;\n",
       "\n",
       "          const docLinkHtml = 'Like what you see? Visit the ' +\n",
       "            '<a target=\"_blank\" href=https://colab.research.google.com/notebooks/data_table.ipynb>data table notebook</a>'\n",
       "            + ' to learn more about interactive tables.';\n",
       "          element.innerHTML = '';\n",
       "          dataTable['output_type'] = 'display_data';\n",
       "          await google.colab.output.renderOutput(dataTable, element);\n",
       "          const docLink = document.createElement('div');\n",
       "          docLink.innerHTML = docLinkHtml;\n",
       "          element.appendChild(docLink);\n",
       "        }\n",
       "      </script>\n",
       "    </div>\n",
       "  </div>\n",
       "  "
      ],
      "text/plain": [
       "  module_name    key_val            end_dt_tm           y  04_efem_para2  \\\n",
       "0    EQ10_PM1  LOT124_21  2021-10-18 18:12:50  1257.84920       1627.636   \n",
       "1    EQ10_PM1  LOT126_21  2021-10-04 23:34:27  1253.30152       1627.971   \n",
       "2    EQ10_PM1  LOT191_17  2021-10-22 11:59:52  1265.93544       1627.182   \n",
       "\n",
       "   04_efem_para25  04_efem_para78  04_epd_para4  04_epd_para40  04_epd_para63  \\\n",
       "0        1638.818        5.140073           0.0            0.0            0.0   \n",
       "1        1641.118        5.023404           0.0            0.0            0.0   \n",
       "2        1637.000        5.042702           0.0            0.0            0.0   \n",
       "\n",
       "   ...  20_time_para9  20_time_para90  20_tmp_para31         04_end_time  \\\n",
       "0  ...       458.3667        2786.450       3.432500 2021-10-18 11:00:06   \n",
       "1  ...       166.2667        2494.350       3.411500 2021-10-04 11:09:20   \n",
       "2  ...       515.9500        2844.033       3.436816 2021-10-21 08:25:57   \n",
       "\n",
       "          06_end_time         12_end_time         13_end_time  \\\n",
       "0 2021-10-18 11:02:32 2021-10-18 11:16:38 2021-10-18 11:16:54   \n",
       "1 2021-10-04 11:11:45 2021-10-04 11:25:52 2021-10-04 11:26:08   \n",
       "2 2021-10-21 08:28:23 2021-10-21 08:42:29 2021-10-21 08:42:45   \n",
       "\n",
       "          17_end_time         18_end_time         20_end_time  \n",
       "0 2021-10-18 11:24:51 2021-10-18 11:25:07 2021-10-18 11:31:58  \n",
       "1 2021-10-04 11:34:05 2021-10-04 11:34:21 2021-10-04 11:41:12  \n",
       "2 2021-10-21 08:50:41 2021-10-21 08:50:57 2021-10-21 08:57:48  \n",
       "\n",
       "[3 rows x 676 columns]"
      ]
     },
     "execution_count": 15,
     "metadata": {},
     "output_type": "execute_result"
    }
   ],
   "source": [
    "train.head(3)"
   ]
  },
  {
   "cell_type": "code",
   "execution_count": null,
   "id": "87VgfyZSJ726",
   "metadata": {
    "colab": {
     "base_uri": "https://localhost:8080/",
     "height": 289
    },
    "id": "87VgfyZSJ726",
    "outputId": "2a14a972-f56c-403a-90ec-c202953880d4"
   },
   "outputs": [
    {
     "data": {
      "text/html": [
       "\n",
       "  <div id=\"df-7d876382-74e7-4410-ad94-e659d1cb3e0b\">\n",
       "    <div class=\"colab-df-container\">\n",
       "      <div>\n",
       "<style scoped>\n",
       "    .dataframe tbody tr th:only-of-type {\n",
       "        vertical-align: middle;\n",
       "    }\n",
       "\n",
       "    .dataframe tbody tr th {\n",
       "        vertical-align: top;\n",
       "    }\n",
       "\n",
       "    .dataframe thead th {\n",
       "        text-align: right;\n",
       "    }\n",
       "</style>\n",
       "<table border=\"1\" class=\"dataframe\">\n",
       "  <thead>\n",
       "    <tr style=\"text-align: right;\">\n",
       "      <th></th>\n",
       "      <th>module_name</th>\n",
       "      <th>key_val</th>\n",
       "      <th>04_efem_para2</th>\n",
       "      <th>04_efem_para25</th>\n",
       "      <th>04_efem_para78</th>\n",
       "      <th>04_epd_para4</th>\n",
       "      <th>04_epd_para40</th>\n",
       "      <th>04_epd_para63</th>\n",
       "      <th>04_epd_para80</th>\n",
       "      <th>04_esc_para84</th>\n",
       "      <th>...</th>\n",
       "      <th>20_time_para9</th>\n",
       "      <th>20_time_para90</th>\n",
       "      <th>20_tmp_para31</th>\n",
       "      <th>04_end_time</th>\n",
       "      <th>06_end_time</th>\n",
       "      <th>12_end_time</th>\n",
       "      <th>13_end_time</th>\n",
       "      <th>17_end_time</th>\n",
       "      <th>18_end_time</th>\n",
       "      <th>20_end_time</th>\n",
       "    </tr>\n",
       "  </thead>\n",
       "  <tbody>\n",
       "    <tr>\n",
       "      <th>0</th>\n",
       "      <td>EQ10_PM1</td>\n",
       "      <td>LOT122_18</td>\n",
       "      <td>1630.2900</td>\n",
       "      <td>1637.1610</td>\n",
       "      <td>5.254062</td>\n",
       "      <td>0.0</td>\n",
       "      <td>0.0</td>\n",
       "      <td>0.0</td>\n",
       "      <td>0.0</td>\n",
       "      <td>2999.0</td>\n",
       "      <td>...</td>\n",
       "      <td>63.63334</td>\n",
       "      <td>63.63334</td>\n",
       "      <td>3.395025</td>\n",
       "      <td>2021-10-29 11:49:11</td>\n",
       "      <td>2021-10-29 11:51:12</td>\n",
       "      <td>2021-10-29 12:04:28</td>\n",
       "      <td>2021-10-29 12:04:44</td>\n",
       "      <td>2021-10-29 12:12:41</td>\n",
       "      <td>2021-10-29 12:12:57</td>\n",
       "      <td>2021-10-29 12:19:48</td>\n",
       "    </tr>\n",
       "    <tr>\n",
       "      <th>1</th>\n",
       "      <td>EQ10_PM1</td>\n",
       "      <td>LOT313_18</td>\n",
       "      <td>1627.2812</td>\n",
       "      <td>1637.3125</td>\n",
       "      <td>5.147371</td>\n",
       "      <td>0.0</td>\n",
       "      <td>0.0</td>\n",
       "      <td>0.0</td>\n",
       "      <td>0.0</td>\n",
       "      <td>2999.0</td>\n",
       "      <td>...</td>\n",
       "      <td>74.03333</td>\n",
       "      <td>74.03333</td>\n",
       "      <td>3.398507</td>\n",
       "      <td>2021-10-29 23:05:49</td>\n",
       "      <td>2021-10-29 23:07:51</td>\n",
       "      <td>2021-10-29 23:21:08</td>\n",
       "      <td>2021-10-29 23:21:24</td>\n",
       "      <td>2021-10-29 23:29:20</td>\n",
       "      <td>2021-10-29 23:29:36</td>\n",
       "      <td>2021-10-29 23:36:27</td>\n",
       "    </tr>\n",
       "    <tr>\n",
       "      <th>2</th>\n",
       "      <td>EQ10_PM1</td>\n",
       "      <td>LOT380_17</td>\n",
       "      <td>1626.8125</td>\n",
       "      <td>1635.9062</td>\n",
       "      <td>5.141955</td>\n",
       "      <td>0.0</td>\n",
       "      <td>0.0</td>\n",
       "      <td>0.0</td>\n",
       "      <td>0.0</td>\n",
       "      <td>2999.0</td>\n",
       "      <td>...</td>\n",
       "      <td>38.20000</td>\n",
       "      <td>38.20000</td>\n",
       "      <td>3.393516</td>\n",
       "      <td>2021-10-28 08:15:36</td>\n",
       "      <td>2021-10-28 08:17:39</td>\n",
       "      <td>2021-10-28 08:30:54</td>\n",
       "      <td>2021-10-28 08:31:10</td>\n",
       "      <td>2021-10-28 08:39:07</td>\n",
       "      <td>2021-10-28 08:39:23</td>\n",
       "      <td>2021-10-28 08:46:13</td>\n",
       "    </tr>\n",
       "  </tbody>\n",
       "</table>\n",
       "<p>3 rows × 674 columns</p>\n",
       "</div>\n",
       "      <button class=\"colab-df-convert\" onclick=\"convertToInteractive('df-7d876382-74e7-4410-ad94-e659d1cb3e0b')\"\n",
       "              title=\"Convert this dataframe to an interactive table.\"\n",
       "              style=\"display:none;\">\n",
       "        \n",
       "  <svg xmlns=\"http://www.w3.org/2000/svg\" height=\"24px\"viewBox=\"0 0 24 24\"\n",
       "       width=\"24px\">\n",
       "    <path d=\"M0 0h24v24H0V0z\" fill=\"none\"/>\n",
       "    <path d=\"M18.56 5.44l.94 2.06.94-2.06 2.06-.94-2.06-.94-.94-2.06-.94 2.06-2.06.94zm-11 1L8.5 8.5l.94-2.06 2.06-.94-2.06-.94L8.5 2.5l-.94 2.06-2.06.94zm10 10l.94 2.06.94-2.06 2.06-.94-2.06-.94-.94-2.06-.94 2.06-2.06.94z\"/><path d=\"M17.41 7.96l-1.37-1.37c-.4-.4-.92-.59-1.43-.59-.52 0-1.04.2-1.43.59L10.3 9.45l-7.72 7.72c-.78.78-.78 2.05 0 2.83L4 21.41c.39.39.9.59 1.41.59.51 0 1.02-.2 1.41-.59l7.78-7.78 2.81-2.81c.8-.78.8-2.07 0-2.86zM5.41 20L4 18.59l7.72-7.72 1.47 1.35L5.41 20z\"/>\n",
       "  </svg>\n",
       "      </button>\n",
       "      \n",
       "  <style>\n",
       "    .colab-df-container {\n",
       "      display:flex;\n",
       "      flex-wrap:wrap;\n",
       "      gap: 12px;\n",
       "    }\n",
       "\n",
       "    .colab-df-convert {\n",
       "      background-color: #E8F0FE;\n",
       "      border: none;\n",
       "      border-radius: 50%;\n",
       "      cursor: pointer;\n",
       "      display: none;\n",
       "      fill: #1967D2;\n",
       "      height: 32px;\n",
       "      padding: 0 0 0 0;\n",
       "      width: 32px;\n",
       "    }\n",
       "\n",
       "    .colab-df-convert:hover {\n",
       "      background-color: #E2EBFA;\n",
       "      box-shadow: 0px 1px 2px rgba(60, 64, 67, 0.3), 0px 1px 3px 1px rgba(60, 64, 67, 0.15);\n",
       "      fill: #174EA6;\n",
       "    }\n",
       "\n",
       "    [theme=dark] .colab-df-convert {\n",
       "      background-color: #3B4455;\n",
       "      fill: #D2E3FC;\n",
       "    }\n",
       "\n",
       "    [theme=dark] .colab-df-convert:hover {\n",
       "      background-color: #434B5C;\n",
       "      box-shadow: 0px 1px 3px 1px rgba(0, 0, 0, 0.15);\n",
       "      filter: drop-shadow(0px 1px 2px rgba(0, 0, 0, 0.3));\n",
       "      fill: #FFFFFF;\n",
       "    }\n",
       "  </style>\n",
       "\n",
       "      <script>\n",
       "        const buttonEl =\n",
       "          document.querySelector('#df-7d876382-74e7-4410-ad94-e659d1cb3e0b button.colab-df-convert');\n",
       "        buttonEl.style.display =\n",
       "          google.colab.kernel.accessAllowed ? 'block' : 'none';\n",
       "\n",
       "        async function convertToInteractive(key) {\n",
       "          const element = document.querySelector('#df-7d876382-74e7-4410-ad94-e659d1cb3e0b');\n",
       "          const dataTable =\n",
       "            await google.colab.kernel.invokeFunction('convertToInteractive',\n",
       "                                                     [key], {});\n",
       "          if (!dataTable) return;\n",
       "\n",
       "          const docLinkHtml = 'Like what you see? Visit the ' +\n",
       "            '<a target=\"_blank\" href=https://colab.research.google.com/notebooks/data_table.ipynb>data table notebook</a>'\n",
       "            + ' to learn more about interactive tables.';\n",
       "          element.innerHTML = '';\n",
       "          dataTable['output_type'] = 'display_data';\n",
       "          await google.colab.output.renderOutput(dataTable, element);\n",
       "          const docLink = document.createElement('div');\n",
       "          docLink.innerHTML = docLinkHtml;\n",
       "          element.appendChild(docLink);\n",
       "        }\n",
       "      </script>\n",
       "    </div>\n",
       "  </div>\n",
       "  "
      ],
      "text/plain": [
       "  module_name    key_val  04_efem_para2  04_efem_para25  04_efem_para78  \\\n",
       "0    EQ10_PM1  LOT122_18      1630.2900       1637.1610        5.254062   \n",
       "1    EQ10_PM1  LOT313_18      1627.2812       1637.3125        5.147371   \n",
       "2    EQ10_PM1  LOT380_17      1626.8125       1635.9062        5.141955   \n",
       "\n",
       "   04_epd_para4  04_epd_para40  04_epd_para63  04_epd_para80  04_esc_para84  \\\n",
       "0           0.0            0.0            0.0            0.0         2999.0   \n",
       "1           0.0            0.0            0.0            0.0         2999.0   \n",
       "2           0.0            0.0            0.0            0.0         2999.0   \n",
       "\n",
       "   ...  20_time_para9  20_time_para90  20_tmp_para31         04_end_time  \\\n",
       "0  ...       63.63334        63.63334       3.395025 2021-10-29 11:49:11   \n",
       "1  ...       74.03333        74.03333       3.398507 2021-10-29 23:05:49   \n",
       "2  ...       38.20000        38.20000       3.393516 2021-10-28 08:15:36   \n",
       "\n",
       "          06_end_time         12_end_time         13_end_time  \\\n",
       "0 2021-10-29 11:51:12 2021-10-29 12:04:28 2021-10-29 12:04:44   \n",
       "1 2021-10-29 23:07:51 2021-10-29 23:21:08 2021-10-29 23:21:24   \n",
       "2 2021-10-28 08:17:39 2021-10-28 08:30:54 2021-10-28 08:31:10   \n",
       "\n",
       "          17_end_time         18_end_time         20_end_time  \n",
       "0 2021-10-29 12:12:41 2021-10-29 12:12:57 2021-10-29 12:19:48  \n",
       "1 2021-10-29 23:29:20 2021-10-29 23:29:36 2021-10-29 23:36:27  \n",
       "2 2021-10-28 08:39:07 2021-10-28 08:39:23 2021-10-28 08:46:13  \n",
       "\n",
       "[3 rows x 674 columns]"
      ]
     },
     "execution_count": 16,
     "metadata": {},
     "output_type": "execute_result"
    }
   ],
   "source": [
    "predict.head(3)"
   ]
  },
  {
   "cell_type": "markdown",
   "id": "ab164e3b",
   "metadata": {
    "id": "ab164e3b"
   },
   "source": [
    "<a name='02-02'></a>\n",
    "### 2.2 데이터 설명"
   ]
  },
  {
   "cell_type": "code",
   "execution_count": null,
   "id": "3f0e9e3e",
   "metadata": {
    "id": "3f0e9e3e"
   },
   "outputs": [],
   "source": [
    "def rstr(df, pred=None): \n",
    "    \n",
    "    obs = df.shape[0]\n",
    "    types = df.dtypes # 자료형 \n",
    "    counts = df.apply(lambda x: x.count()) # 값의 갯수 \n",
    "    uniques = df.apply(lambda x: x.unique()) # 고유값 \n",
    "    distincts = df.apply(lambda x: x.unique().shape[0]) # 고유값의 갯수 \n",
    "    nulls = df.apply(lambda x: x.isnull().sum()) # 결측치의 갯수  \n",
    "    nulls_ratio = (df.isnull().sum()/ obs) * 100 # 결측 비율 \n",
    "    skewness = df.skew() # 왜도  \n",
    "    kurtosis = df.kurt() # 첨도  \n",
    "    \n",
    "    print('Data shape:', df.shape)\n",
    "    \n",
    "    if pred is None:\n",
    "        cols = ['types', 'counts', 'distincts', 'nulls', 'nulls_ratio', 'uniques', 'skewness', 'kurtosis']\n",
    "        str = pd.concat([types, counts, distincts, nulls, nulls_ratio, uniques, skewness, kurtosis], axis = 1)\n",
    "\n",
    "    else:\n",
    "        corr = df.corr()[pred]\n",
    "        str = pd.concat([types, counts, distincts, nulls, nulls_ratio, uniques, skewness, kurtosis, corr], axis = 1, sort=False)\n",
    "        corr_col = 'corr '  + pred\n",
    "        cols = ['types', 'counts', 'distincts', 'nulls', 'nulls_ratio', 'uniques', 'skewness', 'kurtosis', corr_col ]\n",
    "\n",
    "    str.columns = cols\n",
    "    dtypes = str.types.value_counts()\n",
    "    print('___________________________\\nData types:\\n',str.types.value_counts())\n",
    "    print('___________________________')\n",
    "    \n",
    "    return str"
   ]
  },
  {
   "cell_type": "markdown",
   "id": "31fdd142",
   "metadata": {
    "id": "31fdd142"
   },
   "source": [
    "학습 데이터의 수는 611건이며, 665개의 센서 데이터와 7개의 시간 데이터의 특성을 가지고 있습니다. "
   ]
  },
  {
   "cell_type": "code",
   "execution_count": null,
   "id": "8ea6bcd2",
   "metadata": {
    "colab": {
     "base_uri": "https://localhost:8080/",
     "height": 571
    },
    "id": "8ea6bcd2",
    "outputId": "d0df5469-d165-4e38-a829-a64ee4d7e565"
   },
   "outputs": [
    {
     "name": "stdout",
     "output_type": "stream",
     "text": [
      "Data shape: (611, 676)\n",
      "___________________________\n",
      "Data types:\n",
      " float64           666\n",
      "datetime64[ns]      7\n",
      "object              3\n",
      "Name: types, dtype: int64\n",
      "___________________________\n"
     ]
    },
    {
     "data": {
      "text/html": [
       "\n",
       "  <div id=\"df-1eaa4a7d-ad87-4284-9631-7610cced9836\">\n",
       "    <div class=\"colab-df-container\">\n",
       "      <div>\n",
       "<style scoped>\n",
       "    .dataframe tbody tr th:only-of-type {\n",
       "        vertical-align: middle;\n",
       "    }\n",
       "\n",
       "    .dataframe tbody tr th {\n",
       "        vertical-align: top;\n",
       "    }\n",
       "\n",
       "    .dataframe thead th {\n",
       "        text-align: right;\n",
       "    }\n",
       "</style>\n",
       "<table border=\"1\" class=\"dataframe\">\n",
       "  <thead>\n",
       "    <tr style=\"text-align: right;\">\n",
       "      <th></th>\n",
       "      <th>types</th>\n",
       "      <th>counts</th>\n",
       "      <th>distincts</th>\n",
       "      <th>nulls</th>\n",
       "      <th>nulls_ratio</th>\n",
       "      <th>uniques</th>\n",
       "      <th>skewness</th>\n",
       "      <th>kurtosis</th>\n",
       "      <th>corr y</th>\n",
       "    </tr>\n",
       "  </thead>\n",
       "  <tbody>\n",
       "    <tr>\n",
       "      <th>y</th>\n",
       "      <td>float64</td>\n",
       "      <td>611</td>\n",
       "      <td>591</td>\n",
       "      <td>0</td>\n",
       "      <td>0.0</td>\n",
       "      <td>[1257.8492, 1253.30152, 1265.93544, 1248.5508,...</td>\n",
       "      <td>-0.059197</td>\n",
       "      <td>0.342927</td>\n",
       "      <td>1.000000</td>\n",
       "    </tr>\n",
       "    <tr>\n",
       "      <th>20_temp_para24</th>\n",
       "      <td>float64</td>\n",
       "      <td>611</td>\n",
       "      <td>575</td>\n",
       "      <td>0</td>\n",
       "      <td>0.0</td>\n",
       "      <td>[50.28713, 51.87376, 49.72592, 51.89357, 49.61...</td>\n",
       "      <td>-0.438729</td>\n",
       "      <td>0.090808</td>\n",
       "      <td>0.196888</td>\n",
       "    </tr>\n",
       "    <tr>\n",
       "      <th>13_temp_para24</th>\n",
       "      <td>float64</td>\n",
       "      <td>611</td>\n",
       "      <td>189</td>\n",
       "      <td>0</td>\n",
       "      <td>0.0</td>\n",
       "      <td>[69.5625, 72.6875, 68.3125, 71.125, 66.125, 72...</td>\n",
       "      <td>-0.309862</td>\n",
       "      <td>-0.110704</td>\n",
       "      <td>0.194742</td>\n",
       "    </tr>\n",
       "    <tr>\n",
       "      <th>12_temp_para24</th>\n",
       "      <td>float64</td>\n",
       "      <td>611</td>\n",
       "      <td>425</td>\n",
       "      <td>0</td>\n",
       "      <td>0.0</td>\n",
       "      <td>[68.45, 70.56667, 67.43333, 70.66666, 66.55932...</td>\n",
       "      <td>-0.340203</td>\n",
       "      <td>-0.064225</td>\n",
       "      <td>0.189035</td>\n",
       "    </tr>\n",
       "    <tr>\n",
       "      <th>17_temp_para24</th>\n",
       "      <td>float64</td>\n",
       "      <td>611</td>\n",
       "      <td>419</td>\n",
       "      <td>0</td>\n",
       "      <td>0.0</td>\n",
       "      <td>[69.63333, 72.21667, 69.96667, 71.73333, 69.35...</td>\n",
       "      <td>-0.439029</td>\n",
       "      <td>0.009083</td>\n",
       "      <td>0.183320</td>\n",
       "    </tr>\n",
       "    <tr>\n",
       "      <th>...</th>\n",
       "      <td>...</td>\n",
       "      <td>...</td>\n",
       "      <td>...</td>\n",
       "      <td>...</td>\n",
       "      <td>...</td>\n",
       "      <td>...</td>\n",
       "      <td>...</td>\n",
       "      <td>...</td>\n",
       "      <td>...</td>\n",
       "    </tr>\n",
       "    <tr>\n",
       "      <th>12_end_time</th>\n",
       "      <td>datetime64[ns]</td>\n",
       "      <td>611</td>\n",
       "      <td>611</td>\n",
       "      <td>0</td>\n",
       "      <td>0.0</td>\n",
       "      <td>[2021-10-18T11:16:38.000000000, 2021-10-04T11:...</td>\n",
       "      <td>NaN</td>\n",
       "      <td>NaN</td>\n",
       "      <td>NaN</td>\n",
       "    </tr>\n",
       "    <tr>\n",
       "      <th>13_end_time</th>\n",
       "      <td>datetime64[ns]</td>\n",
       "      <td>611</td>\n",
       "      <td>611</td>\n",
       "      <td>0</td>\n",
       "      <td>0.0</td>\n",
       "      <td>[2021-10-18T11:16:54.000000000, 2021-10-04T11:...</td>\n",
       "      <td>NaN</td>\n",
       "      <td>NaN</td>\n",
       "      <td>NaN</td>\n",
       "    </tr>\n",
       "    <tr>\n",
       "      <th>17_end_time</th>\n",
       "      <td>datetime64[ns]</td>\n",
       "      <td>611</td>\n",
       "      <td>611</td>\n",
       "      <td>0</td>\n",
       "      <td>0.0</td>\n",
       "      <td>[2021-10-18T11:24:51.000000000, 2021-10-04T11:...</td>\n",
       "      <td>NaN</td>\n",
       "      <td>NaN</td>\n",
       "      <td>NaN</td>\n",
       "    </tr>\n",
       "    <tr>\n",
       "      <th>18_end_time</th>\n",
       "      <td>datetime64[ns]</td>\n",
       "      <td>611</td>\n",
       "      <td>611</td>\n",
       "      <td>0</td>\n",
       "      <td>0.0</td>\n",
       "      <td>[2021-10-18T11:25:07.000000000, 2021-10-04T11:...</td>\n",
       "      <td>NaN</td>\n",
       "      <td>NaN</td>\n",
       "      <td>NaN</td>\n",
       "    </tr>\n",
       "    <tr>\n",
       "      <th>20_end_time</th>\n",
       "      <td>datetime64[ns]</td>\n",
       "      <td>611</td>\n",
       "      <td>611</td>\n",
       "      <td>0</td>\n",
       "      <td>0.0</td>\n",
       "      <td>[2021-10-18T11:31:58.000000000, 2021-10-04T11:...</td>\n",
       "      <td>NaN</td>\n",
       "      <td>NaN</td>\n",
       "      <td>NaN</td>\n",
       "    </tr>\n",
       "  </tbody>\n",
       "</table>\n",
       "<p>676 rows × 9 columns</p>\n",
       "</div>\n",
       "      <button class=\"colab-df-convert\" onclick=\"convertToInteractive('df-1eaa4a7d-ad87-4284-9631-7610cced9836')\"\n",
       "              title=\"Convert this dataframe to an interactive table.\"\n",
       "              style=\"display:none;\">\n",
       "        \n",
       "  <svg xmlns=\"http://www.w3.org/2000/svg\" height=\"24px\"viewBox=\"0 0 24 24\"\n",
       "       width=\"24px\">\n",
       "    <path d=\"M0 0h24v24H0V0z\" fill=\"none\"/>\n",
       "    <path d=\"M18.56 5.44l.94 2.06.94-2.06 2.06-.94-2.06-.94-.94-2.06-.94 2.06-2.06.94zm-11 1L8.5 8.5l.94-2.06 2.06-.94-2.06-.94L8.5 2.5l-.94 2.06-2.06.94zm10 10l.94 2.06.94-2.06 2.06-.94-2.06-.94-.94-2.06-.94 2.06-2.06.94z\"/><path d=\"M17.41 7.96l-1.37-1.37c-.4-.4-.92-.59-1.43-.59-.52 0-1.04.2-1.43.59L10.3 9.45l-7.72 7.72c-.78.78-.78 2.05 0 2.83L4 21.41c.39.39.9.59 1.41.59.51 0 1.02-.2 1.41-.59l7.78-7.78 2.81-2.81c.8-.78.8-2.07 0-2.86zM5.41 20L4 18.59l7.72-7.72 1.47 1.35L5.41 20z\"/>\n",
       "  </svg>\n",
       "      </button>\n",
       "      \n",
       "  <style>\n",
       "    .colab-df-container {\n",
       "      display:flex;\n",
       "      flex-wrap:wrap;\n",
       "      gap: 12px;\n",
       "    }\n",
       "\n",
       "    .colab-df-convert {\n",
       "      background-color: #E8F0FE;\n",
       "      border: none;\n",
       "      border-radius: 50%;\n",
       "      cursor: pointer;\n",
       "      display: none;\n",
       "      fill: #1967D2;\n",
       "      height: 32px;\n",
       "      padding: 0 0 0 0;\n",
       "      width: 32px;\n",
       "    }\n",
       "\n",
       "    .colab-df-convert:hover {\n",
       "      background-color: #E2EBFA;\n",
       "      box-shadow: 0px 1px 2px rgba(60, 64, 67, 0.3), 0px 1px 3px 1px rgba(60, 64, 67, 0.15);\n",
       "      fill: #174EA6;\n",
       "    }\n",
       "\n",
       "    [theme=dark] .colab-df-convert {\n",
       "      background-color: #3B4455;\n",
       "      fill: #D2E3FC;\n",
       "    }\n",
       "\n",
       "    [theme=dark] .colab-df-convert:hover {\n",
       "      background-color: #434B5C;\n",
       "      box-shadow: 0px 1px 3px 1px rgba(0, 0, 0, 0.15);\n",
       "      filter: drop-shadow(0px 1px 2px rgba(0, 0, 0, 0.3));\n",
       "      fill: #FFFFFF;\n",
       "    }\n",
       "  </style>\n",
       "\n",
       "      <script>\n",
       "        const buttonEl =\n",
       "          document.querySelector('#df-1eaa4a7d-ad87-4284-9631-7610cced9836 button.colab-df-convert');\n",
       "        buttonEl.style.display =\n",
       "          google.colab.kernel.accessAllowed ? 'block' : 'none';\n",
       "\n",
       "        async function convertToInteractive(key) {\n",
       "          const element = document.querySelector('#df-1eaa4a7d-ad87-4284-9631-7610cced9836');\n",
       "          const dataTable =\n",
       "            await google.colab.kernel.invokeFunction('convertToInteractive',\n",
       "                                                     [key], {});\n",
       "          if (!dataTable) return;\n",
       "\n",
       "          const docLinkHtml = 'Like what you see? Visit the ' +\n",
       "            '<a target=\"_blank\" href=https://colab.research.google.com/notebooks/data_table.ipynb>data table notebook</a>'\n",
       "            + ' to learn more about interactive tables.';\n",
       "          element.innerHTML = '';\n",
       "          dataTable['output_type'] = 'display_data';\n",
       "          await google.colab.output.renderOutput(dataTable, element);\n",
       "          const docLink = document.createElement('div');\n",
       "          docLink.innerHTML = docLinkHtml;\n",
       "          element.appendChild(docLink);\n",
       "        }\n",
       "      </script>\n",
       "    </div>\n",
       "  </div>\n",
       "  "
      ],
      "text/plain": [
       "                         types  counts  distincts  nulls  nulls_ratio  \\\n",
       "y                      float64     611        591      0          0.0   \n",
       "20_temp_para24         float64     611        575      0          0.0   \n",
       "13_temp_para24         float64     611        189      0          0.0   \n",
       "12_temp_para24         float64     611        425      0          0.0   \n",
       "17_temp_para24         float64     611        419      0          0.0   \n",
       "...                        ...     ...        ...    ...          ...   \n",
       "12_end_time     datetime64[ns]     611        611      0          0.0   \n",
       "13_end_time     datetime64[ns]     611        611      0          0.0   \n",
       "17_end_time     datetime64[ns]     611        611      0          0.0   \n",
       "18_end_time     datetime64[ns]     611        611      0          0.0   \n",
       "20_end_time     datetime64[ns]     611        611      0          0.0   \n",
       "\n",
       "                                                          uniques  skewness  \\\n",
       "y               [1257.8492, 1253.30152, 1265.93544, 1248.5508,... -0.059197   \n",
       "20_temp_para24  [50.28713, 51.87376, 49.72592, 51.89357, 49.61... -0.438729   \n",
       "13_temp_para24  [69.5625, 72.6875, 68.3125, 71.125, 66.125, 72... -0.309862   \n",
       "12_temp_para24  [68.45, 70.56667, 67.43333, 70.66666, 66.55932... -0.340203   \n",
       "17_temp_para24  [69.63333, 72.21667, 69.96667, 71.73333, 69.35... -0.439029   \n",
       "...                                                           ...       ...   \n",
       "12_end_time     [2021-10-18T11:16:38.000000000, 2021-10-04T11:...       NaN   \n",
       "13_end_time     [2021-10-18T11:16:54.000000000, 2021-10-04T11:...       NaN   \n",
       "17_end_time     [2021-10-18T11:24:51.000000000, 2021-10-04T11:...       NaN   \n",
       "18_end_time     [2021-10-18T11:25:07.000000000, 2021-10-04T11:...       NaN   \n",
       "20_end_time     [2021-10-18T11:31:58.000000000, 2021-10-04T11:...       NaN   \n",
       "\n",
       "                kurtosis    corr y  \n",
       "y               0.342927  1.000000  \n",
       "20_temp_para24  0.090808  0.196888  \n",
       "13_temp_para24 -0.110704  0.194742  \n",
       "12_temp_para24 -0.064225  0.189035  \n",
       "17_temp_para24  0.009083  0.183320  \n",
       "...                  ...       ...  \n",
       "12_end_time          NaN       NaN  \n",
       "13_end_time          NaN       NaN  \n",
       "17_end_time          NaN       NaN  \n",
       "18_end_time          NaN       NaN  \n",
       "20_end_time          NaN       NaN  \n",
       "\n",
       "[676 rows x 9 columns]"
      ]
     },
     "metadata": {},
     "output_type": "display_data"
    }
   ],
   "source": [
    "details = rstr(train, 'y')\n",
    "display(details.sort_values(by='corr y', ascending=False))"
   ]
  },
  {
   "cell_type": "markdown",
   "id": "008a0e3b",
   "metadata": {
    "id": "008a0e3b"
   },
   "source": [
    "<a name='03'></a>\n",
    "## 3. 탐색적 데이터 분석 \n",
    "\n",
    "탐색적 데이터 분석을 통해 **데이터를 이해**하고, 모델에 유용한 **특징을 생성**할 수 있습니다. \n",
    "\n",
    "- 데이터에 대한 이해를 높이기 위해 타깃 변수의 분포 (3.1절) , 각 센서 변수와 타깃 변수와의 상관 관계 (3.2절)를 파악합니다. \n",
    "\n",
    "- 새로운 특징을 도출하기 위해 범주형 변수에 따른 타깃 변수의 변화 (3.3절) , 전체 공정 소요시간에 따른 타깃 변수의 변화 (3.4절) , 센서 변수의 집약된 통계량 (3.5절) 을 확인해봅니다."
   ]
  },
  {
   "cell_type": "code",
   "execution_count": null,
   "id": "fokGIM4gWb53",
   "metadata": {
    "id": "fokGIM4gWb53"
   },
   "outputs": [],
   "source": [
    "# -----------------------------------\n",
    "# 3 장 EDA 분석에 필요한 변수를 선언합니다.\n",
    "# -----------------------------------\n",
    "\n",
    "# \bEDA를 위한 학습 데이터를 복사합니다.\n",
    "df_eda = train.copy()\n",
    "\n",
    "# 센서 컬럼과 날짜 컬럼을 정의합니다. \n",
    "col_sensor = df_eda.iloc[:, 4:-7].columns.tolist() \n",
    "col_time = df_eda.filter(regex='end').columns.tolist() \n",
    "\n",
    "assert len(col_sensor) == 665\n",
    "assert len(col_time) == 8 \n",
    "\n",
    "# \b3.4절 공정 소요시간 분석에 필요한 변수를 정의합니다. \n",
    "lst_steps = ['04','06','12','13','17','18', '20']\n",
    "lst_stepsgap = ['0406','0612','1213','1317','1718','1820']\n",
    "\n",
    "lst_sensors = []\n",
    "for step in lst_steps:\n",
    "    _ = [col for col in col_sensor if col[:2] == step]\n",
    "    lst_sensors.append(_)\n",
    "\n",
    "sensors_nm = list(map(lambda x: x[3:], lst_sensors[0]))\n",
    "\n",
    "# 시간과 관련한 분석을 진행하기 위하여 날짜형으로 변환합니다. \n",
    "df_eda[col_time] = df_eda[col_time].apply(pd.to_datetime)"
   ]
  },
  {
   "cell_type": "markdown",
   "id": "8a6093bb",
   "metadata": {
    "id": "8a6093bb"
   },
   "source": [
    "<a name='03-01'></a>\n",
    "### 3.1 타깃 변수 분포 확인하기 \n",
    "\n",
    "학습 데이터를 이용해 타깃 변수의 분포를 살펴보겠습니다. \n",
    "\n",
    "Seaborn 의 **distplot** 과 **probplot** 을 사용하여 타깃 변수의 분포 범위와 해당 값이 특정 구간에 치우쳐 있는지를 확인합니다."
   ]
  },
  {
   "cell_type": "code",
   "execution_count": null,
   "id": "1a3a5733",
   "metadata": {
    "id": "1a3a5733"
   },
   "outputs": [],
   "source": [
    "def QQ_plot(data, measure):\n",
    "    \n",
    "    # 그래프의 크기를 지정합니다.\n",
    "    fig = plt.figure(figsize=(10,4))\n",
    "    \n",
    "    # 1행 2열의 첫번째 히스토그램 그래프입니다.\n",
    "    fig1 = fig.add_subplot(121)\n",
    "    (mu, sigma) = norm.fit(data)\n",
    "    # distplot 으로 타깃 변수의 분포를 확인합니다. kde = True를 입력하면 커널밀도추정 결과를 함께 표기할 수 있습니다.\n",
    "    sns.distplot(data, kde=True, fit=norm)\n",
    "    fig1.legend(['KDE', f'N({round(mu, 2)},{round(sigma**2, 2)})'], loc='upper right')\n",
    "    fig1.set_title(f'{measure} Distribution', loc='center')\n",
    "    fig1.set_xlabel(f'{measure}')\n",
    "\n",
    "    # 1행 2열의 두번째 QQ Plot 그래프입니다.\n",
    "    fig2 = fig.add_subplot(122)\n",
    "    # 정규분포와 타깃변수의 분포를 비교합니다.\n",
    "    res = probplot(data, plot=fig2)\n",
    "    fig2.set_title(f'{measure} Probability Plot', loc='center')\n",
    "\n",
    "    plt.tight_layout()\n",
    "    plt.show()\n"
   ]
  },
  {
   "cell_type": "markdown",
   "id": "12acea32",
   "metadata": {
    "id": "12acea32"
   },
   "source": [
    "타깃은 평균 1263.41, 분산 67.16 인 정규분포를 거의 따른다고 볼 수 있습니다."
   ]
  },
  {
   "cell_type": "code",
   "execution_count": null,
   "id": "f186ad43",
   "metadata": {
    "colab": {
     "base_uri": "https://localhost:8080/",
     "height": 297
    },
    "id": "f186ad43",
    "outputId": "3c7b1b5f-daef-4bdb-9b14-3a1945c587ec"
   },
   "outputs": [
    {
     "data": {
      "image/png": "[encoded data removed]",
      "text/plain": [
       "<Figure size 720x288 with 2 Axes>"
      ]
     },
     "metadata": {
      "needs_background": "light"
     },
     "output_type": "display_data"
    }
   ],
   "source": [
    "QQ_plot(df_eda['y'], 'y')"
   ]
  },
  {
   "cell_type": "markdown",
   "id": "4cc729ac",
   "metadata": {
    "id": "4cc729ac"
   },
   "source": [
    "<a name='03-02'></a>\n",
    "### 3.2 센서 변수와 타깃 변수의 상관관계 파악\n",
    "총 665개의 센서 변수와 타깃 변수 y 간의 관련성이 있는지 확인해보겠습니다. \n",
    "\n",
    "95개의 센서 변수는 총 7개의 공정 스텝 (4, 6, 12, 13, 17, 18, 20) 단위로 수집됩니다. "
   ]
  },
  {
   "cell_type": "code",
   "execution_count": null,
   "id": "7afd4406",
   "metadata": {
    "id": "7afd4406"
   },
   "outputs": [],
   "source": [
    "def regplots(cols, data):\n",
    "    \n",
    "    # 각 센서별 7개의 스텝을 가지므로 행이 2개이고, 열이 4개인 서브 플롯을 생성합니다.\n",
    "    fig, axes = plt.subplots(nrows=2, ncols=4, sharey=True, figsize=(15,8))\n",
    "    \n",
    "    # 서브 플롯 간의 세로 간격(hspace) 가로 간격(wspace)을 설정합니다. \n",
    "    fig.subplots_adjust(hspace=.4, wspace=.1)\n",
    "    \n",
    "    for i, ax in zip(range(len(cols)), axes.flat):\n",
    "\n",
    "        sns.regplot(x=cols[i], y='y', data=data, ax=ax)\n",
    "        ax.set_title(f'{cols[i].upper()}')\n",
    "        ax.set_xlabel('')\n",
    "        ax.set_ylabel('')\n",
    "    \n",
    "    # 8번째 서브 플롯은 필요 없으므로 표기하지 않습니다. \n",
    "    axes.flat[-1].set_visible(False)\n",
    "    plt.tight_layout()\n",
    "    plt.show()"
   ]
  },
  {
   "cell_type": "markdown",
   "id": "9wW-V4UdZoow",
   "metadata": {
    "id": "9wW-V4UdZoow"
   },
   "source": [
    "수치형 변수 X 수치형 변수 조합 시각화에 유용한 산점도 그래프 scatter plot 를 작성합니다. \n",
    "\n",
    "**regplot** 을 사용하여 산점도와 함께 데이터의 경향성을 나타내는 추세선까지 함께 표시합니다."
   ]
  },
  {
   "cell_type": "code",
   "execution_count": null,
   "id": "38f8b9d1",
   "metadata": {
    "colab": {
     "base_uri": "https://localhost:8080/",
     "height": 603
    },
    "id": "38f8b9d1",
    "outputId": "ca172ab4-ac11-4157-c119-6f9d2683b7f1",
    "scrolled": true
   },
   "outputs": [
    {
     "name": "stdout",
     "output_type": "stream",
     "text": [
      "*****['efem_para2']\n"
     ]
    },
    {
     "data": {
      "image/png": "[encoded data removed]",
      "text/plain": [
       "<Figure size 1080x576 with 8 Axes>"
      ]
     },
     "metadata": {
      "needs_background": "light"
     },
     "output_type": "display_data"
    }
   ],
   "source": [
    "for ix, sensor_nm in enumerate(sensors_nm):\n",
    "    print(f'*****{[sensor_nm]}')\n",
    "\n",
    "    # tmp_lst 는 {스텝}_{센서명} 형식으로 센서의 총 7개의 스텝 컬럼 리스트를 생성합니다.\n",
    "    # ex. 04_efem_para2, 06_efem_para2, ..., 20_efem_para2\n",
    "    tmp_lst = list(map(lambda x: f'{x}_{sensor_nm}', lst_steps))\n",
    "    regplots(tmp_lst, df_eda)\n",
    "    \n",
    "    # 총 95개의 센서를 시각화를 할 경우 아래 코드를 주석 처리 합니다.\n",
    "    if ix == 0:\n",
    "        break"
   ]
  },
  {
   "cell_type": "markdown",
   "id": "3rYgrRocaLZW",
   "metadata": {
    "id": "3rYgrRocaLZW"
   },
   "source": [
    "<a name='03-03'></a>\n",
    "### 3.3 범주형 변수에 따른 타깃 변수의 변화\n",
    "\n",
    "총 모듈(module_name)의 고유값의 갯수는 47개입니다. 모듈 이름은 _ 를 기준으로 EQ와 PM 식별자로 조합되어 있습니다."
   ]
  },
  {
   "cell_type": "code",
   "execution_count": null,
   "id": "QOlA9HjZl-ri",
   "metadata": {
    "colab": {
     "base_uri": "https://localhost:8080/"
    },
    "id": "QOlA9HjZl-ri",
    "outputId": "2e675f7a-b945-4540-b4a8-f99e248c07c9"
   },
   "outputs": [
    {
     "name": "stdout",
     "output_type": "stream",
     "text": [
      "***\n",
      "\bNo. of Module : 47\n",
      "['EQ10_PM1' 'EQ10_PM2' 'EQ10_PM5' 'EQ10_PM6' 'EQ11_PM1' 'EQ11_PM2'\n",
      " 'EQ11_PM5' 'EQ11_PM6' 'EQ12_PM1' 'EQ12_PM2' 'EQ12_PM5' 'EQ12_PM6'\n",
      " 'EQ1_PM1' 'EQ1_PM2' 'EQ1_PM5' 'EQ1_PM6' 'EQ2_PM1' 'EQ2_PM2' 'EQ2_PM5'\n",
      " 'EQ2_PM6' 'EQ3_PM1' 'EQ3_PM2' 'EQ3_PM5' 'EQ3_PM6' 'EQ4_PM1' 'EQ4_PM2'\n",
      " 'EQ4_PM5' 'EQ4_PM6' 'EQ5_PM1' 'EQ5_PM2' 'EQ5_PM5' 'EQ5_PM6' 'EQ6_PM1'\n",
      " 'EQ6_PM2' 'EQ6_PM5' 'EQ6_PM6' 'EQ7_PM1' 'EQ7_PM2' 'EQ7_PM5' 'EQ7_PM6'\n",
      " 'EQ8_PM1' 'EQ8_PM2' 'EQ8_PM5' 'EQ8_PM6' 'EQ9_PM1' 'EQ9_PM2' 'EQ9_PM5']\n"
     ]
    }
   ],
   "source": [
    "idx = 'module_name'\n",
    "# 모듈의 고유값과 고유값의 갯수를 구합니다.\n",
    "module_unq = df_eda[idx].unique()\n",
    "module_nunq = df_eda[idx].nunique()\n",
    "\n",
    "print(f'***')\n",
    "print(f'\bNo. of Module : {module_nunq}')\n",
    "print(f'{module_unq}')"
   ]
  },
  {
   "cell_type": "markdown",
   "id": "J0ZIuJpGkLfO",
   "metadata": {
    "id": "J0ZIuJpGkLfO"
   },
   "source": [
    "범주의 정도를 상위 레벨에서 보기 위하여 EQ를 기준으로 재범주화 해보겠습니다.\n",
    "\n",
    "apply 를 사용하여 모듈 이름의 EQ 식별자 부분만 추출하여 module_name_eq 컬럼에 값을 저장합니다."
   ]
  },
  {
   "cell_type": "code",
   "execution_count": null,
   "id": "HLEQHcKumxr0",
   "metadata": {
    "colab": {
     "base_uri": "https://localhost:8080/",
     "height": 299
    },
    "id": "HLEQHcKumxr0",
    "outputId": "207b6aee-15d2-40c8-d1a8-e63017c02b98"
   },
   "outputs": [
    {
     "data": {
      "text/plain": [
       "<matplotlib.axes._subplots.AxesSubplot at 0x7fa2d5669c50>"
      ]
     },
     "execution_count": 25,
     "metadata": {},
     "output_type": "execute_result"
    },
    {
     "data": {
      "image/png": "[encoded data removed]",
      "text/plain": [
       "<Figure size 432x288 with 1 Axes>"
      ]
     },
     "metadata": {
      "needs_background": "light"
     },
     "output_type": "display_data"
    }
   ],
   "source": [
    "# 모듈 이름의 상위 집계단위를 나타내는 module_name_eq 범주형 변수를 생성하는 함수입니다.\n",
    "def gen_cate_feats(df):\n",
    "  df['module_name_eq'] = df['module_name'].apply(lambda x : x.split('_')[0])\n",
    "  return df \n",
    "   \n",
    "df_eda = gen_cate_feats(df_eda)\n",
    "sns.boxplot(x='module_name_eq', y='y', data=df_eda)"
   ]
  },
  {
   "cell_type": "markdown",
   "id": "23d0981e",
   "metadata": {
    "id": "23d0981e"
   },
   "source": [
    "<a name='03-04'></a>\n",
    "### 3.4 전체 공정 소요시간에 따른 타깃 변수의 변화 \n",
    "\n",
    "전체 및 개별 공정 소요시간 변수를 생성하는 함수를 작성합니다. \n",
    "\n",
    "전체 공정 소요시간은 마지막 공정 완료시간 ***20_end_time*** 과 첫번째 공정 완료시간 **04_end_time** 의 차이(초)를 계산한 값입니다."
   ]
  },
  {
   "cell_type": "code",
   "execution_count": null,
   "id": "a5524cee",
   "metadata": {
    "id": "a5524cee"
   },
   "outputs": [],
   "source": [
    "# 전체 및 개별 공정 소요시간 변수를 생성하는 함수입니다.\n",
    "def gen_duration_feats(df, lst_stepsgap):\n",
    "    \n",
    "    # 전체 공정 소요시간(초) 변수를 생성합니다. \n",
    "    df['gen_tmdiff'] = (df['20_end_time'] - df['04_end_time']).dt.total_seconds()\n",
    "    \n",
    "    # 개별 스텝간 공정 소요시간(초) 변수를 생성합니다. \n",
    "    # ex. gen_\btmdiff_0406 : 04 스텝 공정 완료 시간과 06 스텝 공정 완료 시간의 차이 \n",
    "    for stepgap in lst_stepsgap:\n",
    "        df[f'gen_tmdiff_{stepgap}'] = (df[f'{stepgap[2:]}_end_time'] - df[f'{stepgap[:2]}_end_time']).dt.total_seconds()\n",
    "\n",
    "    return df\n",
    "\n",
    "df_eda = gen_duration_feats(df_eda, lst_stepsgap)"
   ]
  },
  {
   "cell_type": "markdown",
   "id": "0cb07d84",
   "metadata": {
    "id": "0cb07d84"
   },
   "source": [
    "전체 공정 소요시간은 최소 30.6분에서 최대 31.9분입니다. \n",
    "\n",
    "개별 스텝간 공정 소요시간도 확인하였을 시, 6번째 스텝에서 12번째 스텝 간 소요시간이 가장 길었습니다. "
   ]
  },
  {
   "cell_type": "code",
   "execution_count": null,
   "id": "F3jmUKbu_vtd",
   "metadata": {
    "colab": {
     "base_uri": "https://localhost:8080/",
     "height": 269
    },
    "id": "F3jmUKbu_vtd",
    "outputId": "f4fbf77b-5a6f-43d8-9c68-97f6ab872cbd"
   },
   "outputs": [
    {
     "data": {
      "text/html": [
       "\n",
       "  <div id=\"df-c5dbeffa-f7db-4bdb-8471-c2c023ff60ab\">\n",
       "    <div class=\"colab-df-container\">\n",
       "      <div>\n",
       "<style scoped>\n",
       "    .dataframe tbody tr th:only-of-type {\n",
       "        vertical-align: middle;\n",
       "    }\n",
       "\n",
       "    .dataframe tbody tr th {\n",
       "        vertical-align: top;\n",
       "    }\n",
       "\n",
       "    .dataframe thead th {\n",
       "        text-align: right;\n",
       "    }\n",
       "</style>\n",
       "<table border=\"1\" class=\"dataframe\">\n",
       "  <thead>\n",
       "    <tr style=\"text-align: right;\">\n",
       "      <th></th>\n",
       "      <th>MIN</th>\n",
       "      <th>MAX</th>\n",
       "      <th>MEAN</th>\n",
       "    </tr>\n",
       "  </thead>\n",
       "  <tbody>\n",
       "    <tr>\n",
       "      <th>gen_tmdiff</th>\n",
       "      <td>30.6</td>\n",
       "      <td>31.9</td>\n",
       "      <td>31.5</td>\n",
       "    </tr>\n",
       "    <tr>\n",
       "      <th>gen_tmdiff_0406</th>\n",
       "      <td>2.0</td>\n",
       "      <td>2.5</td>\n",
       "      <td>2.3</td>\n",
       "    </tr>\n",
       "    <tr>\n",
       "      <th>gen_tmdiff_0612</th>\n",
       "      <td>13.3</td>\n",
       "      <td>14.2</td>\n",
       "      <td>13.9</td>\n",
       "    </tr>\n",
       "    <tr>\n",
       "      <th>gen_tmdiff_1213</th>\n",
       "      <td>0.3</td>\n",
       "      <td>0.3</td>\n",
       "      <td>0.3</td>\n",
       "    </tr>\n",
       "    <tr>\n",
       "      <th>gen_tmdiff_1317</th>\n",
       "      <td>7.9</td>\n",
       "      <td>8.0</td>\n",
       "      <td>7.9</td>\n",
       "    </tr>\n",
       "    <tr>\n",
       "      <th>gen_tmdiff_1718</th>\n",
       "      <td>0.3</td>\n",
       "      <td>0.3</td>\n",
       "      <td>0.3</td>\n",
       "    </tr>\n",
       "    <tr>\n",
       "      <th>gen_tmdiff_1820</th>\n",
       "      <td>6.8</td>\n",
       "      <td>6.9</td>\n",
       "      <td>6.8</td>\n",
       "    </tr>\n",
       "  </tbody>\n",
       "</table>\n",
       "</div>\n",
       "      <button class=\"colab-df-convert\" onclick=\"convertToInteractive('df-c5dbeffa-f7db-4bdb-8471-c2c023ff60ab')\"\n",
       "              title=\"Convert this dataframe to an interactive table.\"\n",
       "              style=\"display:none;\">\n",
       "        \n",
       "  <svg xmlns=\"http://www.w3.org/2000/svg\" height=\"24px\"viewBox=\"0 0 24 24\"\n",
       "       width=\"24px\">\n",
       "    <path d=\"M0 0h24v24H0V0z\" fill=\"none\"/>\n",
       "    <path d=\"M18.56 5.44l.94 2.06.94-2.06 2.06-.94-2.06-.94-.94-2.06-.94 2.06-2.06.94zm-11 1L8.5 8.5l.94-2.06 2.06-.94-2.06-.94L8.5 2.5l-.94 2.06-2.06.94zm10 10l.94 2.06.94-2.06 2.06-.94-2.06-.94-.94-2.06-.94 2.06-2.06.94z\"/><path d=\"M17.41 7.96l-1.37-1.37c-.4-.4-.92-.59-1.43-.59-.52 0-1.04.2-1.43.59L10.3 9.45l-7.72 7.72c-.78.78-.78 2.05 0 2.83L4 21.41c.39.39.9.59 1.41.59.51 0 1.02-.2 1.41-.59l7.78-7.78 2.81-2.81c.8-.78.8-2.07 0-2.86zM5.41 20L4 18.59l7.72-7.72 1.47 1.35L5.41 20z\"/>\n",
       "  </svg>\n",
       "      </button>\n",
       "      \n",
       "  <style>\n",
       "    .colab-df-container {\n",
       "      display:flex;\n",
       "      flex-wrap:wrap;\n",
       "      gap: 12px;\n",
       "    }\n",
       "\n",
       "    .colab-df-convert {\n",
       "      background-color: #E8F0FE;\n",
       "      border: none;\n",
       "      border-radius: 50%;\n",
       "      cursor: pointer;\n",
       "      display: none;\n",
       "      fill: #1967D2;\n",
       "      height: 32px;\n",
       "      padding: 0 0 0 0;\n",
       "      width: 32px;\n",
       "    }\n",
       "\n",
       "    .colab-df-convert:hover {\n",
       "      background-color: #E2EBFA;\n",
       "      box-shadow: 0px 1px 2px rgba(60, 64, 67, 0.3), 0px 1px 3px 1px rgba(60, 64, 67, 0.15);\n",
       "      fill: #174EA6;\n",
       "    }\n",
       "\n",
       "    [theme=dark] .colab-df-convert {\n",
       "      background-color: #3B4455;\n",
       "      fill: #D2E3FC;\n",
       "    }\n",
       "\n",
       "    [theme=dark] .colab-df-convert:hover {\n",
       "      background-color: #434B5C;\n",
       "      box-shadow: 0px 1px 3px 1px rgba(0, 0, 0, 0.15);\n",
       "      filter: drop-shadow(0px 1px 2px rgba(0, 0, 0, 0.3));\n",
       "      fill: #FFFFFF;\n",
       "    }\n",
       "  </style>\n",
       "\n",
       "      <script>\n",
       "        const buttonEl =\n",
       "          document.querySelector('#df-c5dbeffa-f7db-4bdb-8471-c2c023ff60ab button.colab-df-convert');\n",
       "        buttonEl.style.display =\n",
       "          google.colab.kernel.accessAllowed ? 'block' : 'none';\n",
       "\n",
       "        async function convertToInteractive(key) {\n",
       "          const element = document.querySelector('#df-c5dbeffa-f7db-4bdb-8471-c2c023ff60ab');\n",
       "          const dataTable =\n",
       "            await google.colab.kernel.invokeFunction('convertToInteractive',\n",
       "                                                     [key], {});\n",
       "          if (!dataTable) return;\n",
       "\n",
       "          const docLinkHtml = 'Like what you see? Visit the ' +\n",
       "            '<a target=\"_blank\" href=https://colab.research.google.com/notebooks/data_table.ipynb>data table notebook</a>'\n",
       "            + ' to learn more about interactive tables.';\n",
       "          element.innerHTML = '';\n",
       "          dataTable['output_type'] = 'display_data';\n",
       "          await google.colab.output.renderOutput(dataTable, element);\n",
       "          const docLink = document.createElement('div');\n",
       "          docLink.innerHTML = docLinkHtml;\n",
       "          element.appendChild(docLink);\n",
       "        }\n",
       "      </script>\n",
       "    </div>\n",
       "  </div>\n",
       "  "
      ],
      "text/plain": [
       "                  MIN   MAX  MEAN\n",
       "gen_tmdiff       30.6  31.9  31.5\n",
       "gen_tmdiff_0406   2.0   2.5   2.3\n",
       "gen_tmdiff_0612  13.3  14.2  13.9\n",
       "gen_tmdiff_1213   0.3   0.3   0.3\n",
       "gen_tmdiff_1317   7.9   8.0   7.9\n",
       "gen_tmdiff_1718   0.3   0.3   0.3\n",
       "gen_tmdiff_1820   6.8   6.9   6.8"
      ]
     },
     "execution_count": 27,
     "metadata": {},
     "output_type": "execute_result"
    }
   ],
   "source": [
    "# 전체 공정 소요시간 및 개별 공정 소요시간 컬럼을 리스트 형태로 추출합니다. \n",
    "col_tmdiff = df_eda.filter(regex='gen_tmdiff($|_\\d)').columns.tolist()\n",
    "\n",
    "# 공정 소요시간의 통계값(최소, 최대, 평균)을 추출하는 함수입니다.\n",
    "def tmdiff_stats(x):\n",
    "  return [round(x.min()/60,1), round(x.max()/60,1), round(x.mean()/60,1)]\n",
    "\n",
    "df_tmp = df_eda[col_tmdiff].apply(tmdiff_stats).T\n",
    "df_tmp.columns = ['MIN', 'MAX', 'MEAN']\n",
    "df_tmp"
   ]
  },
  {
   "cell_type": "markdown",
   "id": "1U9R-Jwa74S1",
   "metadata": {
    "id": "1U9R-Jwa74S1"
   },
   "source": [
    "전체 공정 소요시간은 30분대 공정이 완료된 장비와 31분대에 공정이 완료된 장비로 뚜렷이 구분됩니다. \n",
    "\n",
    "대부분의 장비는 31분대에 완료되었으며, 일찍 공정을 마친 장비는 주로 EQ7, EQ8 모듈입니다.\n"
   ]
  },
  {
   "cell_type": "code",
   "execution_count": null,
   "id": "7d92739c",
   "metadata": {
    "colab": {
     "base_uri": "https://localhost:8080/",
     "height": 353
    },
    "id": "7d92739c",
    "outputId": "67a66f40-507b-461c-c1d8-67c53fd69d02"
   },
   "outputs": [
    {
     "data": {
      "text/plain": [
       "<matplotlib.legend.Legend at 0x7fa2d67691d0>"
      ]
     },
     "execution_count": 28,
     "metadata": {},
     "output_type": "execute_result"
    },
    {
     "data": {
      "image/png": "[encoded data removed]",
      "text/plain": [
       "<Figure size 720x360 with 2 Axes>"
      ]
     },
     "metadata": {
      "needs_background": "light"
     },
     "output_type": "display_data"
    }
   ],
   "source": [
    "# 시각화를 위하여 1870초를 기준으로 일찍 마친 장비와 늦께 마친 장비를 구분합니다.\n",
    "df_eda.loc[df_eda['gen_tmdiff'] < 1870, 'tmdiff_speed'] = 'E' # Early \n",
    "df_eda.loc[df_eda['gen_tmdiff'] > 1870, 'tmdiff_speed'] = 'L' # Late\n",
    "\n",
    "fig, axes = plt.subplots(nrows=1, ncols=2, sharey=True, figsize=(10,5))\n",
    "sns.scatterplot(x='gen_tmdiff', y='y', hue='tmdiff_speed', data = df_eda, ax=axes[0])\n",
    "sns.scatterplot(x='gen_tmdiff', y='y', hue='module_name_eq', data = df_eda, ax=axes[1])\n",
    "axes[0].legend(loc='lower left', ncol=2, title='tmdiff_speed')\n",
    "axes[1].legend(loc='lower left', ncol=1, title='module_name_eq', bbox_to_anchor=(1.04, 0))"
   ]
  },
  {
   "cell_type": "markdown",
   "id": "D7eUhu-s8CgI",
   "metadata": {
    "id": "D7eUhu-s8CgI"
   },
   "source": [
    "<a name='03-05'></a>\n",
    "### 3.5 센서의 집약된 통계량에 따른 타깃 변수의 변화\n",
    "\n",
    "센서 측정치에 대해 총 7개의 스텝을 집약한 표준편차를 확인해보겠습니다. 전 구간에서 센서 측정치의 흩어진 정도를 알 수 있습니다. "
   ]
  },
  {
   "cell_type": "code",
   "execution_count": null,
   "id": "L9yzrXsX8Hz0",
   "metadata": {
    "id": "L9yzrXsX8Hz0"
   },
   "outputs": [],
   "source": [
    "# 센서의 집약된 표준편차 변수를 생성하는 함수입니다.\n",
    "def gen_stats_feats(df, sensors_nm, lst_steps):\n",
    "    \n",
    "    for sensor_nm in sensors_nm:\n",
    "\n",
    "        # 센서별 총 7개의 스텝 컬럼 리스트를 생성합니다.\n",
    "        # ex. 04_efem_para2, 06_efem_para2, ..., 20_efem_para2\n",
    "        tmp_lst = list(map(lambda x: f'{x}_{sensor_nm}', lst_steps))\n",
    "\n",
    "        # 전 스텝을 집약하여 센서의 표준편차 변수를 생성합니다. \n",
    "        df[f'gen_{sensor_nm}_std'] = df[tmp_lst].std(axis=1)\n",
    "        \n",
    "    return df\n",
    "\n",
    "df_eda = gen_stats_feats(df_eda, sensors_nm, lst_steps)"
   ]
  },
  {
   "cell_type": "code",
   "execution_count": null,
   "id": "0EhboncAQtgq",
   "metadata": {
    "colab": {
     "base_uri": "https://localhost:8080/",
     "height": 353
    },
    "id": "0EhboncAQtgq",
    "outputId": "a8d88ac1-b0cc-46bd-ca70-e7c70c0be26f"
   },
   "outputs": [
    {
     "data": {
      "text/plain": [
       "<matplotlib.axes._subplots.AxesSubplot at 0x7fa2d583f050>"
      ]
     },
     "execution_count": 30,
     "metadata": {},
     "output_type": "execute_result"
    },
    {
     "data": {
      "image/png": "[encoded data removed]",
      "text/plain": [
       "<Figure size 720x360 with 4 Axes>"
      ]
     },
     "metadata": {
      "needs_background": "light"
     },
     "output_type": "display_data"
    }
   ],
   "source": [
    "fig, axes = plt.subplots(nrows=2, ncols=2, sharey=True, figsize=(10,5))\n",
    "fig.subplots_adjust(hspace=.4, wspace=.1)\n",
    "\n",
    "sns.scatterplot(x='gen_hv_para3_std', y='y', data = df_eda, ax=axes[0,0], legend=False)\n",
    "sns.scatterplot(x='gen_hv_para45_std', y='y', data = df_eda, ax=axes[0,1], legend=False)\n",
    "sns.scatterplot(x='gen_pressure_para91_std', y='y',  data = df_eda, ax=axes[1,0], legend=False)\n",
    "sns.scatterplot(x='gen_time_para5_std', y='y', data = df_eda, ax=axes[1,1], legend=False)\n"
   ]
  },
  {
   "cell_type": "code",
   "execution_count": null,
   "id": "_j7xH20VB_8f",
   "metadata": {
    "id": "_j7xH20VB_8f"
   },
   "outputs": [],
   "source": [
    "# EDA를 위한 데이터 프레임 제거합니다.\n",
    "del df_eda"
   ]
  },
  {
   "cell_type": "markdown",
   "id": "2fcae3e0",
   "metadata": {
    "id": "2fcae3e0"
   },
   "source": [
    "<a name='04'></a>\n",
    "## 4. 데이터 전처리\n",
    "\n",
    "탐색적 데이터 분석을 통해 도출한 추가 변수를 생성(4.1절)합니다. \n",
    "\n",
    "이상치 확인(4.2절), 분산이 적은 특징 제거(4.3절), 수치형 변수의 표준화(4.4절) 그리고 범주형 변수의 원-핫 인코딩(4.5절) 변환을 하여 데이터를 전처리합니다."
   ]
  },
  {
   "cell_type": "markdown",
   "id": "L-QaF6M8YR5B",
   "metadata": {
    "id": "L-QaF6M8YR5B"
   },
   "source": [
    "<a name='04-01'></a>\n",
    "### 4.1 내부 데이터를 통한 변수 생성 \n",
    "\n"
   ]
  },
  {
   "cell_type": "code",
   "execution_count": null,
   "id": "33cf1fa6",
   "metadata": {
    "id": "33cf1fa6"
   },
   "outputs": [],
   "source": [
    "# \b전처리를 위한 학습용 데이터와 평가용 데이터를 복사합니다.\n",
    "df_prep_train = train.copy()\n",
    "df_prep_predict = predict.copy()"
   ]
  },
  {
   "cell_type": "markdown",
   "id": "XRZy3Q2bZXcA",
   "metadata": {
    "id": "XRZy3Q2bZXcA"
   },
   "source": [
    "탐색적 데이터 분석(3.3~3.5절)에서 분석한 결과를 활용해 새로운 특징을 생성합니다. \n",
    "\n",
    "\n",
    "*   모듈 이름의 상위 집계 단위를 나타내는 1개의 범주형 변수 (3.3절)\n",
    "*   전체 및 개별 공정 소요시간을 나타내는 7개의 변수(3.4절)\n",
    "*   센서 변수의 집약된 표준편차를 나타내는 95개의 변수 (3.5절)\n",
    "\n",
    "\n"
   ]
  },
  {
   "cell_type": "code",
   "execution_count": null,
   "id": "z6peWNiIZYmN",
   "metadata": {
    "colab": {
     "base_uri": "https://localhost:8080/",
     "height": 112
    },
    "id": "z6peWNiIZYmN",
    "outputId": "73bbe1ea-e591-4d3c-82b0-9c52d5804ae6"
   },
   "outputs": [
    {
     "data": {
      "text/html": [
       "\n",
       "  <div id=\"df-f2493cc2-6445-4466-ba99-36e791a33b42\">\n",
       "    <div class=\"colab-df-container\">\n",
       "      <div>\n",
       "<style scoped>\n",
       "    .dataframe tbody tr th:only-of-type {\n",
       "        vertical-align: middle;\n",
       "    }\n",
       "\n",
       "    .dataframe tbody tr th {\n",
       "        vertical-align: top;\n",
       "    }\n",
       "\n",
       "    .dataframe thead th {\n",
       "        text-align: right;\n",
       "    }\n",
       "</style>\n",
       "<table border=\"1\" class=\"dataframe\">\n",
       "  <thead>\n",
       "    <tr style=\"text-align: right;\">\n",
       "      <th></th>\n",
       "      <th>module_name_eq</th>\n",
       "    </tr>\n",
       "  </thead>\n",
       "  <tbody>\n",
       "    <tr>\n",
       "      <th>0</th>\n",
       "      <td>EQ10</td>\n",
       "    </tr>\n",
       "    <tr>\n",
       "      <th>1</th>\n",
       "      <td>EQ10</td>\n",
       "    </tr>\n",
       "  </tbody>\n",
       "</table>\n",
       "</div>\n",
       "      <button class=\"colab-df-convert\" onclick=\"convertToInteractive('df-f2493cc2-6445-4466-ba99-36e791a33b42')\"\n",
       "              title=\"Convert this dataframe to an interactive table.\"\n",
       "              style=\"display:none;\">\n",
       "        \n",
       "  <svg xmlns=\"http://www.w3.org/2000/svg\" height=\"24px\"viewBox=\"0 0 24 24\"\n",
       "       width=\"24px\">\n",
       "    <path d=\"M0 0h24v24H0V0z\" fill=\"none\"/>\n",
       "    <path d=\"M18.56 5.44l.94 2.06.94-2.06 2.06-.94-2.06-.94-.94-2.06-.94 2.06-2.06.94zm-11 1L8.5 8.5l.94-2.06 2.06-.94-2.06-.94L8.5 2.5l-.94 2.06-2.06.94zm10 10l.94 2.06.94-2.06 2.06-.94-2.06-.94-.94-2.06-.94 2.06-2.06.94z\"/><path d=\"M17.41 7.96l-1.37-1.37c-.4-.4-.92-.59-1.43-.59-.52 0-1.04.2-1.43.59L10.3 9.45l-7.72 7.72c-.78.78-.78 2.05 0 2.83L4 21.41c.39.39.9.59 1.41.59.51 0 1.02-.2 1.41-.59l7.78-7.78 2.81-2.81c.8-.78.8-2.07 0-2.86zM5.41 20L4 18.59l7.72-7.72 1.47 1.35L5.41 20z\"/>\n",
       "  </svg>\n",
       "      </button>\n",
       "      \n",
       "  <style>\n",
       "    .colab-df-container {\n",
       "      display:flex;\n",
       "      flex-wrap:wrap;\n",
       "      gap: 12px;\n",
       "    }\n",
       "\n",
       "    .colab-df-convert {\n",
       "      background-color: #E8F0FE;\n",
       "      border: none;\n",
       "      border-radius: 50%;\n",
       "      cursor: pointer;\n",
       "      display: none;\n",
       "      fill: #1967D2;\n",
       "      height: 32px;\n",
       "      padding: 0 0 0 0;\n",
       "      width: 32px;\n",
       "    }\n",
       "\n",
       "    .colab-df-convert:hover {\n",
       "      background-color: #E2EBFA;\n",
       "      box-shadow: 0px 1px 2px rgba(60, 64, 67, 0.3), 0px 1px 3px 1px rgba(60, 64, 67, 0.15);\n",
       "      fill: #174EA6;\n",
       "    }\n",
       "\n",
       "    [theme=dark] .colab-df-convert {\n",
       "      background-color: #3B4455;\n",
       "      fill: #D2E3FC;\n",
       "    }\n",
       "\n",
       "    [theme=dark] .colab-df-convert:hover {\n",
       "      background-color: #434B5C;\n",
       "      box-shadow: 0px 1px 3px 1px rgba(0, 0, 0, 0.15);\n",
       "      filter: drop-shadow(0px 1px 2px rgba(0, 0, 0, 0.3));\n",
       "      fill: #FFFFFF;\n",
       "    }\n",
       "  </style>\n",
       "\n",
       "      <script>\n",
       "        const buttonEl =\n",
       "          document.querySelector('#df-f2493cc2-6445-4466-ba99-36e791a33b42 button.colab-df-convert');\n",
       "        buttonEl.style.display =\n",
       "          google.colab.kernel.accessAllowed ? 'block' : 'none';\n",
       "\n",
       "        async function convertToInteractive(key) {\n",
       "          const element = document.querySelector('#df-f2493cc2-6445-4466-ba99-36e791a33b42');\n",
       "          const dataTable =\n",
       "            await google.colab.kernel.invokeFunction('convertToInteractive',\n",
       "                                                     [key], {});\n",
       "          if (!dataTable) return;\n",
       "\n",
       "          const docLinkHtml = 'Like what you see? Visit the ' +\n",
       "            '<a target=\"_blank\" href=https://colab.research.google.com/notebooks/data_table.ipynb>data table notebook</a>'\n",
       "            + ' to learn more about interactive tables.';\n",
       "          element.innerHTML = '';\n",
       "          dataTable['output_type'] = 'display_data';\n",
       "          await google.colab.output.renderOutput(dataTable, element);\n",
       "          const docLink = document.createElement('div');\n",
       "          docLink.innerHTML = docLinkHtml;\n",
       "          element.appendChild(docLink);\n",
       "        }\n",
       "      </script>\n",
       "    </div>\n",
       "  </div>\n",
       "  "
      ],
      "text/plain": [
       "  module_name_eq\n",
       "0           EQ10\n",
       "1           EQ10"
      ]
     },
     "execution_count": 32,
     "metadata": {},
     "output_type": "execute_result"
    }
   ],
   "source": [
    "# 모듈 이름의 상위 집계 단위를 나타내는 1개의 범주형 변수를 생성합니다(3.3절)\n",
    "df_prep_train = gen_cate_feats(df_prep_train)\n",
    "df_prep_predict = gen_cate_feats(df_prep_predict)\n",
    "df_prep_train.filter(regex='module_name_eq').head(2)"
   ]
  },
  {
   "cell_type": "code",
   "execution_count": null,
   "id": "VJIRV70daNzk",
   "metadata": {
    "colab": {
     "base_uri": "https://localhost:8080/",
     "height": 112
    },
    "id": "VJIRV70daNzk",
    "outputId": "6f95312e-f8d2-4a88-8b74-062ad8fb04b1"
   },
   "outputs": [
    {
     "data": {
      "text/html": [
       "\n",
       "  <div id=\"df-c733e19d-86e6-4d30-8365-9ecba9a13e3e\">\n",
       "    <div class=\"colab-df-container\">\n",
       "      <div>\n",
       "<style scoped>\n",
       "    .dataframe tbody tr th:only-of-type {\n",
       "        vertical-align: middle;\n",
       "    }\n",
       "\n",
       "    .dataframe tbody tr th {\n",
       "        vertical-align: top;\n",
       "    }\n",
       "\n",
       "    .dataframe thead th {\n",
       "        text-align: right;\n",
       "    }\n",
       "</style>\n",
       "<table border=\"1\" class=\"dataframe\">\n",
       "  <thead>\n",
       "    <tr style=\"text-align: right;\">\n",
       "      <th></th>\n",
       "      <th>gen_tmdiff</th>\n",
       "      <th>gen_tmdiff_0406</th>\n",
       "      <th>gen_tmdiff_0612</th>\n",
       "      <th>gen_tmdiff_1213</th>\n",
       "      <th>gen_tmdiff_1317</th>\n",
       "      <th>gen_tmdiff_1718</th>\n",
       "      <th>gen_tmdiff_1820</th>\n",
       "    </tr>\n",
       "  </thead>\n",
       "  <tbody>\n",
       "    <tr>\n",
       "      <th>0</th>\n",
       "      <td>1912.0</td>\n",
       "      <td>146.0</td>\n",
       "      <td>846.0</td>\n",
       "      <td>16.0</td>\n",
       "      <td>477.0</td>\n",
       "      <td>16.0</td>\n",
       "      <td>411.0</td>\n",
       "    </tr>\n",
       "    <tr>\n",
       "      <th>1</th>\n",
       "      <td>1912.0</td>\n",
       "      <td>145.0</td>\n",
       "      <td>847.0</td>\n",
       "      <td>16.0</td>\n",
       "      <td>477.0</td>\n",
       "      <td>16.0</td>\n",
       "      <td>411.0</td>\n",
       "    </tr>\n",
       "  </tbody>\n",
       "</table>\n",
       "</div>\n",
       "      <button class=\"colab-df-convert\" onclick=\"convertToInteractive('df-c733e19d-86e6-4d30-8365-9ecba9a13e3e')\"\n",
       "              title=\"Convert this dataframe to an interactive table.\"\n",
       "              style=\"display:none;\">\n",
       "        \n",
       "  <svg xmlns=\"http://www.w3.org/2000/svg\" height=\"24px\"viewBox=\"0 0 24 24\"\n",
       "       width=\"24px\">\n",
       "    <path d=\"M0 0h24v24H0V0z\" fill=\"none\"/>\n",
       "    <path d=\"M18.56 5.44l.94 2.06.94-2.06 2.06-.94-2.06-.94-.94-2.06-.94 2.06-2.06.94zm-11 1L8.5 8.5l.94-2.06 2.06-.94-2.06-.94L8.5 2.5l-.94 2.06-2.06.94zm10 10l.94 2.06.94-2.06 2.06-.94-2.06-.94-.94-2.06-.94 2.06-2.06.94z\"/><path d=\"M17.41 7.96l-1.37-1.37c-.4-.4-.92-.59-1.43-.59-.52 0-1.04.2-1.43.59L10.3 9.45l-7.72 7.72c-.78.78-.78 2.05 0 2.83L4 21.41c.39.39.9.59 1.41.59.51 0 1.02-.2 1.41-.59l7.78-7.78 2.81-2.81c.8-.78.8-2.07 0-2.86zM5.41 20L4 18.59l7.72-7.72 1.47 1.35L5.41 20z\"/>\n",
       "  </svg>\n",
       "      </button>\n",
       "      \n",
       "  <style>\n",
       "    .colab-df-container {\n",
       "      display:flex;\n",
       "      flex-wrap:wrap;\n",
       "      gap: 12px;\n",
       "    }\n",
       "\n",
       "    .colab-df-convert {\n",
       "      background-color: #E8F0FE;\n",
       "      border: none;\n",
       "      border-radius: 50%;\n",
       "      cursor: pointer;\n",
       "      display: none;\n",
       "      fill: #1967D2;\n",
       "      height: 32px;\n",
       "      padding: 0 0 0 0;\n",
       "      width: 32px;\n",
       "    }\n",
       "\n",
       "    .colab-df-convert:hover {\n",
       "      background-color: #E2EBFA;\n",
       "      box-shadow: 0px 1px 2px rgba(60, 64, 67, 0.3), 0px 1px 3px 1px rgba(60, 64, 67, 0.15);\n",
       "      fill: #174EA6;\n",
       "    }\n",
       "\n",
       "    [theme=dark] .colab-df-convert {\n",
       "      background-color: #3B4455;\n",
       "      fill: #D2E3FC;\n",
       "    }\n",
       "\n",
       "    [theme=dark] .colab-df-convert:hover {\n",
       "      background-color: #434B5C;\n",
       "      box-shadow: 0px 1px 3px 1px rgba(0, 0, 0, 0.15);\n",
       "      filter: drop-shadow(0px 1px 2px rgba(0, 0, 0, 0.3));\n",
       "      fill: #FFFFFF;\n",
       "    }\n",
       "  </style>\n",
       "\n",
       "      <script>\n",
       "        const buttonEl =\n",
       "          document.querySelector('#df-c733e19d-86e6-4d30-8365-9ecba9a13e3e button.colab-df-convert');\n",
       "        buttonEl.style.display =\n",
       "          google.colab.kernel.accessAllowed ? 'block' : 'none';\n",
       "\n",
       "        async function convertToInteractive(key) {\n",
       "          const element = document.querySelector('#df-c733e19d-86e6-4d30-8365-9ecba9a13e3e');\n",
       "          const dataTable =\n",
       "            await google.colab.kernel.invokeFunction('convertToInteractive',\n",
       "                                                     [key], {});\n",
       "          if (!dataTable) return;\n",
       "\n",
       "          const docLinkHtml = 'Like what you see? Visit the ' +\n",
       "            '<a target=\"_blank\" href=https://colab.research.google.com/notebooks/data_table.ipynb>data table notebook</a>'\n",
       "            + ' to learn more about interactive tables.';\n",
       "          element.innerHTML = '';\n",
       "          dataTable['output_type'] = 'display_data';\n",
       "          await google.colab.output.renderOutput(dataTable, element);\n",
       "          const docLink = document.createElement('div');\n",
       "          docLink.innerHTML = docLinkHtml;\n",
       "          element.appendChild(docLink);\n",
       "        }\n",
       "      </script>\n",
       "    </div>\n",
       "  </div>\n",
       "  "
      ],
      "text/plain": [
       "   gen_tmdiff  gen_tmdiff_0406  gen_tmdiff_0612  gen_tmdiff_1213  \\\n",
       "0      1912.0            146.0            846.0             16.0   \n",
       "1      1912.0            145.0            847.0             16.0   \n",
       "\n",
       "   gen_tmdiff_1317  gen_tmdiff_1718  gen_tmdiff_1820  \n",
       "0            477.0             16.0            411.0  \n",
       "1            477.0             16.0            411.0  "
      ]
     },
     "execution_count": 33,
     "metadata": {},
     "output_type": "execute_result"
    }
   ],
   "source": [
    "# 전체 및 개별 공정 소요시간 7개의 변수를 생성합니다(3.4절)\n",
    "df_prep_train = gen_duration_feats(df_prep_train, lst_stepsgap)\n",
    "df_prep_predict = gen_duration_feats(df_prep_predict, lst_stepsgap)\n",
    "df_prep_train.filter(regex='tmdiff').head(2)"
   ]
  },
  {
   "cell_type": "code",
   "execution_count": null,
   "id": "_RErio6aaN75",
   "metadata": {
    "colab": {
     "base_uri": "https://localhost:8080/",
     "height": 205
    },
    "id": "_RErio6aaN75",
    "outputId": "a6a658ed-7245-4800-cdee-d15cd6f46e24"
   },
   "outputs": [
    {
     "data": {
      "text/html": [
       "\n",
       "  <div id=\"df-a84c5f1b-9c8a-4a39-ab79-dc065198b91f\">\n",
       "    <div class=\"colab-df-container\">\n",
       "      <div>\n",
       "<style scoped>\n",
       "    .dataframe tbody tr th:only-of-type {\n",
       "        vertical-align: middle;\n",
       "    }\n",
       "\n",
       "    .dataframe tbody tr th {\n",
       "        vertical-align: top;\n",
       "    }\n",
       "\n",
       "    .dataframe thead th {\n",
       "        text-align: right;\n",
       "    }\n",
       "</style>\n",
       "<table border=\"1\" class=\"dataframe\">\n",
       "  <thead>\n",
       "    <tr style=\"text-align: right;\">\n",
       "      <th></th>\n",
       "      <th>gen_efem_para2_std</th>\n",
       "      <th>gen_efem_para25_std</th>\n",
       "      <th>gen_efem_para78_std</th>\n",
       "      <th>gen_epd_para4_std</th>\n",
       "      <th>gen_epd_para40_std</th>\n",
       "      <th>gen_epd_para63_std</th>\n",
       "      <th>gen_epd_para80_std</th>\n",
       "      <th>gen_esc_para84_std</th>\n",
       "      <th>gen_esc_para94_std</th>\n",
       "      <th>gen_fr_para28_std</th>\n",
       "      <th>...</th>\n",
       "      <th>gen_time_para7_std</th>\n",
       "      <th>gen_time_para75_std</th>\n",
       "      <th>gen_time_para77_std</th>\n",
       "      <th>gen_time_para8_std</th>\n",
       "      <th>gen_time_para81_std</th>\n",
       "      <th>gen_time_para83_std</th>\n",
       "      <th>gen_time_para89_std</th>\n",
       "      <th>gen_time_para9_std</th>\n",
       "      <th>gen_time_para90_std</th>\n",
       "      <th>gen_tmp_para31_std</th>\n",
       "    </tr>\n",
       "  </thead>\n",
       "  <tbody>\n",
       "    <tr>\n",
       "      <th>0</th>\n",
       "      <td>1.540604</td>\n",
       "      <td>1.487185</td>\n",
       "      <td>0.045480</td>\n",
       "      <td>377.964435</td>\n",
       "      <td>0.382780</td>\n",
       "      <td>0.0</td>\n",
       "      <td>0.0</td>\n",
       "      <td>0.000000</td>\n",
       "      <td>0.0</td>\n",
       "      <td>2926.724319</td>\n",
       "      <td>...</td>\n",
       "      <td>0.163207</td>\n",
       "      <td>0.163356</td>\n",
       "      <td>0.163356</td>\n",
       "      <td>0.163207</td>\n",
       "      <td>0.163356</td>\n",
       "      <td>0.163207</td>\n",
       "      <td>0.163356</td>\n",
       "      <td>0.163207</td>\n",
       "      <td>0.163356</td>\n",
       "      <td>0.54963</td>\n",
       "    </tr>\n",
       "    <tr>\n",
       "      <th>1</th>\n",
       "      <td>1.313742</td>\n",
       "      <td>1.372572</td>\n",
       "      <td>0.045224</td>\n",
       "      <td>377.964435</td>\n",
       "      <td>0.462813</td>\n",
       "      <td>0.0</td>\n",
       "      <td>0.0</td>\n",
       "      <td>0.003024</td>\n",
       "      <td>0.0</td>\n",
       "      <td>2926.724319</td>\n",
       "      <td>...</td>\n",
       "      <td>0.163207</td>\n",
       "      <td>0.165981</td>\n",
       "      <td>0.165981</td>\n",
       "      <td>0.163211</td>\n",
       "      <td>0.165981</td>\n",
       "      <td>0.163207</td>\n",
       "      <td>0.165981</td>\n",
       "      <td>0.163207</td>\n",
       "      <td>0.165981</td>\n",
       "      <td>0.55689</td>\n",
       "    </tr>\n",
       "  </tbody>\n",
       "</table>\n",
       "<p>2 rows × 95 columns</p>\n",
       "</div>\n",
       "      <button class=\"colab-df-convert\" onclick=\"convertToInteractive('df-a84c5f1b-9c8a-4a39-ab79-dc065198b91f')\"\n",
       "              title=\"Convert this dataframe to an interactive table.\"\n",
       "              style=\"display:none;\">\n",
       "        \n",
       "  <svg xmlns=\"http://www.w3.org/2000/svg\" height=\"24px\"viewBox=\"0 0 24 24\"\n",
       "       width=\"24px\">\n",
       "    <path d=\"M0 0h24v24H0V0z\" fill=\"none\"/>\n",
       "    <path d=\"M18.56 5.44l.94 2.06.94-2.06 2.06-.94-2.06-.94-.94-2.06-.94 2.06-2.06.94zm-11 1L8.5 8.5l.94-2.06 2.06-.94-2.06-.94L8.5 2.5l-.94 2.06-2.06.94zm10 10l.94 2.06.94-2.06 2.06-.94-2.06-.94-.94-2.06-.94 2.06-2.06.94z\"/><path d=\"M17.41 7.96l-1.37-1.37c-.4-.4-.92-.59-1.43-.59-.52 0-1.04.2-1.43.59L10.3 9.45l-7.72 7.72c-.78.78-.78 2.05 0 2.83L4 21.41c.39.39.9.59 1.41.59.51 0 1.02-.2 1.41-.59l7.78-7.78 2.81-2.81c.8-.78.8-2.07 0-2.86zM5.41 20L4 18.59l7.72-7.72 1.47 1.35L5.41 20z\"/>\n",
       "  </svg>\n",
       "      </button>\n",
       "      \n",
       "  <style>\n",
       "    .colab-df-container {\n",
       "      display:flex;\n",
       "      flex-wrap:wrap;\n",
       "      gap: 12px;\n",
       "    }\n",
       "\n",
       "    .colab-df-convert {\n",
       "      background-color: #E8F0FE;\n",
       "      border: none;\n",
       "      border-radius: 50%;\n",
       "      cursor: pointer;\n",
       "      display: none;\n",
       "      fill: #1967D2;\n",
       "      height: 32px;\n",
       "      padding: 0 0 0 0;\n",
       "      width: 32px;\n",
       "    }\n",
       "\n",
       "    .colab-df-convert:hover {\n",
       "      background-color: #E2EBFA;\n",
       "      box-shadow: 0px 1px 2px rgba(60, 64, 67, 0.3), 0px 1px 3px 1px rgba(60, 64, 67, 0.15);\n",
       "      fill: #174EA6;\n",
       "    }\n",
       "\n",
       "    [theme=dark] .colab-df-convert {\n",
       "      background-color: #3B4455;\n",
       "      fill: #D2E3FC;\n",
       "    }\n",
       "\n",
       "    [theme=dark] .colab-df-convert:hover {\n",
       "      background-color: #434B5C;\n",
       "      box-shadow: 0px 1px 3px 1px rgba(0, 0, 0, 0.15);\n",
       "      filter: drop-shadow(0px 1px 2px rgba(0, 0, 0, 0.3));\n",
       "      fill: #FFFFFF;\n",
       "    }\n",
       "  </style>\n",
       "\n",
       "      <script>\n",
       "        const buttonEl =\n",
       "          document.querySelector('#df-a84c5f1b-9c8a-4a39-ab79-dc065198b91f button.colab-df-convert');\n",
       "        buttonEl.style.display =\n",
       "          google.colab.kernel.accessAllowed ? 'block' : 'none';\n",
       "\n",
       "        async function convertToInteractive(key) {\n",
       "          const element = document.querySelector('#df-a84c5f1b-9c8a-4a39-ab79-dc065198b91f');\n",
       "          const dataTable =\n",
       "            await google.colab.kernel.invokeFunction('convertToInteractive',\n",
       "                                                     [key], {});\n",
       "          if (!dataTable) return;\n",
       "\n",
       "          const docLinkHtml = 'Like what you see? Visit the ' +\n",
       "            '<a target=\"_blank\" href=https://colab.research.google.com/notebooks/data_table.ipynb>data table notebook</a>'\n",
       "            + ' to learn more about interactive tables.';\n",
       "          element.innerHTML = '';\n",
       "          dataTable['output_type'] = 'display_data';\n",
       "          await google.colab.output.renderOutput(dataTable, element);\n",
       "          const docLink = document.createElement('div');\n",
       "          docLink.innerHTML = docLinkHtml;\n",
       "          element.appendChild(docLink);\n",
       "        }\n",
       "      </script>\n",
       "    </div>\n",
       "  </div>\n",
       "  "
      ],
      "text/plain": [
       "   gen_efem_para2_std  gen_efem_para25_std  gen_efem_para78_std  \\\n",
       "0            1.540604             1.487185             0.045480   \n",
       "1            1.313742             1.372572             0.045224   \n",
       "\n",
       "   gen_epd_para4_std  gen_epd_para40_std  gen_epd_para63_std  \\\n",
       "0         377.964435            0.382780                 0.0   \n",
       "1         377.964435            0.462813                 0.0   \n",
       "\n",
       "   gen_epd_para80_std  gen_esc_para84_std  gen_esc_para94_std  \\\n",
       "0                 0.0            0.000000                 0.0   \n",
       "1                 0.0            0.003024                 0.0   \n",
       "\n",
       "   gen_fr_para28_std  ...  gen_time_para7_std  gen_time_para75_std  \\\n",
       "0        2926.724319  ...            0.163207             0.163356   \n",
       "1        2926.724319  ...            0.163207             0.165981   \n",
       "\n",
       "   gen_time_para77_std  gen_time_para8_std  gen_time_para81_std  \\\n",
       "0             0.163356            0.163207             0.163356   \n",
       "1             0.165981            0.163211             0.165981   \n",
       "\n",
       "   gen_time_para83_std  gen_time_para89_std  gen_time_para9_std  \\\n",
       "0             0.163207             0.163356            0.163207   \n",
       "1             0.163207             0.165981            0.163207   \n",
       "\n",
       "   gen_time_para90_std  gen_tmp_para31_std  \n",
       "0             0.163356             0.54963  \n",
       "1             0.165981             0.55689  \n",
       "\n",
       "[2 rows x 95 columns]"
      ]
     },
     "execution_count": 34,
     "metadata": {},
     "output_type": "execute_result"
    }
   ],
   "source": [
    "# 센서 변수의 집약된 95개의 표준편차 변수를 생성합니다(3.5절)\n",
    "df_prep_train = gen_stats_feats(df_prep_train, sensors_nm, lst_steps)\n",
    "df_prep_predict = gen_stats_feats(df_prep_predict, sensors_nm, lst_steps)\n",
    "df_prep_train.filter(regex='_std').head(2)"
   ]
  },
  {
   "cell_type": "markdown",
   "id": "931c5006",
   "metadata": {
    "id": "931c5006"
   },
   "source": [
    "<a name='04-02'></a>\n",
    "### 4.2 이상치 치환하기 \n",
    "\n",
    "분위점을 임계값으로 삼아 이상치를 치환합니다. \n",
    "\n",
    "학습 데이터의 1%점을 하한, 99%점을 상한으로 잡고 해당 범위를 벗어나는 값을 각각 **하한값과 상한값으로 치환**합니다. \n"
   ]
  },
  {
   "cell_type": "code",
   "execution_count": null,
   "id": "xQy5tKXp6ZCP",
   "metadata": {
    "id": "xQy5tKXp6ZCP"
   },
   "outputs": [],
   "source": [
    "# 이상치 확인을 위한 데이터 복사 \n",
    "df_outlier = df_prep_train.copy()"
   ]
  },
  {
   "cell_type": "code",
   "execution_count": null,
   "id": "wyyXXMix7cfx",
   "metadata": {
    "id": "wyyXXMix7cfx"
   },
   "outputs": [],
   "source": [
    "def outlier(x, p01, p99):\n",
    "\n",
    "  if x < p01 or x > p99:\n",
    "    return 'Y'\n",
    "  else:\n",
    "    return 'N'\n",
    "\n",
    "# 특정 컬럼의 이상치를 확인해봅니다. \n",
    "tmp_lst = ['04_fr_para35', '04_gas_para36', '04_fr_para28', '04_temp_para66']\n",
    "\n",
    "for col in tmp_lst:\n",
    "\n",
    "    p01 = df_outlier[col].quantile(0.01) \n",
    "    p99 = df_outlier[col].quantile(0.99) \n",
    "\n",
    "    df_outlier[f'{col}_outlier'] = df_outlier[col].apply(outlier, args=(p01, p99))\n"
   ]
  },
  {
   "cell_type": "markdown",
   "id": "t4TnvrI6-gWd",
   "metadata": {
    "id": "t4TnvrI6-gWd"
   },
   "source": [
    "상한값과 하한값을 벗어나는 데이터 포인트를 확인합니다."
   ]
  },
  {
   "cell_type": "code",
   "execution_count": null,
   "id": "gTs7wrF28c_1",
   "metadata": {
    "colab": {
     "base_uri": "https://localhost:8080/",
     "height": 353
    },
    "id": "gTs7wrF28c_1",
    "outputId": "439281b7-fab4-47f5-abf1-420ca61c9c66"
   },
   "outputs": [
    {
     "data": {
      "text/plain": [
       "<matplotlib.legend.Legend at 0x7fa2d395c290>"
      ]
     },
     "execution_count": 37,
     "metadata": {},
     "output_type": "execute_result"
    },
    {
     "data": {
      "image/png": "[encoded data removed]",
      "text/plain": [
       "<Figure size 720x360 with 4 Axes>"
      ]
     },
     "metadata": {
      "needs_background": "light"
     },
     "output_type": "display_data"
    }
   ],
   "source": [
    "fig, axes = plt.subplots(nrows=2, ncols=2, sharey=True, figsize=(10,5))\n",
    "fig.subplots_adjust(hspace=.4, wspace=.1)\n",
    "\n",
    "sns.scatterplot(x='04_fr_para35', y='y', hue='04_fr_para35_outlier', data = df_outlier, ax=axes[0,0], legend=False)\n",
    "sns.scatterplot(x='04_gas_para36', y='y', hue='04_gas_para36_outlier', data = df_outlier, ax=axes[0,1])\n",
    "sns.scatterplot(x='04_fr_para28', y='y',  hue='04_fr_para28_outlier', data = df_outlier, ax=axes[1,0], legend=False)\n",
    "sns.scatterplot(x='04_temp_para66', y='y', hue='04_temp_para66_outlier', data = df_outlier, ax=axes[1,1], legend=False)\n",
    "axes[0,1].legend(loc='lower left', ncol=1, title='Outlier', bbox_to_anchor=(1.04, -0.5))"
   ]
  },
  {
   "cell_type": "code",
   "execution_count": null,
   "id": "33be8c10",
   "metadata": {
    "id": "33be8c10"
   },
   "outputs": [],
   "source": [
    "# 기존 센서 변수(665개)와 생성 변수 중 수치형 변수(102개) 컬럼을 정의합니다. \n",
    "col_numerical = col_sensor + df_prep_train.filter(regex='^gen_').columns.tolist()"
   ]
  },
  {
   "cell_type": "code",
   "execution_count": null,
   "id": "z7KZTqq-f3U7",
   "metadata": {
    "id": "z7KZTqq-f3U7"
   },
   "outputs": [],
   "source": [
    "for col in col_numerical:\n",
    "    # 열마다 학습 데이터의 1%, 99% 지점을 확인합니다.\n",
    "    p01 = df_prep_train[col].quantile(0.01) \n",
    "    p99 = df_prep_train[col].quantile(0.99) \n",
    "\n",
    "    # 1%점 이하의 값은 1%점으로, 99%점 이상의 값은 99%점으로 클리핑합니다. \n",
    "    df_prep_train[col] = df_prep_train[col].clip(p01, p99)\n",
    "    df_prep_predict[col] = df_prep_predict[col].clip(p01, p99)\n",
    "\n"
   ]
  },
  {
   "cell_type": "markdown",
   "id": "BsNY4_yJ_Gjn",
   "metadata": {
    "id": "BsNY4_yJ_Gjn"
   },
   "source": [
    "이상치 처리후 결과를 확인합니다."
   ]
  },
  {
   "cell_type": "code",
   "execution_count": null,
   "id": "NEYCLhbtf9Tb",
   "metadata": {
    "colab": {
     "base_uri": "https://localhost:8080/",
     "height": 353
    },
    "id": "NEYCLhbtf9Tb",
    "outputId": "ebf78161-db27-4ec2-aa33-d2cedb64d510"
   },
   "outputs": [
    {
     "data": {
      "text/plain": [
       "<matplotlib.axes._subplots.AxesSubplot at 0x7fa2d76550d0>"
      ]
     },
     "execution_count": 40,
     "metadata": {},
     "output_type": "execute_result"
    },
    {
     "data": {
      "image/png": "[encoded data removed]",
      "text/plain": [
       "<Figure size 720x360 with 4 Axes>"
      ]
     },
     "metadata": {
      "needs_background": "light"
     },
     "output_type": "display_data"
    }
   ],
   "source": [
    "fig, axes = plt.subplots(nrows=2, ncols=2, sharey=True, figsize=(10,5))\n",
    "fig.subplots_adjust(hspace=.4, wspace=.1)\n",
    "\n",
    "sns.scatterplot(x='04_fr_para35', y='y', data = df_prep_train, ax=axes[0,0])\n",
    "sns.scatterplot(x='04_gas_para36', y='y', data = df_prep_train, ax=axes[0,1])\n",
    "sns.scatterplot(x='04_fr_para28', y='y',  data = df_prep_train, ax=axes[1,0])\n",
    "sns.scatterplot(x='04_temp_para66', y='y', data = df_prep_train, ax=axes[1,1])"
   ]
  },
  {
   "cell_type": "markdown",
   "id": "76b7ca94",
   "metadata": {
    "id": "76b7ca94"
   },
   "source": [
    "<a name='04-03'></a>\n",
    "### 4.3 분산이 적은 변수 제거\n",
    "분산 기준 설정(Variance Thresholding)은 가장 기본적인 특성 선택 방법 중 하나입니다. \n",
    "\n",
    "분산이 0 인 특징은 정보가 없으므로 해당 특징을 삭제합니다."
   ]
  },
  {
   "cell_type": "code",
   "execution_count": null,
   "id": "affa633e",
   "metadata": {
    "colab": {
     "base_uri": "https://localhost:8080/"
    },
    "id": "affa633e",
    "outputId": "544ad9b7-f406-45c7-d046-7cd191120aec"
   },
   "outputs": [
    {
     "name": "stdout",
     "output_type": "stream",
     "text": [
      "** 86 Features to Drop by Low Variance\n",
      "['04_epd_para4', '04_epd_para40', '04_epd_para63', '04_epd_para80', '04_esc_para84', '04_fr_para35', '04_fr_para69', '04_he_para1', '04_he_para95', '04_power_para14', '04_power_para49', '04_power_para68', '04_power_para82', '04_temp_para24', '04_time_para5', '06_epd_para80', '06_fr_para35', '06_he_para1', '06_he_para95', '06_hv_para3', '06_hv_para45', '06_hv_para47', '06_hv_para56', '06_power_para14', '06_power_para68', '06_power_para82', '06_temp_para24', '06_time_para5', '12_epd_para4', '12_epd_para40', '12_epd_para63', '12_epd_para80', '12_he_para1', '12_he_para95', '12_power_para49', '12_power_para68', '12_temp_para54', '13_epd_para4', '13_epd_para40', '13_epd_para63', '13_epd_para80', '13_esc_para84', '13_fr_para28', '13_fr_para69', '13_he_para1', '13_he_para95', '13_power_para49', '13_power_para68', '13_temp_para54', '17_epd_para4', '17_epd_para40', '17_epd_para63', '17_epd_para80', '17_esc_para84', '17_fr_para28', '17_he_para1', '17_he_para95', '17_power_para49', '17_power_para68', '17_temp_para54', '18_epd_para4', '18_epd_para40', '18_epd_para63', '18_epd_para80', '18_esc_para84', '18_fr_para28', '18_fr_para69', '18_he_para1', '18_he_para95', '18_power_para49', '18_power_para68', '18_temp_para23', '18_temp_para54', '20_epd_para40', '20_epd_para63', '20_epd_para80', '20_he_para1', '20_he_para95', '20_hv_para45', '20_hv_para47', '20_power_para49', '20_temp_para54', 'gen_tmdiff_1718', 'gen_epd_para80_std', 'gen_he_para1_std', 'gen_he_para95_std']\n"
     ]
    }
   ],
   "source": [
    "# threshold 인자를 변경하여 분산의 기준값을 수동으로 선택할 수 있습니다.\n",
    "thresholder = VarianceThreshold(threshold=0)\n",
    "_ = thresholder.fit_transform(df_prep_train[col_numerical])\n",
    "\n",
    " # 분산이 0이면 True 이므로 제거할 컬럼을 추출합니다.  \n",
    "mask = ~thresholder.get_support()\n",
    "cols_var_drop = np.asarray(col_numerical)[mask].tolist()\n",
    "print(f'** {len(cols_var_drop)} Features to Drop by Low Variance')\n",
    "print(f'{cols_var_drop}')"
   ]
  },
  {
   "cell_type": "markdown",
   "id": "_hdJERrgowdK",
   "metadata": {
    "id": "_hdJERrgowdK"
   },
   "source": [
    "분산이 0인 특징에 대해 확인해보겠습니다."
   ]
  },
  {
   "cell_type": "code",
   "execution_count": null,
   "id": "kYjfRuh2gNoz",
   "metadata": {
    "colab": {
     "base_uri": "https://localhost:8080/",
     "height": 299
    },
    "id": "kYjfRuh2gNoz",
    "outputId": "54107ae1-42a4-4236-96f0-6d33a7469e75"
   },
   "outputs": [
    {
     "data": {
      "text/plain": [
       "<matplotlib.axes._subplots.AxesSubplot at 0x7fa2d75b2fd0>"
      ]
     },
     "execution_count": 42,
     "metadata": {},
     "output_type": "execute_result"
    },
    {
     "data": {
      "image/png": "[encoded data removed]",
      "text/plain": [
       "<Figure size 432x288 with 1 Axes>"
      ]
     },
     "metadata": {
      "needs_background": "light"
     },
     "output_type": "display_data"
    }
   ],
   "source": [
    "sns.scatterplot(x=cols_var_drop[0], y='y', data=df_prep_train)"
   ]
  },
  {
   "cell_type": "markdown",
   "id": "qguXsWxDlS5P",
   "metadata": {
    "id": "qguXsWxDlS5P"
   },
   "source": [
    "<a name='04-04'></a>\n",
    "### 4.4 표준화\n",
    "\n",
    "선형 모델에서는 값의 범위가 큰 변수일수록 회귀계수가 작아지므로 변수의 정규화가 어려워집니다. \n",
    "\n",
    "StandardScaler 클래스를 사용하여 수치형 독립 변수에 대해 평균 0, 표준편차 1로 표준화를 수행합니다.  \n",
    "\n",
    "먼저, 독립 변수의 평균과 표준편차를 확인해봅니다.\n",
    "\n"
   ]
  },
  {
   "cell_type": "code",
   "execution_count": null,
   "id": "qiQORz3ejNEF",
   "metadata": {
    "colab": {
     "base_uri": "https://localhost:8080/"
    },
    "id": "qiQORz3ejNEF",
    "outputId": "3cb56ec1-a7bb-4638-a49c-f6c7221f524b"
   },
   "outputs": [
    {
     "data": {
      "text/plain": [
       "04_efem_para2     1568.802687\n",
       "04_efem_para25    1570.209268\n",
       "04_efem_para78       6.056739\n",
       "dtype: float64"
      ]
     },
     "execution_count": 43,
     "metadata": {},
     "output_type": "execute_result"
    }
   ],
   "source": [
    "# 각 변수의 평균을 확인합니다.\n",
    "sp.mean(df_prep_train[col_numerical], axis=0).head(3)"
   ]
  },
  {
   "cell_type": "code",
   "execution_count": null,
   "id": "Yn4PO2u_jOmx",
   "metadata": {
    "colab": {
     "base_uri": "https://localhost:8080/"
    },
    "id": "Yn4PO2u_jOmx",
    "outputId": "b9372c06-9fd6-4ae8-83b0-7b96ba024552"
   },
   "outputs": [
    {
     "data": {
      "text/plain": [
       "04_efem_para2     80.318826\n",
       "04_efem_para25    85.396796\n",
       "04_efem_para78     1.221182\n",
       "dtype: float64"
      ]
     },
     "execution_count": 44,
     "metadata": {},
     "output_type": "execute_result"
    }
   ],
   "source": [
    "# 각 변수의 표준편차를 확인합니다.\n",
    "sp.std(df_prep_train[col_numerical], ddof =1, axis=0).head(3)"
   ]
  },
  {
   "cell_type": "markdown",
   "id": "LiU2FOyMmvpx",
   "metadata": {
    "id": "LiU2FOyMmvpx"
   },
   "source": [
    "표준화를 수행한 후 각 수치형 변수 컬럼을 치환합니다."
   ]
  },
  {
   "cell_type": "code",
   "execution_count": null,
   "id": "Biaf-Ct4lMfo",
   "metadata": {
    "id": "Biaf-Ct4lMfo"
   },
   "outputs": [],
   "source": [
    "scaler = StandardScaler()\n",
    "# 학습 데이터 각 변수의 평균값과 표준편차를 저장한 후, 이를 사용하여 학습 및 평가용 데이터를 변환합니다.\n",
    "df_prep_train[col_numerical] = scaler.fit_transform(df_prep_train[col_numerical])\n",
    "df_prep_predict[col_numerical] = scaler.transform(df_prep_predict[col_numerical])"
   ]
  },
  {
   "cell_type": "markdown",
   "id": "oENATQSwmZtM",
   "metadata": {
    "id": "oENATQSwmZtM"
   },
   "source": [
    "학습 데이터의 평균이 0, 표준편차가 1로 변환되었는지 확인합니다."
   ]
  },
  {
   "cell_type": "code",
   "execution_count": null,
   "id": "Hdz_H3Zviura",
   "metadata": {
    "colab": {
     "base_uri": "https://localhost:8080/"
    },
    "id": "Hdz_H3Zviura",
    "outputId": "2fa49ce8-cac4-431d-b7c9-41691fe638aa"
   },
   "outputs": [
    {
     "data": {
      "text/plain": [
       "04_efem_para2    -0.0\n",
       "04_efem_para25    0.0\n",
       "04_efem_para78    0.0\n",
       "dtype: float64"
      ]
     },
     "execution_count": 46,
     "metadata": {},
     "output_type": "execute_result"
    }
   ],
   "source": [
    "# 표준화된 변수의 평균을 확인합니다.\n",
    "sp.mean(df_prep_train[col_numerical], axis=0).head(3).round(3)"
   ]
  },
  {
   "cell_type": "code",
   "execution_count": null,
   "id": "ZTaIJqzdjXzV",
   "metadata": {
    "colab": {
     "base_uri": "https://localhost:8080/"
    },
    "id": "ZTaIJqzdjXzV",
    "outputId": "6f158252-9673-4bf5-998a-d86edc221c34"
   },
   "outputs": [
    {
     "data": {
      "text/plain": [
       "04_efem_para2     1.0\n",
       "04_efem_para25    1.0\n",
       "04_efem_para78    1.0\n",
       "dtype: float64"
      ]
     },
     "execution_count": 47,
     "metadata": {},
     "output_type": "execute_result"
    }
   ],
   "source": [
    "# 표준화된 변수의 표준편차를 확인합니다.\n",
    "sp.std(df_prep_train[col_numerical], axis=0).head(3)"
   ]
  },
  {
   "cell_type": "markdown",
   "id": "uW6MtE37jVxX",
   "metadata": {
    "id": "uW6MtE37jVxX"
   },
   "source": [
    "<a name='04-05'></a>\n",
    "### 4.5 원-핫 인코딩\n",
    "\n",
    "**module_name_eq** 는 문자열로 나타난 범주형 변수입니다.\n",
    "\n",
    "범주형 변수의 대표적인 변환 기법인 원-핫 인코딩을 사용하여 변환합니다. "
   ]
  },
  {
   "cell_type": "code",
   "execution_count": null,
   "id": "aBZNZTxwntSA",
   "metadata": {
    "colab": {
     "base_uri": "https://localhost:8080/",
     "height": 143
    },
    "id": "aBZNZTxwntSA",
    "outputId": "a75e8dfe-b3b0-403f-bdc6-9fa477223a86"
   },
   "outputs": [
    {
     "data": {
      "text/html": [
       "\n",
       "  <div id=\"df-b8988bb2-c637-4b16-84d6-4ea91a1360aa\">\n",
       "    <div class=\"colab-df-container\">\n",
       "      <div>\n",
       "<style scoped>\n",
       "    .dataframe tbody tr th:only-of-type {\n",
       "        vertical-align: middle;\n",
       "    }\n",
       "\n",
       "    .dataframe tbody tr th {\n",
       "        vertical-align: top;\n",
       "    }\n",
       "\n",
       "    .dataframe thead th {\n",
       "        text-align: right;\n",
       "    }\n",
       "</style>\n",
       "<table border=\"1\" class=\"dataframe\">\n",
       "  <thead>\n",
       "    <tr style=\"text-align: right;\">\n",
       "      <th></th>\n",
       "      <th>module_name_eq</th>\n",
       "    </tr>\n",
       "  </thead>\n",
       "  <tbody>\n",
       "    <tr>\n",
       "      <th>0</th>\n",
       "      <td>EQ10</td>\n",
       "    </tr>\n",
       "    <tr>\n",
       "      <th>1</th>\n",
       "      <td>EQ10</td>\n",
       "    </tr>\n",
       "    <tr>\n",
       "      <th>2</th>\n",
       "      <td>EQ10</td>\n",
       "    </tr>\n",
       "  </tbody>\n",
       "</table>\n",
       "</div>\n",
       "      <button class=\"colab-df-convert\" onclick=\"convertToInteractive('df-b8988bb2-c637-4b16-84d6-4ea91a1360aa')\"\n",
       "              title=\"Convert this dataframe to an interactive table.\"\n",
       "              style=\"display:none;\">\n",
       "        \n",
       "  <svg xmlns=\"http://www.w3.org/2000/svg\" height=\"24px\"viewBox=\"0 0 24 24\"\n",
       "       width=\"24px\">\n",
       "    <path d=\"M0 0h24v24H0V0z\" fill=\"none\"/>\n",
       "    <path d=\"M18.56 5.44l.94 2.06.94-2.06 2.06-.94-2.06-.94-.94-2.06-.94 2.06-2.06.94zm-11 1L8.5 8.5l.94-2.06 2.06-.94-2.06-.94L8.5 2.5l-.94 2.06-2.06.94zm10 10l.94 2.06.94-2.06 2.06-.94-2.06-.94-.94-2.06-.94 2.06-2.06.94z\"/><path d=\"M17.41 7.96l-1.37-1.37c-.4-.4-.92-.59-1.43-.59-.52 0-1.04.2-1.43.59L10.3 9.45l-7.72 7.72c-.78.78-.78 2.05 0 2.83L4 21.41c.39.39.9.59 1.41.59.51 0 1.02-.2 1.41-.59l7.78-7.78 2.81-2.81c.8-.78.8-2.07 0-2.86zM5.41 20L4 18.59l7.72-7.72 1.47 1.35L5.41 20z\"/>\n",
       "  </svg>\n",
       "      </button>\n",
       "      \n",
       "  <style>\n",
       "    .colab-df-container {\n",
       "      display:flex;\n",
       "      flex-wrap:wrap;\n",
       "      gap: 12px;\n",
       "    }\n",
       "\n",
       "    .colab-df-convert {\n",
       "      background-color: #E8F0FE;\n",
       "      border: none;\n",
       "      border-radius: 50%;\n",
       "      cursor: pointer;\n",
       "      display: none;\n",
       "      fill: #1967D2;\n",
       "      height: 32px;\n",
       "      padding: 0 0 0 0;\n",
       "      width: 32px;\n",
       "    }\n",
       "\n",
       "    .colab-df-convert:hover {\n",
       "      background-color: #E2EBFA;\n",
       "      box-shadow: 0px 1px 2px rgba(60, 64, 67, 0.3), 0px 1px 3px 1px rgba(60, 64, 67, 0.15);\n",
       "      fill: #174EA6;\n",
       "    }\n",
       "\n",
       "    [theme=dark] .colab-df-convert {\n",
       "      background-color: #3B4455;\n",
       "      fill: #D2E3FC;\n",
       "    }\n",
       "\n",
       "    [theme=dark] .colab-df-convert:hover {\n",
       "      background-color: #434B5C;\n",
       "      box-shadow: 0px 1px 3px 1px rgba(0, 0, 0, 0.15);\n",
       "      filter: drop-shadow(0px 1px 2px rgba(0, 0, 0, 0.3));\n",
       "      fill: #FFFFFF;\n",
       "    }\n",
       "  </style>\n",
       "\n",
       "      <script>\n",
       "        const buttonEl =\n",
       "          document.querySelector('#df-b8988bb2-c637-4b16-84d6-4ea91a1360aa button.colab-df-convert');\n",
       "        buttonEl.style.display =\n",
       "          google.colab.kernel.accessAllowed ? 'block' : 'none';\n",
       "\n",
       "        async function convertToInteractive(key) {\n",
       "          const element = document.querySelector('#df-b8988bb2-c637-4b16-84d6-4ea91a1360aa');\n",
       "          const dataTable =\n",
       "            await google.colab.kernel.invokeFunction('convertToInteractive',\n",
       "                                                     [key], {});\n",
       "          if (!dataTable) return;\n",
       "\n",
       "          const docLinkHtml = 'Like what you see? Visit the ' +\n",
       "            '<a target=\"_blank\" href=https://colab.research.google.com/notebooks/data_table.ipynb>data table notebook</a>'\n",
       "            + ' to learn more about interactive tables.';\n",
       "          element.innerHTML = '';\n",
       "          dataTable['output_type'] = 'display_data';\n",
       "          await google.colab.output.renderOutput(dataTable, element);\n",
       "          const docLink = document.createElement('div');\n",
       "          docLink.innerHTML = docLinkHtml;\n",
       "          element.appendChild(docLink);\n",
       "        }\n",
       "      </script>\n",
       "    </div>\n",
       "  </div>\n",
       "  "
      ],
      "text/plain": [
       "  module_name_eq\n",
       "0           EQ10\n",
       "1           EQ10\n",
       "2           EQ10"
      ]
     },
     "execution_count": 48,
     "metadata": {},
     "output_type": "execute_result"
    }
   ],
   "source": [
    "df_prep_train.filter(regex='module_name_eq').head(3)"
   ]
  },
  {
   "cell_type": "code",
   "execution_count": null,
   "id": "OWv5YxrNZ1Dw",
   "metadata": {
    "id": "OWv5YxrNZ1Dw"
   },
   "outputs": [],
   "source": [
    "def prep_cate_feats(df_tr, df_te, feat_nm):\n",
    "\n",
    "  df_merge = pd.concat([df_tr, df_te])\n",
    "\n",
    "  # 컬럼명과 범주형 변수의 레벨명을 이용한 새로운 컬럼명을 자동생성합니다. \n",
    "  # ex. module_name_eq -> module_name_eq_EQ01, module_name_eq_EQ02, etc.\n",
    "  df_merge = pd.get_dummies(df_merge, columns=[feat_nm])\n",
    "\n",
    "  df_tr = df_merge.iloc[:df_tr.shape[0], :].reset_index(drop=True)\n",
    "  df_te = df_merge.iloc[df_tr.shape[0]:, :].reset_index(drop=True)\n",
    "\n",
    "  return df_tr, df_te\n",
    "\n",
    "# module_name_eq 의 원-핫 인코딩 변수를 생성합니다.\n",
    "df_prep_train, df_prep_predict = prep_cate_feats(df_prep_train, df_prep_predict, 'module_name_eq')"
   ]
  },
  {
   "cell_type": "code",
   "execution_count": null,
   "id": "QsCnam0ynj6t",
   "metadata": {
    "colab": {
     "base_uri": "https://localhost:8080/",
     "height": 207
    },
    "id": "QsCnam0ynj6t",
    "outputId": "9e74fe2f-2fbf-4397-c0c2-84496701a716"
   },
   "outputs": [
    {
     "data": {
      "text/html": [
       "\n",
       "  <div id=\"df-fa0a43b4-1a44-4be6-8e83-ca35d6649535\">\n",
       "    <div class=\"colab-df-container\">\n",
       "      <div>\n",
       "<style scoped>\n",
       "    .dataframe tbody tr th:only-of-type {\n",
       "        vertical-align: middle;\n",
       "    }\n",
       "\n",
       "    .dataframe tbody tr th {\n",
       "        vertical-align: top;\n",
       "    }\n",
       "\n",
       "    .dataframe thead th {\n",
       "        text-align: right;\n",
       "    }\n",
       "</style>\n",
       "<table border=\"1\" class=\"dataframe\">\n",
       "  <thead>\n",
       "    <tr style=\"text-align: right;\">\n",
       "      <th></th>\n",
       "      <th>module_name_eq_EQ1</th>\n",
       "      <th>module_name_eq_EQ10</th>\n",
       "      <th>module_name_eq_EQ11</th>\n",
       "      <th>module_name_eq_EQ12</th>\n",
       "      <th>module_name_eq_EQ2</th>\n",
       "      <th>module_name_eq_EQ3</th>\n",
       "      <th>module_name_eq_EQ4</th>\n",
       "      <th>module_name_eq_EQ5</th>\n",
       "      <th>module_name_eq_EQ6</th>\n",
       "      <th>module_name_eq_EQ7</th>\n",
       "      <th>module_name_eq_EQ8</th>\n",
       "      <th>module_name_eq_EQ9</th>\n",
       "    </tr>\n",
       "  </thead>\n",
       "  <tbody>\n",
       "    <tr>\n",
       "      <th>0</th>\n",
       "      <td>0</td>\n",
       "      <td>1</td>\n",
       "      <td>0</td>\n",
       "      <td>0</td>\n",
       "      <td>0</td>\n",
       "      <td>0</td>\n",
       "      <td>0</td>\n",
       "      <td>0</td>\n",
       "      <td>0</td>\n",
       "      <td>0</td>\n",
       "      <td>0</td>\n",
       "      <td>0</td>\n",
       "    </tr>\n",
       "    <tr>\n",
       "      <th>1</th>\n",
       "      <td>0</td>\n",
       "      <td>1</td>\n",
       "      <td>0</td>\n",
       "      <td>0</td>\n",
       "      <td>0</td>\n",
       "      <td>0</td>\n",
       "      <td>0</td>\n",
       "      <td>0</td>\n",
       "      <td>0</td>\n",
       "      <td>0</td>\n",
       "      <td>0</td>\n",
       "      <td>0</td>\n",
       "    </tr>\n",
       "    <tr>\n",
       "      <th>2</th>\n",
       "      <td>0</td>\n",
       "      <td>1</td>\n",
       "      <td>0</td>\n",
       "      <td>0</td>\n",
       "      <td>0</td>\n",
       "      <td>0</td>\n",
       "      <td>0</td>\n",
       "      <td>0</td>\n",
       "      <td>0</td>\n",
       "      <td>0</td>\n",
       "      <td>0</td>\n",
       "      <td>0</td>\n",
       "    </tr>\n",
       "  </tbody>\n",
       "</table>\n",
       "</div>\n",
       "      <button class=\"colab-df-convert\" onclick=\"convertToInteractive('df-fa0a43b4-1a44-4be6-8e83-ca35d6649535')\"\n",
       "              title=\"Convert this dataframe to an interactive table.\"\n",
       "              style=\"display:none;\">\n",
       "        \n",
       "  <svg xmlns=\"http://www.w3.org/2000/svg\" height=\"24px\"viewBox=\"0 0 24 24\"\n",
       "       width=\"24px\">\n",
       "    <path d=\"M0 0h24v24H0V0z\" fill=\"none\"/>\n",
       "    <path d=\"M18.56 5.44l.94 2.06.94-2.06 2.06-.94-2.06-.94-.94-2.06-.94 2.06-2.06.94zm-11 1L8.5 8.5l.94-2.06 2.06-.94-2.06-.94L8.5 2.5l-.94 2.06-2.06.94zm10 10l.94 2.06.94-2.06 2.06-.94-2.06-.94-.94-2.06-.94 2.06-2.06.94z\"/><path d=\"M17.41 7.96l-1.37-1.37c-.4-.4-.92-.59-1.43-.59-.52 0-1.04.2-1.43.59L10.3 9.45l-7.72 7.72c-.78.78-.78 2.05 0 2.83L4 21.41c.39.39.9.59 1.41.59.51 0 1.02-.2 1.41-.59l7.78-7.78 2.81-2.81c.8-.78.8-2.07 0-2.86zM5.41 20L4 18.59l7.72-7.72 1.47 1.35L5.41 20z\"/>\n",
       "  </svg>\n",
       "      </button>\n",
       "      \n",
       "  <style>\n",
       "    .colab-df-container {\n",
       "      display:flex;\n",
       "      flex-wrap:wrap;\n",
       "      gap: 12px;\n",
       "    }\n",
       "\n",
       "    .colab-df-convert {\n",
       "      background-color: #E8F0FE;\n",
       "      border: none;\n",
       "      border-radius: 50%;\n",
       "      cursor: pointer;\n",
       "      display: none;\n",
       "      fill: #1967D2;\n",
       "      height: 32px;\n",
       "      padding: 0 0 0 0;\n",
       "      width: 32px;\n",
       "    }\n",
       "\n",
       "    .colab-df-convert:hover {\n",
       "      background-color: #E2EBFA;\n",
       "      box-shadow: 0px 1px 2px rgba(60, 64, 67, 0.3), 0px 1px 3px 1px rgba(60, 64, 67, 0.15);\n",
       "      fill: #174EA6;\n",
       "    }\n",
       "\n",
       "    [theme=dark] .colab-df-convert {\n",
       "      background-color: #3B4455;\n",
       "      fill: #D2E3FC;\n",
       "    }\n",
       "\n",
       "    [theme=dark] .colab-df-convert:hover {\n",
       "      background-color: #434B5C;\n",
       "      box-shadow: 0px 1px 3px 1px rgba(0, 0, 0, 0.15);\n",
       "      filter: drop-shadow(0px 1px 2px rgba(0, 0, 0, 0.3));\n",
       "      fill: #FFFFFF;\n",
       "    }\n",
       "  </style>\n",
       "\n",
       "      <script>\n",
       "        const buttonEl =\n",
       "          document.querySelector('#df-fa0a43b4-1a44-4be6-8e83-ca35d6649535 button.colab-df-convert');\n",
       "        buttonEl.style.display =\n",
       "          google.colab.kernel.accessAllowed ? 'block' : 'none';\n",
       "\n",
       "        async function convertToInteractive(key) {\n",
       "          const element = document.querySelector('#df-fa0a43b4-1a44-4be6-8e83-ca35d6649535');\n",
       "          const dataTable =\n",
       "            await google.colab.kernel.invokeFunction('convertToInteractive',\n",
       "                                                     [key], {});\n",
       "          if (!dataTable) return;\n",
       "\n",
       "          const docLinkHtml = 'Like what you see? Visit the ' +\n",
       "            '<a target=\"_blank\" href=https://colab.research.google.com/notebooks/data_table.ipynb>data table notebook</a>'\n",
       "            + ' to learn more about interactive tables.';\n",
       "          element.innerHTML = '';\n",
       "          dataTable['output_type'] = 'display_data';\n",
       "          await google.colab.output.renderOutput(dataTable, element);\n",
       "          const docLink = document.createElement('div');\n",
       "          docLink.innerHTML = docLinkHtml;\n",
       "          element.appendChild(docLink);\n",
       "        }\n",
       "      </script>\n",
       "    </div>\n",
       "  </div>\n",
       "  "
      ],
      "text/plain": [
       "   module_name_eq_EQ1  module_name_eq_EQ10  module_name_eq_EQ11  \\\n",
       "0                   0                    1                    0   \n",
       "1                   0                    1                    0   \n",
       "2                   0                    1                    0   \n",
       "\n",
       "   module_name_eq_EQ12  module_name_eq_EQ2  module_name_eq_EQ3  \\\n",
       "0                    0                   0                   0   \n",
       "1                    0                   0                   0   \n",
       "2                    0                   0                   0   \n",
       "\n",
       "   module_name_eq_EQ4  module_name_eq_EQ5  module_name_eq_EQ6  \\\n",
       "0                   0                   0                   0   \n",
       "1                   0                   0                   0   \n",
       "2                   0                   0                   0   \n",
       "\n",
       "   module_name_eq_EQ7  module_name_eq_EQ8  module_name_eq_EQ9  \n",
       "0                   0                   0                   0  \n",
       "1                   0                   0                   0  \n",
       "2                   0                   0                   0  "
      ]
     },
     "execution_count": 50,
     "metadata": {},
     "output_type": "execute_result"
    }
   ],
   "source": [
    "# 원-핫 인코딩 변환 후 결과를 확인합니다.\n",
    "df_prep_train.filter(regex='module_name_eq').head(3)"
   ]
  },
  {
   "cell_type": "markdown",
   "id": "zxMfd6WmGd4B",
   "metadata": {
    "id": "zxMfd6WmGd4B"
   },
   "source": [
    "<a name='04-06'></a>\n",
    "### 4.6 변수 선택 \n",
    "\n",
    "변수 선택은 주어진 데이터의 변수 중에서 모델링의 가장 적절한 변수만 선택하는 과정입니다. \n",
    "\n",
    "변수 선택 방법은 필터 방법(Filter method), 래퍼 방법(Wrapper method), 임베디드 방법(Embeded method)이 있습니다. \n",
    "\n",
    "- **필터 방법** : 통계량(ex. 상관계수, 카이제곱, 상호정보량)을 구하여 가장 뛰어난 특성을 선택하는 기법 (ex. SelectKBest)\n",
    "- **래퍼 방법** : 시행착오를 통해 가장 높은 품질의 예측을 만드는 특성의 부분조합을 찾는 기법 (ex. RFE, RFECV)\n",
    "- **임베디드 방법** : 결정트리 모델로부터 생성된 특징 중요도를 이용하여 특성을 선택하는 기법 (ex. SelectFromModel)\n",
    "\n",
    "다음은 필터 방법중 상호정보량을 사용하여 중요 특성을 추출하는 예제코드입니다.\n",
    "\n",
    "참가자들은 자유롭게 분석하며, 변수 선택 중 한가지 방법으로 참고할 수 있습니다."
   ]
  },
  {
   "cell_type": "code",
   "execution_count": null,
   "id": "ewk5ZY2GG0UP",
   "metadata": {
    "id": "ewk5ZY2GG0UP"
   },
   "outputs": [],
   "source": [
    "# skb = SelectKBest(score_func=mutual_info_regression, k=100) \n",
    "# skb.fit(df_prep_train[col_sensor], df_prep_train['y'])\n",
    "# select_features_kbest = skb.get_support()\n",
    "# col_featsIDX = pd.Index(df_prep_train[col_sensor].columns.tolist())\n",
    "# col_selected_mutual = col_featsIDX[select_features_kbest]"
   ]
  },
  {
   "cell_type": "markdown",
   "id": "gfzs-bjAVj-i",
   "metadata": {
    "id": "gfzs-bjAVj-i"
   },
   "source": [
    "<a name='04-06'></a>\n",
    "### 4.7 널값 채움 \n",
    "\n"
   ]
  },
  {
   "cell_type": "code",
   "execution_count": null,
   "id": "5H2s1DVDVvS4",
   "metadata": {
    "id": "5H2s1DVDVvS4"
   },
   "outputs": [],
   "source": [
    "# fillna(..., inplace=True): fill out NaN as (...)\n",
    "new_X = missing_X.copy()\n",
    "\n",
    "new_X['total_bill'].fillna(new_X['total_bill'].mean(), inplace = True)\n",
    "new_X.isna().sum()"
   ]
  },
  {
   "cell_type": "code",
   "execution_count": null,
   "id": "NAgzPMteV-EF",
   "metadata": {
    "id": "NAgzPMteV-EF"
   },
   "outputs": [],
   "source": [
    "from sklearn.impute import SimpleImputer\n",
    "from sklearn.preprocessing import OrdinalEncoder\n",
    "\n",
    "# Define SimpleImputer\n",
    "imp = SimpleImputer(missing_values= np.nan, strategy = 'mean')\n",
    "\n",
    "# Fit SimpleImputer\n",
    "imp.fit(missing_X)\n",
    "\n",
    "# Imputate\n",
    "imputed_X_array = imp.transform(missing_X)\n",
    "\n",
    "# convert it into DataFrame for convenience.\n",
    "imputed_X = pd.DataFrame(imputed_X_array, columns = missing_X.columns)\n",
    "\n",
    "imputed_X.isna().sum()"
   ]
  },
  {
   "cell_type": "code",
   "execution_count": null,
   "id": "UwrUE3PKWNSq",
   "metadata": {
    "id": "UwrUE3PKWNSq"
   },
   "outputs": [],
   "source": [
    "from sklearn.experimental import enable_iterative_imputer\n",
    "from sklearn.impute import IterativeImputer\n",
    "\n",
    "iter_imp = IterativeImputer()\n",
    "\n",
    "iter_imp.fit(missing_X)\n",
    "\n",
    "iter_X_array = iter_imp.transform(missing_X)\n",
    "\n",
    "iter_X = pd.DataFrame(iter_X_array, columns = missing_X.columns)\n",
    "iter_X.isna().sum()"
   ]
  },
  {
   "cell_type": "markdown",
   "id": "99dc3a22",
   "metadata": {
    "id": "99dc3a22"
   },
   "source": [
    "<a name='05'></a>\n",
    "## 5. 모델링"
   ]
  },
  {
   "cell_type": "markdown",
   "id": "-7zQXRQfzCQ0",
   "metadata": {
    "id": "-7zQXRQfzCQ0"
   },
   "source": [
    "<a name='05-01'></a>\n",
    "### 5.1 데이터 분할\n",
    "\n",
    "모델의 일반화 성능을 평가하기 위해 학습 데이터 중 일부를 검증용 데이터로 분할합니다. \n",
    "\n",
    "train_test_split 함수를 이용하여 학습용 데이터 중 10% 데이터를 검증 데이터로 분류합니다."
   ]
  },
  {
   "cell_type": "code",
   "execution_count": null,
   "id": "ff33df35",
   "metadata": {
    "id": "ff33df35"
   },
   "outputs": [],
   "source": [
    "# 학습에 사용할 수치형 변수 컬럼을 정의합니다. \n",
    "# 앞서 정의한 col_numerical 에서 분산이 0 인 컬럼을 제거합니다.\n",
    "col_numerical = [col for col in col_numerical if col not in cols_var_drop]\n",
    "\n",
    "# 학습에 사용할 원-핫 인코딩된 범주형 변수 컬럼을 정의합니다. \n",
    "col_cate_module_name_eq = df_prep_train.filter(regex='^module_name_eq').columns.tolist()\n",
    "col_cate = col_cate_module_name_eq\n",
    "\n",
    "# 모델에 입력으로 사용될 최종 컬럼을 정의합니다.\n",
    "col_X = col_numerical + col_cate\n",
    "col_y = 'y'\n",
    "\n",
    "# 학습용 데이터를 정의합니다.\n",
    "x_train_raw = df_prep_train[col_X]\n",
    "y_train_raw = df_prep_train[col_y]\n",
    "\n",
    "# 평가용 데이터를 정의합니다.\n",
    "x_predict = df_prep_predict[col_X]\n",
    "\n",
    "# 학습 데이터 중 일부를 검증 데이터 셋으로 분할합니다. \n",
    "x_train, x_valid, y_train, y_valid = train_test_split(x_train_raw, y_train_raw, test_size=0.1, shuffle=True, random_state=71)"
   ]
  },
  {
   "cell_type": "markdown",
   "id": "ns1Ofgfyfbqv",
   "metadata": {
    "id": "ns1Ofgfyfbqv"
   },
   "source": [
    "모델의 성능 평가를 위해 제곱근평균제곱오차(RMSE)를 반환하는 함수를 작성합니다. "
   ]
  },
  {
   "cell_type": "code",
   "execution_count": null,
   "id": "GfCmw1CbkhG1",
   "metadata": {
    "id": "GfCmw1CbkhG1"
   },
   "outputs": [],
   "source": [
    "# mean_squared_error 의 매개변수 squared 가 False 이면 RMSE 를 반환합니다.\n",
    "def rmse(y_true, y_pred):\n",
    "  return round(mean_squared_error(y_true, y_pred, squared=False), 4)"
   ]
  },
  {
   "cell_type": "markdown",
   "id": "6f6d13a0",
   "metadata": {
    "id": "6f6d13a0"
   },
   "source": [
    "<a name='05-02'></a>\n",
    "### 5.2 릿지 회귀 모델\n",
    "선형 모델 중 하나인 릿지 모델을 사용\b합니다. 릿지 모델은 계수의 제곱에 비례하여 벌칙을 부여하는 **L2 정규화**를 사용합니다. \n",
    "\n",
    "릿지 회귀 모델에서 튜닝해야할 매개변수는 정규화의 세기를 나타내는 **alpha** 입니다.  \n"
   ]
  },
  {
   "cell_type": "code",
   "execution_count": null,
   "id": "mm9V81SLFECV",
   "metadata": {
    "id": "mm9V81SLFECV"
   },
   "outputs": [],
   "source": [
    "# log 단위(1e+01)로 1.e-02 ~ 1.e+01 구간에 대해 매개변수를 탐색합니다.\n",
    "ridge_params = {'alpha': np.logspace(-2,1,6)}"
   ]
  },
  {
   "cell_type": "markdown",
   "id": "hRPEWxK1Fo5x",
   "metadata": {
    "id": "hRPEWxK1Fo5x"
   },
   "source": [
    "매개변수 탐색을 위해 그리드 서치 기법을 사용합니다. \n",
    "\n",
    "GridSearchCV는 매개변수 각 조합에 대해 모델을 훈련하고, K-폴드 교차검증으로 평가합니다. cv의 디폴트는 5 입니다. \n",
    "\n",
    "refit=True 로 설정할 경우, 매개변수 탐색 후, 전체 데이터셋에서 최적의 하이퍼파라미터를 사용하여 모델을 재학습시킵니다."
   ]
  },
  {
   "cell_type": "code",
   "execution_count": null,
   "id": "7bf4e87d",
   "metadata": {
    "id": "7bf4e87d"
   },
   "outputs": [],
   "source": [
    "# GridSearchCV를 이용하여 Ridge 모델을 저장합니다.\n",
    "ridge_model = GridSearchCV(Ridge(), param_grid=ridge_params, refit=True, scoring='neg_root_mean_squared_error')\n",
    "ridge_model.fit(x_train, y_train)"
   ]
  },
  {
   "cell_type": "markdown",
   "id": "lmOG0YrImSSz",
   "metadata": {
    "id": "lmOG0YrImSSz"
   },
   "source": [
    "alpha 가 10인 경우, 모델의 성능이 가장 우수하였습니다."
   ]
  },
  {
   "cell_type": "code",
   "execution_count": null,
   "id": "cqDQZ9M740uj",
   "metadata": {
    "id": "cqDQZ9M740uj"
   },
   "outputs": [],
   "source": [
    "col_cv_results = ['params', 'mean_test_score', 'rank_test_score']\n",
    "pd.DataFrame(ridge_model.cv_results_)[col_cv_results]"
   ]
  },
  {
   "cell_type": "code",
   "execution_count": null,
   "id": "izFfynhnQCwv",
   "metadata": {
    "id": "izFfynhnQCwv"
   },
   "outputs": [],
   "source": [
    "# CASE 2 : Cross Validation : SNU\n",
    "from sklearn.model_selection import GridSearchCV\n",
    "\n",
    "# Find best max_depth in np.arange(1, 101, 10)\n",
    "parameters = {'criterion': ['entropy'],\n",
    "              'max_depth': np.arange(1, 101, 10),\n",
    "              'random_state': [0]\n",
    "              }\n",
    "\n",
    "estimator = RandomForestClassifier()\n",
    "clf = GridSearchCV(estimator=estimator, \n",
    "                   param_grid=parameters, \n",
    "                   scoring='accuracy', \n",
    "                   cv=5,\n",
    "                   verbose=3)\n",
    "clf.fit(X_train, y_train)\n",
    "\n",
    "# Get best estimator\n",
    "best_clf = clf.best_estimator_\n",
    "best_clf\n",
    "\n",
    "import matplotlib.pyplot as plt\n",
    "\n",
    "max_depth = clf.cv_results_['param_max_depth'].data\n",
    "mean_test_score = clf.cv_results_['mean_test_score'].data\n",
    "\n",
    "print(max_depth.shape)\n",
    "print(mean_test_score.shape)\n",
    "\n",
    "plt.plot(max_depth,\n",
    "         mean_test_score)\n",
    "plt.show()"
   ]
  },
  {
   "cell_type": "markdown",
   "id": "NazERQf16PD9",
   "metadata": {
    "id": "NazERQf16PD9"
   },
   "source": [
    "<a name=\"05-03\"></a>\n",
    "### 5.3 랜덤 포레스트 모델 \n",
    "랜덤 포레스트는 행 데이터를 샘플링한 후, 병렬로 수행된 다수의 결정 트리로부터 예측한 평균값을 출력합니다. \n",
    "\n",
    "랜덤 포레스트에서 튜닝해야할 변수는 다음과 같습니다.\n",
    "\n",
    "*  n_estimators : 결정 트리 갯수 ( default : 100 )\n",
    "*  max_depth : 트리의 최대 깊이 ( default : \bNone ) \n",
    "*  min_samples_split : 노드를 분할하기 위한 최소 샘플 갯수 ( default : 2 )\n",
    "*  min_samples_leaf : 리프 노드가 되기 위한 최소 샘플 갯수 ( default : 1 )\n",
    "*  max_features : 각 노드에서 분기시 사용할 최대 특성 갯수 ( default : 1.0 - 전체 특성 갯수 )\n",
    "*  bootstrap : 중복을 허용한 샘플링 여부 ( default : True ) \n",
    "\n",
    "\n",
    "결정 트리의 갯수가 커질수록 계산시간이 증가하므로, 시간과 성능의 트레이드 오프로 결정합니다. "
   ]
  },
  {
   "cell_type": "code",
   "execution_count": null,
   "id": "VY8oXLOXqisg",
   "metadata": {
    "id": "VY8oXLOXqisg"
   },
   "outputs": [],
   "source": [
    "rf_params = {'n_estimators': [120, 200], 'max_features' : [5, 6]} \n",
    "\n",
    "# GridSearchCV를 이용하여 Randomforest 모델을 저장합니다.\n",
    "rf_model = GridSearchCV(RandomForestRegressor(), param_grid=rf_params, scoring='neg_root_mean_squared_error')\n",
    "rf_model.fit(x_train, y_train)"
   ]
  },
  {
   "cell_type": "code",
   "execution_count": null,
   "id": "mrWqpoCF7ByT",
   "metadata": {
    "id": "mrWqpoCF7ByT"
   },
   "outputs": [],
   "source": [
    "pd.DataFrame(rf_model.cv_results_)[col_cv_results]"
   ]
  },
  {
   "cell_type": "code",
   "execution_count": null,
   "id": "O6JqSJEx-eVf",
   "metadata": {
    "id": "O6JqSJEx-eVf"
   },
   "outputs": [],
   "source": [
    "#clf = RandomForestClassifier(random_state=0)\n",
    "#clf.fit(X_train, y_train)\n",
    "#print(f'train accuracy: {clf.score(X_train, y_train)}')\n",
    "#print(f'test accuracy: {clf.score(X_test, y_test)}')"
   ]
  },
  {
   "cell_type": "markdown",
   "id": "7Dk2nyXiOfCo",
   "metadata": {
    "id": "7Dk2nyXiOfCo"
   },
   "source": []
  },
  {
   "cell_type": "markdown",
   "id": "2PcYeQBInymH",
   "metadata": {
    "id": "2PcYeQBInymH"
   },
   "source": [
    "<a name='05-04'></a>\n",
    "### 5.4 최종 모델 구축 \n",
    "\n",
    "릿지 모델과 랜덤 포레스트 모델을 평가하고, 이 둘의 조합인 앙상블 모델을 구축합니다.\n"
   ]
  },
  {
   "cell_type": "code",
   "execution_count": null,
   "id": "Ceof_g8Um_Tv",
   "metadata": {
    "colab": {
     "base_uri": "https://localhost:8080/",
     "height": 248
    },
    "id": "Ceof_g8Um_Tv",
    "outputId": "07a3e5c2-e91f-4e4c-addc-178325623890"
   },
   "outputs": [
    {
     "ename": "NameError",
     "evalue": "ignored",
     "output_type": "error",
     "traceback": [
      "\u001b[0;31m---------------------------------------------------------------------------\u001b[0m",
      "\u001b[0;31mNameError\u001b[0m                                 Traceback (most recent call last)",
      "\u001b[0;32m<ipython-input-7-eca3ab58109c>\u001b[0m in \u001b[0;36m<module>\u001b[0;34m\u001b[0m\n\u001b[1;32m      1\u001b[0m \u001b[0;31m# 최적의 하이퍼파라미터로 학습된 릿지 회귀 모델을 저장합니다.\u001b[0m\u001b[0;34m\u001b[0m\u001b[0;34m\u001b[0m\u001b[0;34m\u001b[0m\u001b[0m\n\u001b[0;32m----> 2\u001b[0;31m \u001b[0mbest_ridge\u001b[0m \u001b[0;34m=\u001b[0m \u001b[0mridge_model\u001b[0m\u001b[0;34m.\u001b[0m\u001b[0mbest_estimator_\u001b[0m\u001b[0;34m\u001b[0m\u001b[0;34m\u001b[0m\u001b[0m\n\u001b[0m\u001b[1;32m      3\u001b[0m \u001b[0;34m\u001b[0m\u001b[0m\n\u001b[1;32m      4\u001b[0m \u001b[0;31m# 최적의 하이퍼파라미터로 학습된 랜덤포레스트 모델을 저장합니다.\u001b[0m\u001b[0;34m\u001b[0m\u001b[0;34m\u001b[0m\u001b[0;34m\u001b[0m\u001b[0m\n\u001b[1;32m      5\u001b[0m \u001b[0mbest_rf\u001b[0m \u001b[0;34m=\u001b[0m \u001b[0mrf_model\u001b[0m\u001b[0;34m.\u001b[0m\u001b[0mbest_estimator_\u001b[0m\u001b[0;34m\u001b[0m\u001b[0;34m\u001b[0m\u001b[0m\n",
      "\u001b[0;31mNameError\u001b[0m: name 'ridge_model' is not defined"
     ]
    }
   ],
   "source": [
    "# 최적의 하이퍼파라미터로 학습된 릿지 회귀 모델을 저장합니다. \n",
    "best_ridge = ridge_model.best_estimator_\n",
    "\n",
    "# 최적의 하이퍼파라미터로 학습된 랜덤포레스트 모델을 저장합니다. \n",
    "best_rf = rf_model.best_estimator_\n",
    "\n",
    "# 학습용 데이터셋의 타깃 변수 예측 \n",
    "y_pred_tr_ridge = best_ridge.predict(x_train)\n",
    "y_pred_tr_rf = best_rf.predict(x_train)\n",
    "\n",
    "# 검증용 데이터셋의 타깃 변수 예측 \n",
    "y_pred_va_ridge = best_ridge.predict(x_valid)\n",
    "y_pred_va_rf = best_rf.predict(x_valid)\n",
    "\n",
    "# 평가용 데이터셋의 타깃 변수 예측 \n",
    "y_pred_te_ridge = best_ridge.predict(x_predict)\n",
    "y_pred_te_rf = best_rf.predict(x_predict)\n",
    "\n",
    "# 앙상블 모형의 학습 및 검증 데이터에 대한 타깃 변수 예측 \n",
    "y_pred_tr_en= np.mean([y_pred_tr_ridge, y_pred_tr_rf], axis=0)\n",
    "y_pred_va_en= np.mean([y_pred_va_ridge, y_pred_va_rf], axis=0)\n",
    "y_pred_te_en= np.mean([y_pred_te_ridge, y_pred_te_rf], axis=0)\n",
    "\n",
    "# 학습 데이터셋의 RMSE 계산 \n",
    "rmse_tr_ridge = rmse(y_train, y_pred_tr_ridge)\n",
    "rmse_tr_rf = rmse(y_train, y_pred_tr_rf)\n",
    "rmse_tr_en = rmse(y_train, y_pred_tr_en)\n",
    "\n",
    "# 검증 데이터셋의 RMSE 계산 \n",
    "rmse_va_ridge = rmse(y_valid, y_pred_va_ridge)\n",
    "rmse_va_rf = rmse(y_valid, y_pred_va_rf)\n",
    "rmse_va_en = rmse(y_valid, y_pred_va_en)\n",
    "\n",
    "print(f'\\n**** RIDGE\\n')\n",
    "print(f'Train RMSE: {round(rmse_tr_ridge, 4)}\\n')\n",
    "print(f'\bValid RMSE: {round(rmse_va_ridge, 4)}')\n",
    "\n",
    "print(f'\\n**** Random Forest\\n')\n",
    "print(f'Train RMSE: {round(rmse_tr_rf, 4)}\\n')\n",
    "print(f'\bValid RMSE: {round(rmse_va_rf, 4)}')\n",
    "\n",
    "print(f'\\n**** Ensemble\\n\\n')\n",
    "print(f'\bTrain RMSE: {round(rmse_tr_en, 4)}\\n')\n",
    "print(f'\bValid RMSE: {round(rmse_va_en, 4)}')"
   ]
  },
  {
   "cell_type": "markdown",
   "id": "kNTiZkBar4Ti",
   "metadata": {
    "id": "kNTiZkBar4Ti"
   },
   "source": [
    "검증용 데이터로 세가지 모델에 대한 성능을 비교합니다."
   ]
  },
  {
   "cell_type": "code",
   "execution_count": null,
   "id": "fp2tYvMbJRTv",
   "metadata": {
    "colab": {
     "base_uri": "https://localhost:8080/",
     "height": 248
    },
    "id": "fp2tYvMbJRTv",
    "outputId": "39e1e214-1f34-4181-de5a-1e09ee17e84d"
   },
   "outputs": [
    {
     "ename": "NameError",
     "evalue": "ignored",
     "output_type": "error",
     "traceback": [
      "\u001b[0;31m---------------------------------------------------------------------------\u001b[0m",
      "\u001b[0;31mNameError\u001b[0m                                 Traceback (most recent call last)",
      "\u001b[0;32m<ipython-input-8-8c1732ac3fa6>\u001b[0m in \u001b[0;36m<module>\u001b[0;34m\u001b[0m\n\u001b[0;32m----> 1\u001b[0;31m \u001b[0mrmse_valid\u001b[0m \u001b[0;34m=\u001b[0m \u001b[0;34m[\u001b[0m\u001b[0mrmse_va_ridge\u001b[0m\u001b[0;34m,\u001b[0m \u001b[0mrmse_va_rf\u001b[0m\u001b[0;34m,\u001b[0m \u001b[0mrmse_va_en\u001b[0m\u001b[0;34m]\u001b[0m\u001b[0;34m\u001b[0m\u001b[0;34m\u001b[0m\u001b[0m\n\u001b[0m\u001b[1;32m      2\u001b[0m \u001b[0mrecap_model\u001b[0m \u001b[0;34m=\u001b[0m \u001b[0;34m[\u001b[0m\u001b[0;34m'RIDGE'\u001b[0m\u001b[0;34m,\u001b[0m \u001b[0;34m'RF'\u001b[0m\u001b[0;34m,\u001b[0m \u001b[0;34m'Ensemble'\u001b[0m\u001b[0;34m]\u001b[0m\u001b[0;34m\u001b[0m\u001b[0;34m\u001b[0m\u001b[0m\n\u001b[1;32m      3\u001b[0m \u001b[0mdf_recap\u001b[0m \u001b[0;34m=\u001b[0m \u001b[0mpd\u001b[0m\u001b[0;34m.\u001b[0m\u001b[0mDataFrame\u001b[0m\u001b[0;34m(\u001b[0m\u001b[0;34m{\u001b[0m\u001b[0;34m'Model'\u001b[0m\u001b[0;34m:\u001b[0m \u001b[0mrecap_model\u001b[0m\u001b[0;34m,\u001b[0m \u001b[0;34m'Valid_RMSE'\u001b[0m \u001b[0;34m:\u001b[0m \u001b[0mrmse_valid\u001b[0m\u001b[0;34m}\u001b[0m\u001b[0;34m)\u001b[0m\u001b[0;34m\u001b[0m\u001b[0;34m\u001b[0m\u001b[0m\n\u001b[1;32m      4\u001b[0m \u001b[0max\u001b[0m \u001b[0;34m=\u001b[0m \u001b[0msns\u001b[0m\u001b[0;34m.\u001b[0m\u001b[0mbarplot\u001b[0m\u001b[0;34m(\u001b[0m\u001b[0mx\u001b[0m\u001b[0;34m=\u001b[0m\u001b[0;34m'Model'\u001b[0m\u001b[0;34m,\u001b[0m \u001b[0my\u001b[0m\u001b[0;34m=\u001b[0m\u001b[0;34m'Valid_RMSE'\u001b[0m\u001b[0;34m,\u001b[0m \u001b[0mdata\u001b[0m\u001b[0;34m=\u001b[0m\u001b[0mdf_recap\u001b[0m\u001b[0;34m,\u001b[0m \u001b[0mpalette\u001b[0m\u001b[0;34m=\u001b[0m\u001b[0;34m\"Blues_d\"\u001b[0m\u001b[0;34m)\u001b[0m\u001b[0;34m\u001b[0m\u001b[0;34m\u001b[0m\u001b[0m\n\u001b[1;32m      5\u001b[0m \u001b[0max\u001b[0m\u001b[0;34m.\u001b[0m\u001b[0mset_ylim\u001b[0m\u001b[0;34m(\u001b[0m\u001b[0;34m[\u001b[0m\u001b[0;36m5\u001b[0m\u001b[0;34m,\u001b[0m \u001b[0;36m9\u001b[0m\u001b[0;34m]\u001b[0m\u001b[0;34m)\u001b[0m\u001b[0;34m\u001b[0m\u001b[0;34m\u001b[0m\u001b[0m\n",
      "\u001b[0;31mNameError\u001b[0m: name 'rmse_va_ridge' is not defined"
     ]
    }
   ],
   "source": [
    "rmse_valid = [rmse_va_ridge, rmse_va_rf, rmse_va_en]\n",
    "recap_model = ['RIDGE', 'RF', 'Ensemble']\n",
    "df_recap = pd.DataFrame({'Model': recap_model, 'Valid_RMSE' : rmse_valid})\n",
    "ax = sns.barplot(x='Model', y='Valid_RMSE', data=df_recap, palette=\"Blues_d\")\n",
    "ax.set_ylim([5, 9]) "
   ]
  },
  {
   "cell_type": "markdown",
   "id": "80_8WZ2yr7o4",
   "metadata": {
    "id": "80_8WZ2yr7o4"
   },
   "source": [
    "검증 데이터에 대한 앙상블 모델 예측 결과를 시각화합니다. "
   ]
  },
  {
   "cell_type": "code",
   "execution_count": null,
   "id": "ceaR1xmO1KWb",
   "metadata": {
    "id": "ceaR1xmO1KWb"
   },
   "outputs": [],
   "source": [
    "df_train = pd.DataFrame({'y_true': y_train.values, 'y_pred': y_pred_tr_en})\n",
    "df_valid = pd.DataFrame({'y_true': y_valid.values, 'y_pred': y_pred_va_en})\n",
    "\n",
    "fig, axes = plt.subplots(nrows=1, ncols=2, sharey=True, figsize=(18,4))\n",
    "fig.subplots_adjust(hspace=.4, wspace=.1)\n",
    "\n",
    "sns.lineplot(data = df_train, ax=axes[0])\n",
    "sns.lineplot(data = df_valid, ax=axes[1])\n",
    "\n",
    "axes[0].set_title('Train Dataset')\n",
    "axes[1].set_title('Validation Dataset')\n",
    "\n",
    "axes[0].legend(loc='lower right', ncol=2)\n",
    "axes[1].legend(loc='lower right', ncol=2)\n",
    "\n",
    "plt.show()\n",
    "plt.clf() "
   ]
  },
  {
   "cell_type": "markdown",
   "id": "LrNKtoZcCM5a",
   "metadata": {
    "id": "LrNKtoZcCM5a"
   },
   "source": [
    "<a name='05-05'></a>\n",
    "### 5.5 결과 해석 \n"
   ]
  },
  {
   "cell_type": "markdown",
   "id": "hpZkW3HRHTwI",
   "metadata": {
    "id": "hpZkW3HRHTwI"
   },
   "source": [
    "릿지 회귀 모델에서의 계수(coefficient)는 각 변수의 곱해지는 가중치를 의미합니다."
   ]
  },
  {
   "cell_type": "code",
   "execution_count": null,
   "id": "z6fx9L9BwiNp",
   "metadata": {
    "id": "z6fx9L9BwiNp"
   },
   "outputs": [],
   "source": [
    "# Ridge 에서 GridSearchCV로 탐색한 최적의 alpha값 출력합니다. \n",
    "print(f'Alpha : {best_ridge.alpha}')\n",
    "_ = pd.DataFrame(best_ridge.coef_.reshape(-1, df_prep_train[col_X].columns.shape[0]), columns=df_prep_train[col_X].columns, index=['coefficient'])\n",
    "_"
   ]
  },
  {
   "cell_type": "markdown",
   "id": "VxaSYzmwsWeW",
   "metadata": {
    "id": "VxaSYzmwsWeW"
   },
   "source": [
    "랜덤 포레스트와 같은 트리 기반 모델에서는 각 변수의 중요도 정보를 함께 제공합니다. \n",
    "\n",
    "특정 변수로 분기되었을 시 제곱오차(squared_error)가 크게 감소한 변수일수록 중요도가 높아집니다.\n",
    "\n",
    "분류 문제일 경우에는, 불순도(Gini, entropy)가 크게 감소할수록 해당 특성의 중요도가 높아집니다.\n",
    "\n",
    "전체 변수의 중요도 합은 1이며, 이는 상대적 의미를 가집니다.  \n",
    "\n"
   ]
  },
  {
   "cell_type": "code",
   "execution_count": null,
   "id": "JkNz25d24t8B",
   "metadata": {
    "id": "JkNz25d24t8B"
   },
   "outputs": [],
   "source": [
    "feat_importances = pd.Series(best_rf.feature_importances_, index=df_prep_train[col_X].columns)\n",
    "feat_importances.nlargest(15).plot(kind='barh')"
   ]
  },
  {
   "cell_type": "markdown",
   "id": "7bc5e184",
   "metadata": {
    "id": "7bc5e184"
   },
   "source": [
    "<a name='05-06'></a>\n",
    "### 5.6 예측 결과 파일 제출 "
   ]
  },
  {
   "cell_type": "code",
   "execution_count": null,
   "id": "faU2PsDDz3nf",
   "metadata": {
    "id": "faU2PsDDz3nf"
   },
   "outputs": [],
   "source": [
    "predict['msure_val'] = list(y_pred_te_en)\n",
    "df_submission = predict[['key_val', 'msure_val']] \n",
    "df_submission.head()"
   ]
  },
  {
   "cell_type": "code",
   "execution_count": null,
   "id": "t_Dmq76OawcM",
   "metadata": {
    "id": "t_Dmq76OawcM"
   },
   "outputs": [],
   "source": [
    "# 예측값에 결측치가 포함되어 있는지 확인합니다.\n",
    "df_submission.isnull().sum()"
   ]
  },
  {
   "cell_type": "code",
   "execution_count": null,
   "id": "VafErHfrbK4T",
   "metadata": {
    "id": "VafErHfrbK4T"
   },
   "outputs": [],
   "source": [
    "# 예측값의 갯수가 평가용 데이터의 갯수와 동일한지 확인합니다.\n",
    "assert len(df_submission) == len(predict)\n",
    "print(f'No. of Predict DataSet : {len(predict)}\\nNo. of Submission DataSet : {len(df_submission)}')"
   ]
  },
  {
   "cell_type": "code",
   "execution_count": null,
   "id": "Sm2fMII4iwJR",
   "metadata": {
    "id": "Sm2fMII4iwJR"
   },
   "outputs": [],
   "source": [
    "# 예측 파일을 저장합니다. \n",
    "# 제출용 파일 이름은 cds_submission_팀명_차수.csv 형태로 제출합니다.\n",
    "df_submission.set_index('key_val', inplace=True)\n",
    "df_submission.to_csv(f'{path}cds_submission_라이다_1.csv')"
   ]
  },
  {
   "cell_type": "markdown",
   "id": "yltbGK0iWUWw",
   "metadata": {
    "id": "yltbGK0iWUWw"
   },
   "source": [
    "<a name='05-05'></a>\n",
    "### 참고 결과 해석 "
   ]
  },
  {
   "cell_type": "markdown",
   "id": "zmgSLBBRm8s_",
   "metadata": {
    "id": "zmgSLBBRm8s_"
   },
   "source": [
    "<a name='05-05'></a>\n",
    "### 참고 1. K-FOLD"
   ]
  },
  {
   "cell_type": "code",
   "execution_count": null,
   "id": "5ZAYstCpPJDo",
   "metadata": {
    "id": "5ZAYstCpPJDo"
   },
   "outputs": [],
   "source": [
    "def kfold_split(X_train, y_train, k):\n",
    "    \"\"\"\n",
    "    Create K-fold dataset for Cross Validation\n",
    "\n",
    "    Args:\n",
    "      X_train (2-D Array): dataset\n",
    "      y_train (1-D Array): target\n",
    "      k (integer): the value of K in K-fold Cross Validation\n",
    "      \n",
    "    Returns:\n",
    "      train_valid_index (List of 1-D Array): K-folded indices \n",
    "                                             [(train_index, valid_index) * k]\n",
    "    \"\"\"\n",
    "    assert X_train.shape[0] == y_train.shape[0], 'Data size error'\n",
    "    index_list = np.arange(X_train.shape[0])\n",
    "    \n",
    "    train_valid_index = []\n",
    "    start = 0\n",
    "    end = 0\n",
    "\n",
    "    for i in range(k):\n",
    "        ### START CODE HERE ###\n",
    "        # The first \"n_samples % k\" folds have size \n",
    "        # (n_samples // k) + 1 as validation set, \n",
    "        # other folds have size (n_samples // k), as vaildation set.\n",
    "        # where n_samples is the number of samples.\n",
    "        # e.g.,\n",
    "        # 1st, 2nd, 3rd, 4th valid_index.shape = 5861\n",
    "        # 1st, 2nd, 3rd, 4th train_index.shape = 23443\n",
    "        # last valid_index.shape = 5860\n",
    "        # last train_index.shape = 23444\n",
    "        if i < (X_train.shape[0] % k):\n",
    "            end += (X_train.shape[0] // k) + 1\n",
    "        else:\n",
    "            end += (X_train.shape[0] // k)\n",
    "\n",
    "        # in split_index,\n",
    "        # set train data index as False\n",
    "        # set valid data index as True\n",
    "        split_index = np.zeros(index_list.shape, dtype = bool)\n",
    "        split_index[index_list[start:end]]=True\n",
    "\n",
    "        start = end\n",
    "        \n",
    "        train_index = index_list[~split_index]\n",
    "        valid_index = index_list[split_index]\n",
    "        ### END CODE HERE ###\n",
    "        train_valid_index.append([train_index, valid_index])\n",
    "    \n",
    "    return train_valid_index\n",
    "\n",
    "\n",
    "k=5\n",
    "for i, (train_index, valid_index) in enumerate(kfold_split(X_train, y_train, k)):\n",
    "    print(f'{i+1}/{k} train index: {train_index}, shape: {train_index.shape}')\n",
    "    print(f'{i+1}/{k} valid index: {valid_index}, shape: {valid_index.shape}')"
   ]
  },
  {
   "cell_type": "markdown",
   "id": "h_LP_h2URp9f",
   "metadata": {
    "id": "h_LP_h2URp9f"
   },
   "source": [
    "<a name='05-05'></a>\n",
    "### 참고 2. Adaptive Boosting"
   ]
  },
  {
   "cell_type": "code",
   "execution_count": null,
   "id": "c_yDQ4urRzZt",
   "metadata": {
    "id": "c_yDQ4urRzZt"
   },
   "outputs": [],
   "source": [
    "from sklearn.tree import DecisionTreeClassifier\n",
    "\n",
    "class AdaBoostClassifier:\n",
    "  \"\"\" AdaBoost ensemble classifier \"\"\"\n",
    "\n",
    "  def __init__(self, num_classes=2):\n",
    "    self.num_classes = num_classes\n",
    "\n",
    "  def _check_X_y(self, X, y):\n",
    "    \"\"\" Validate assumptions about format of input data\"\"\"\n",
    "    # Give AssertionError when we got wrong labels\n",
    "    assert set(y) == {-1, 1}, 'Response variable must be ±1'\n",
    "    return X, y\n",
    "\n",
    "  def fit(self, X, y, iters, max_depth):\n",
    "    \"\"\" Fit the model using training data \n",
    "    Args:\n",
    "      X (2-D Array): training inputs\n",
    "      y (1-D Array): training outputs\n",
    "      iters (int): number of iterations for boosting\n",
    "      max_depth (int): argument for DecisionTreeClassifier\n",
    "    Returns:\n",
    "      self (AdaBoostClassifier)\n",
    "    \"\"\"\n",
    "\n",
    "    X, y = self._check_X_y(X, y)\n",
    "    n = X.shape[0] # sample size\n",
    "\n",
    "    # init numpy arrays\n",
    "    self.sample_weights = np.zeros(shape=(iters, n))\n",
    "    self.stumps = np.zeros(shape=iters, dtype=object)\n",
    "    self.stump_weights = np.zeros(shape=iters)\n",
    "    self.errors = np.zeros(shape=iters)\n",
    "\n",
    "    # initialize weights uniformly\n",
    "    self.sample_weights[0] = np.ones(shape=(n,)) / n\n",
    "\n",
    "    for t in range(iters):\n",
    "      # shape (num_samples, )\n",
    "      curr_sample_weights = self.sample_weights[t]\n",
    "\n",
    "      ### START CODE HERE ###\n",
    "      # load a \"single weak classifier\" and fit it with sample weights\n",
    "      stump = DecisionTreeClassifier(max_depth=max_depth)\n",
    "      stump.fit(X, y, sample_weight=curr_sample_weights) # fit classifier here\n",
    "\n",
    "      # calculate error and stump weight from weak learner prediction\n",
    "      stump_pred = stump.predict(X)\n",
    "      mask_incorrect = (stump_pred != y)\n",
    "      err = curr_sample_weights[mask_incorrect].sum()\n",
    "      stump_weight = (1/2)* np.log((1 - err) / err)\n",
    "\n",
    "      # calculate new sample weights (before normalization)\n",
    "      new_sample_weights = (\n",
    "          curr_sample_weights * np.exp(-stump_weight * y \n",
    "                                       * stump_pred)\n",
    "      )\n",
    "      # normalize the new sample weights\n",
    "      new_sample_weights = new_sample_weights / new_sample_weights.sum()\n",
    "\n",
    "      # If not final iteration, update sample weights for t+1\n",
    "      if t+1 < iters:\n",
    "          self.sample_weights[t+1] = new_sample_weights\n",
    "      ### END CODE HERE ###\n",
    "\n",
    "\n",
    "      # save results of iteration (for visualization)\n",
    "      # use numpy array as a weak classifier container\n",
    "      self.stumps[t] = stump\n",
    "      self.stump_weights[t] = stump_weight\n",
    "      self.errors[t] = err\n",
    "\n",
    "    return self\n",
    "\n",
    "  def predict(self, X):\n",
    "    \"\"\" Make predictions using already fitted model \n",
    "    Args:\n",
    "      X (2-D Array): inputs to be predicted\n",
    "    Returns\n",
    "      predictions (1-D Array)\n",
    "    \"\"\"\n",
    "    # (num_stumps,)\n",
    "    stump_weights = self.stump_weights\n",
    "\n",
    "    ### START CODE HERE ###\n",
    "    # calculate all stumps' predictions. JUST FOLLOW ABOVE PREDICTION EQUATION!\n",
    "    # shape: (num_stumps, num_samples)\n",
    "    stump_preds = np.array([stump.predict(X).astype(int) \n",
    "              for stump in self.stumps])\n",
    "    # get predictions with stump_preds, stump_weights\n",
    "    # shape: (num_samples,)\n",
    "    predictions = np.sign(np.sum(stump_weights.reshape(-1, 1) \n",
    "                      * stump_preds, axis=0))\n",
    "    # ### END CODE HERE ###\n",
    "    return predictions\n",
    "\n",
    "model_ab = AdaBoostClassifier()\n",
    "max_depth = 1\n",
    "iters = 1000\n",
    "model_ab.fit(X_train, y_train, iters=iters, max_depth=max_depth)\n",
    "model_preds_train = model_ab.predict(X_train)\n",
    "model_preds_test = model_ab.predict(X_test)\n",
    "print('The accuracy of Adaptive Boosting is train: {:.3f}% / test: {:.3f}%'.format(\n",
    "    metrics.accuracy_score(model_preds_train,y_train)*100, \n",
    "    metrics.accuracy_score(model_preds_test,y_test)*100\n",
    "))"
   ]
  },
  {
   "cell_type": "code",
   "execution_count": null,
   "id": "dc86TRBSSRns",
   "metadata": {
    "id": "dc86TRBSSRns"
   },
   "outputs": [],
   "source": [
    "# AdaBoost with sklearn and playground\n",
    "from sklearn.ensemble import AdaBoostClassifier\n",
    "\n",
    "model_ab = AdaBoostClassifier(n_estimators=1000, random_state=0)\n",
    "model_ab.fit(X_train, y_train)\n",
    "model_preds_train = model_ab.predict(X_train)\n",
    "model_preds_test = model_ab.predict(X_test)\n",
    "print('The accuracy of Adaptive Boosting is train: {:.3f}% / test: {:.3f}%'.format(\n",
    "    metrics.accuracy_score(model_preds_train,y_train)*100, \n",
    "    metrics.accuracy_score(model_preds_test,y_test)*100\n",
    "))"
   ]
  },
  {
   "cell_type": "markdown",
   "id": "eT38gErTSypq",
   "metadata": {
    "id": "eT38gErTSypq"
   },
   "source": [
    "<a name='05-05'></a>\n",
    "### 참고 3. Gradient Boosting for Regression**"
   ]
  },
  {
   "cell_type": "code",
   "execution_count": null,
   "id": "-LJgtL4yS33i",
   "metadata": {
    "id": "-LJgtL4yS33i"
   },
   "outputs": [],
   "source": [
    "class SquareLoss:\n",
    "  def __init__(self): pass\n",
    "\n",
    "  def loss(self, y, y_pred, average=False):\n",
    "    ### START CODE HERE ###\n",
    "    loss = (0.5) * np.power(y - y_pred, 2)\n",
    "    if average: # do not modify this\n",
    "      loss = loss.mean()\n",
    "    ### END CODE HERE ###\n",
    "    return loss\n",
    "\n",
    "  def gradient(self, y, y_pred):\n",
    "    ### START CODE HERE ###\n",
    "    return (y - y_pred)\n",
    "    ### END CODE HERE ###\n",
    "\n",
    "SL = SquareLoss()\n",
    "y_temp = np.ones(shape=y.shape)\n",
    "print(SL.loss(y, y_temp, average=True))\n",
    "print(SL.gradient(y, y_temp))\n",
    "\n",
    "\n",
    "from sklearn.tree import DecisionTreeRegressor\n",
    "\n",
    "class GradientBoostingRegressor:\n",
    "  \"\"\"Class for Gradient Boosting. \n",
    "  Uses a collection of regression trees that trains on predicting the gradient\n",
    "  of the loss function.\n",
    "  Parameters:\n",
    "    n_estimators: int\n",
    "        The number of classification trees that are used.\n",
    "    learning_rate: float\n",
    "        The step length that will be taken when following the negative gradient during\n",
    "        training.\n",
    "    min_samples_split: int\n",
    "        The minimum number of samples needed to make a split when building a tree.\n",
    "    max_depth: int\n",
    "        The maximum depth of a tree.\n",
    "  \"\"\"\n",
    "  def __init__(self, n_estimators=50, learning_rate=1.0, max_depth=1, \n",
    "               min_samples_split=2):\n",
    "    self.n_estimators = n_estimators\n",
    "    self.learning_rate = learning_rate\n",
    "    self.max_depth = max_depth\n",
    "    self.min_samples_split = min_samples_split\n",
    "\n",
    "    # Square loss for regression\n",
    "    self.loss = SquareLoss()\n",
    "\n",
    "\n",
    "  def fit(self, X, y):\n",
    "    self.trees = []\n",
    "    for i in range(self.n_estimators):\n",
    "      ### START CODE HERE ###\n",
    "      # a) load DecisionTreeRegressor use parameters max_depth\n",
    "      tree = DecisionTreeRegressor(max_depth=self.max_depth)\n",
    "      if i == 0: # do not modify this\n",
    "        # initial target\n",
    "        target = y\n",
    "      else:\n",
    "        # b) compute gradients\n",
    "        gradient = self.loss.gradient(y, y_pred)\n",
    "\n",
    "        # c) update target\n",
    "        target = gradient\n",
    "\n",
    "      # d) fit the tree\n",
    "      tree.fit(X, target)\n",
    "\n",
    "      # e) get the new weak learner's prediction\n",
    "      # h(x)\n",
    "      update = tree.predict(X)\n",
    "\n",
    "      if i == 0: # do not modify this\n",
    "        # f) initial prediction\n",
    "        y_pred = update\n",
    "\n",
    "      else:\n",
    "        # g) update y prediction with nu*h(.)\n",
    "        y_pred = y_pred + self.learning_rate * update\n",
    "        \n",
    "      ### END CODE HERE ###\n",
    "      self.trees.append(tree)\n",
    "\n",
    "  def predict(self, X):\n",
    "    y_pred = self.trees[0].predict(X)\n",
    "    # Make predictions\n",
    "    for tree in self.trees[1:]:\n",
    "      ### START CODE HERE\n",
    "      update = tree.predict(X)\n",
    "      y_pred = y_pred + self.learning_rate * update\n",
    "      ### END CODE HERE\n",
    "          \n",
    "    return y_pred\n",
    "\n",
    "model_gbm_r = GradientBoostingRegressor(20)\n",
    "model_gbm_r.fit(x, y)\n",
    "model_gbm_r_pred = model_gbm_r.predict(x)\n",
    "print(\"train MSE:\", SquareLoss().loss(y, model_gbm_r_pred, average=True))\n",
    "plt.scatter(x, y)\n",
    "plt.plot(x, model_gbm_r_pred, 'tab:orange')\n",
    "plt.show()"
   ]
  },
  {
   "cell_type": "markdown",
   "id": "JhVAijn6TWSa",
   "metadata": {
    "id": "JhVAijn6TWSa"
   },
   "source": [
    "<a name='05-05'></a>\n",
    "### 참고 4. **SVM**"
   ]
  },
  {
   "cell_type": "code",
   "execution_count": null,
   "id": "aI6_4pudTa2j",
   "metadata": {
    "id": "aI6_4pudTa2j"
   },
   "outputs": [],
   "source": [
    "torch.manual_seed(0)\n",
    "\n",
    "class SVM(nn.Module):\n",
    "    def __init__(self, input, output):\n",
    "        '''initializer\n",
    "        '''\n",
    "        super(SVM, self).__init__()\n",
    "        self.w = nn.Linear(input,output,bias=False)\n",
    "        self.b = nn.Parameter(torch.zeros(1))\n",
    "\n",
    "    def forward(self, X):\n",
    "        ### START CODE HERE ###\n",
    "        # define output of SVM (TODO)\n",
    "        # w^t * x + b\n",
    "        output = torch.matmul(X, self.w.weight.T) +self.b\n",
    "        ### END CODE HERE ###\n",
    "        return output.flatten()\n",
    "\n",
    "    def loss(self, X, y, C):\n",
    "        '''loss function'''\n",
    "        ### START CODE HERE ###\n",
    "        # get output of SVM (TODO)\n",
    "        output = self(X)\n",
    "        # get weight vector and slack value.        \n",
    "        weight = self.w.weight\n",
    "        slack = torch.clamp(1-y*output, min=0)\n",
    "        # calculate loss (TODO)\n",
    "        loss = torch.sqrt(torch.sum(weight * weight)) + torch.sum(C * slack)\n",
    "        ### END CODE HERE ###\n",
    "        return loss\n",
    "\n",
    "    def learn(self, X, y, C, optimizer, epochs):\n",
    "        '''training SVM {epochs} times.\n",
    "        '''\n",
    "        self.train()\n",
    "        accumulate_loss = []\n",
    "        accumulate_accu = []\n",
    "        for t in range(epochs):\n",
    "            ### START CODE HERE ###\n",
    "            # Learning code for 1 epoch (TODO)\n",
    "            optimizer.zero_grad()\n",
    "            loss = self.loss(X, y, C)\n",
    "            loss.backward()\n",
    "            optimizer.step()\n",
    "            ### END CODE HERE ###\n",
    "            \n",
    "            # print train loss and accuracy every 10 steps\n",
    "            if t % 10==0 :\n",
    "                train_accu = self.evaluate(X, y)\n",
    "                #print(f'Epoch[{t}] train loss[{loss.item():08.2f}] / accu[{train_accu:01.2f}]')\n",
    "                accumulate_loss.append(loss.item())\n",
    "                accumulate_accu.append(train_accu)\n",
    "        return accumulate_loss, accumulate_accu\n",
    "\n",
    "    def evaluate(self, X, y):\n",
    "        self.eval()\n",
    "        with torch.no_grad():\n",
    "            pred = torch.sign(self(X))\n",
    "            accu = torch.sum(pred == y) / (y.size()[0])\n",
    "        return accu.item()\n",
    "            \n",
    "# parameters #\n",
    "# you can change parameters! (TODO)\n",
    "learning_rate = 0.01\n",
    "epochs = 1000\n",
    "C = 0.1\n",
    "\n",
    "model = SVM(X_train.size()[1], 1)\n",
    "optimizer = optim.SGD(model.parameters(), lr=learning_rate)\n",
    "loss, accu = model.learn(X_train, y_train, C, optimizer, epochs)\n",
    "\n",
    "learned_w = model.w.weight.detach()\n",
    "learned_b = model.b.detach()\n",
    "print(f'learned_w: {learned_w}')\n",
    "print(f'learned_b: {learned_b}')\n",
    "\n",
    "plt.clf()\n",
    "plt.plot(loss)\n",
    "plt.title(\"Loss graph\")\n",
    "plt.show()\n",
    "\n",
    "plt.clf()\n",
    "plt.plot(accu)\n",
    "plt.title(\"Accuracy graph\")\n",
    "plt.show()"
   ]
  },
  {
   "cell_type": "code",
   "execution_count": null,
   "id": "E2uJ7r-6TtJt",
   "metadata": {
    "id": "E2uJ7r-6TtJt"
   },
   "outputs": [],
   "source": [
    "# sklearn 사용\n",
    "\n",
    "# Load adult dataset and preprocess\n",
    "import shap\n",
    "X, y = shap.datasets.adult()\n",
    "# modify label type to integer\n",
    "y = y.astype(int)\n",
    "# change class '0' to '-1'\n",
    "y[y == 0] = -1\n",
    "\n",
    "# split train, test dataset\n",
    "X_train, X_test, y_train, y_test = train_test_split(\n",
    "    X, y, test_size = 0.1, random_state = 42)\n",
    "\n",
    "print(f'X_train.shape: {X_train.shape}')\n",
    "print(f'X_test.shape: {X_test.shape}')\n",
    "\n",
    "### START CODE HERE ###\n",
    "clf = svm.SVC(C=0.2)\n",
    "clf.fit(X_train, y_train)\n",
    "\n",
    "print(clf.score(X_test, y_test))\n",
    "### END CODE HERE ###"
   ]
  },
  {
   "cell_type": "markdown",
   "id": "6fHoRmpvfgmt",
   "metadata": {
    "id": "6fHoRmpvfgmt"
   },
   "source": [
    "<a name='05-05'></a>\n",
    "### 참고 5. **pytorch normalize**"
   ]
  },
  {
   "cell_type": "code",
   "execution_count": null,
   "id": "5-ZpKO7_fn0t",
   "metadata": {
    "id": "5-ZpKO7_fn0t"
   },
   "outputs": [],
   "source": [
    "import torch\n",
    "import torchvision.models as models\n",
    "from torch.utils.data import DataLoader, Dataset\n",
    "from torchvision import datasets\n",
    "from torchvision.transforms import ToTensor, Lambda, Compose\n",
    "from torch import nn"
   ]
  },
  {
   "cell_type": "code",
   "execution_count": null,
   "id": "q1lL2uYefrFt",
   "metadata": {
    "id": "q1lL2uYefrFt"
   },
   "outputs": [],
   "source": [
    "class Normalize(object):\n",
    "    \"\"\"\n",
    "    normalizes the input data to [0,1]\n",
    "    \"\"\"\n",
    "    def __init__(self):\n",
    "        return\n",
    "\n",
    "    def __call__(self, sample):\n",
    "        x, y = sample\n",
    "        #### START CODE ####\n",
    "        # normalize the full window that includes both x && y between 0 and 1. \n",
    "        window = np.append(x,y)\n",
    "        t_max = 1\n",
    "        t_min = 0\n",
    "        norm_arr = []\n",
    "        diff = t_max - t_min\n",
    "        diff_arr = max(window) - min(window)\n",
    "        for i in window:\n",
    "          temp = (((i - min(window))*diff)/diff_arr) + t_min\n",
    "          norm_arr.append(temp)\n",
    "\n",
    "        x = norm_arr[:-1]\n",
    "        y = norm_arr[-1]\n",
    "        \n",
    "        # make sure to return a tuple of (x, y) pytorch Tensors\n",
    "        x = torch.Tensor(x)\n",
    "        y = torch.Tensor([y])\n",
    "        return (x, y)\n",
    "        #### END CODE ####\n",
    "\n",
    "\n",
    "sample = (X[splits[0]][0], y[splits[0]][0])\n",
    "normalize_transform = Normalize()\n",
    "normalized_sample = normalize_transform(sample)\n",
    "print(normalized_sample)"
   ]
  },
  {
   "cell_type": "markdown",
   "id": "5Jlia2_3r64V",
   "metadata": {
    "id": "5Jlia2_3r64V"
   },
   "source": [
    "<a name='05-05'></a>\n",
    "### 참고 6. **Customized Datapipeline**\n",
    "You must design the three functions below:\n",
    "0. `__init__`: initialize the data, as well as any transformation you deem fit for the task. \n",
    "1. `__len__`: Returns the full count of the dataset.\n",
    "2. `__getitem__`: Returns a single item of the dataset via \"idx\", after applying the necessary transformations. "
   ]
  },
  {
   "cell_type": "code",
   "execution_count": null,
   "id": "SWJk9o0XsCcU",
   "metadata": {
    "id": "SWJk9o0XsCcU"
   },
   "outputs": [],
   "source": [
    "class Sunspots(Dataset):\n",
    "    \"\"\" sunspots appear on an 11-year solar cycle, meaning we should expect to \n",
    "    see a seasonality component to the data.\n",
    "    \"\"\"\n",
    "\n",
    "    def __init__(self, data=None, labels=None):\n",
    "        self.X = data\n",
    "        self.y = labels\n",
    "        self.transform = Compose([Normalize()])\n",
    "\n",
    "    def __len__(self):\n",
    "        return len(self.X)\n",
    "\n",
    "    def __getitem__(self, idx):\n",
    "        if torch.is_tensor(idx):\n",
    "            idx = idx.tolist()\n",
    "\n",
    "        #### START CODE ####\n",
    "\n",
    "        x = self.X[idx]\n",
    "        y = self.y[idx]\n",
    "\n",
    "        sample = (x, y)\n",
    "        sample = self.transform(sample)\n",
    "        return sample\n",
    "        #### END CODE ####\n",
    "\n",
    "sunspot_dataset = Sunspots(X, y)\n",
    "print(sunspot_dataset[0])"
   ]
  },
  {
   "cell_type": "code",
   "execution_count": null,
   "id": "gxh7QS-a7L9x",
   "metadata": {
    "id": "gxh7QS-a7L9x"
   },
   "outputs": [],
   "source": [
    "## Model ##\n",
    "class NeuralNetwork(nn.Module):\n",
    "    def __init__(self):\n",
    "        super(NeuralNetwork, self).__init__()\n",
    "        self.flatten = nn.Flatten()\n",
    "        self.linear_relu_stack = nn.Sequential(\n",
    "            nn.Linear(60, 128),\n",
    "            nn.ReLU(),\n",
    "            nn.Linear(128, 128),\n",
    "            nn.ReLU(),\n",
    "            nn.Linear(128, 1),\n",
    "        )\n",
    "\n",
    "    def forward(self, x):\n",
    "        logits = self.linear_relu_stack(x)\n",
    "        return logits\n",
    "\n",
    "model = NeuralNetwork()\n"
   ]
  },
  {
   "cell_type": "code",
   "execution_count": null,
   "id": "xCBO03EA7MGQ",
   "metadata": {
    "id": "xCBO03EA7MGQ"
   },
   "outputs": [],
   "source": [
    "## Loss ##\n",
    "loss_fn = nn.MSELoss()"
   ]
  },
  {
   "cell_type": "code",
   "execution_count": null,
   "id": "FBFZ78DN7Zjw",
   "metadata": {
    "id": "FBFZ78DN7Zjw"
   },
   "outputs": [],
   "source": [
    "## Optimizer ##\n",
    "learning_rate = 1e-3\n",
    "batch_size = 64\n",
    "epochs = 10\n",
    "optimizer = torch.optim.SGD(model.parameters(), lr=learning_rate)"
   ]
  },
  {
   "cell_type": "code",
   "execution_count": null,
   "id": "_RAGN0q57imw",
   "metadata": {
    "id": "_RAGN0q57imw"
   },
   "outputs": [],
   "source": [
    "## Train and Test\n",
    "\n",
    "def train_loop(dataloader, model, loss_fn, optimizer):\n",
    "    size = len(dataloader.dataset)\n",
    "    for batch, (X, y) in enumerate(dataloader):\n",
    "        X = X.float()\n",
    "        y = y.float()\n",
    "        # Compute prediction and loss\n",
    "        pred = model(X)\n",
    "        loss = loss_fn(pred, y)\n",
    "\n",
    "        # Backpropagation\n",
    "        optimizer.zero_grad()\n",
    "        loss.backward()\n",
    "        optimizer.step()\n",
    "\n",
    "        if batch % 10 == 0:\n",
    "            loss, current = loss.item(), batch * len(X)\n",
    "            print(f\"Train loss: {loss:>7f}  [{current:>5d}/{size:>5d}]\")\n",
    "\n",
    "\n",
    "def test_loop(dataloader, model, loss_fn):\n",
    "    size = len(dataloader.dataset)\n",
    "    num_batches = len(dataloader)\n",
    "    test_loss = 0\n",
    "\n",
    "    with torch.no_grad():\n",
    "        for X, y in dataloader:\n",
    "            X = X.float()\n",
    "            y = y.float()\n",
    "            pred = model(X)\n",
    "            test_loss += loss_fn(pred, y).item()\n",
    "\n",
    "    test_loss /= num_batches\n",
    "    print(f\"Test: \\n : Avg loss: {test_loss:>8f} \\n\")\n",
    "\n",
    "\n",
    "epochs = 10\n",
    "for t in range(epochs):\n",
    "    print(f\"Epoch {t+1}\\n-------------------------------\")\n",
    "    train_loop(train_dataloader, model, loss_fn, optimizer)\n",
    "    test_loop(test_dataloader, model, loss_fn)\n",
    "print(\"Done!\")"
   ]
  },
  {
   "cell_type": "markdown",
   "id": "J87gdWQ1_XuQ",
   "metadata": {
    "id": "J87gdWQ1_XuQ"
   },
   "source": [
    "<a name='05-05'></a>\n",
    "### 참고 7. **Hyper Parameter Search**"
   ]
  },
  {
   "cell_type": "code",
   "execution_count": null,
   "id": "z2kJZDmw_WLF",
   "metadata": {
    "id": "z2kJZDmw_WLF"
   },
   "outputs": [],
   "source": [
    "from sklearn.model_selection import GridSearchCV\n",
    "\n",
    "# Find best max_depth in np.arange(10, 30, 5)\n",
    "parameters = {'criterion': ['entropy'],\n",
    "              'max_depth': np.arange(10, 30, 5),\n",
    "              'random_state': [0]\n",
    "              }\n",
    "\n",
    "estimator = RandomForestClassifier()\n",
    "clf = GridSearchCV(estimator=estimator, \n",
    "                   param_grid=parameters, \n",
    "                   scoring='accuracy', \n",
    "                   cv=5,\n",
    "                   verbose=3)\n",
    "clf.fit(X_train, y_train)\n",
    "print(clf.best_estimator_)\n",
    "\n",
    "max_depth = clf.cv_results_['param_max_depth'].data\n",
    "mean_test_score = clf.cv_results_['mean_test_score'].data\n",
    "\n",
    "plt.plot(max_depth,\n",
    "         mean_test_score)\n",
    "plt.show()"
   ]
  }
 ],
 "metadata": {
  "accelerator": "GPU",
  "colab": {
   "collapsed_sections": [
    "54777026",
    "d3016eeb",
    "32ab1be0",
    "oV7ZXTfgJ29u",
    "1613901b",
    "008a0e3b",
    "2fcae3e0",
    "gfzs-bjAVj-i",
    "6f6d13a0",
    "2PcYeQBInymH",
    "LrNKtoZcCM5a",
    "7bc5e184",
    "zmgSLBBRm8s_",
    "h_LP_h2URp9f",
    "eT38gErTSypq",
    "JhVAijn6TWSa",
    "6fHoRmpvfgmt",
    "J87gdWQ1_XuQ"
   ],
   "provenance": []
  },
  "gpuClass": "standard",
  "kernelspec": {
   "display_name": "Python 3 (ipykernel)",
   "language": "python",
   "name": "python3"
  },
  "language_info": {
   "codemirror_mode": {
    "name": "ipython",
    "version": 3
   },
   "file_extension": ".py",
   "mimetype": "text/x-python",
   "name": "python",
   "nbconvert_exporter": "python",
   "pygments_lexer": "ipython3",
   "version": "3.9.12"
  }
 },
 "nbformat": 4,
 "nbformat_minor": 5
}
